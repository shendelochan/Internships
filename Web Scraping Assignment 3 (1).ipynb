{
 "cells": [
  {
   "cell_type": "markdown",
   "id": "c9399589",
   "metadata": {},
   "source": [
    "## 1. Write a python program which searches all the product under a particular product from www.amazon.in. The product to be searched will be taken as input from user. For e.g. If user input is ‘guitar’. Then search for guitars."
   ]
  },
  {
   "cell_type": "code",
   "execution_count": 30,
   "id": "a750b58d",
   "metadata": {},
   "outputs": [],
   "source": [
    "import warnings\n",
    "warnings.filterwarnings('ignore')\n",
    "\n",
    "from selenium.common.exceptions import StaleElementReferenceException, NoSuchElementException\n",
    "from selenium.webdriver.common.by import By\n",
    "import requests\n",
    "import selenium\n",
    "from selenium import webdriver\n",
    "import time\n",
    "import pandas as pd\n",
    "from selenium.common.exceptions import StaleElementReferenceException, NoSuchElementException,ElementNotInteractableException,InvalidArgumentException,InvalidArgumentException\n"
   ]
  },
  {
   "cell_type": "code",
   "execution_count": 31,
   "id": "101673e3",
   "metadata": {},
   "outputs": [],
   "source": [
    "driver = webdriver.Chrome(r\"G:\\chromedriver_win32\\chromedriver.exe\")  "
   ]
  },
  {
   "cell_type": "code",
   "execution_count": 32,
   "id": "efd0d4d3",
   "metadata": {},
   "outputs": [],
   "source": [
    "url = 'https://www.amazon.in/'"
   ]
  },
  {
   "cell_type": "code",
   "execution_count": 33,
   "id": "f8dde7e3",
   "metadata": {},
   "outputs": [],
   "source": [
    "#opening the webpage through our driver\n",
    "driver.get(url)"
   ]
  },
  {
   "cell_type": "code",
   "execution_count": 34,
   "id": "f19ba6da",
   "metadata": {},
   "outputs": [
    {
     "name": "stdout",
     "output_type": "stream",
     "text": [
      "Enter an Item to search: laptop\n"
     ]
    }
   ],
   "source": [
    "item = input(\"Enter an Item to search: \")"
   ]
  },
  {
   "cell_type": "code",
   "execution_count": 35,
   "id": "e676b847",
   "metadata": {},
   "outputs": [],
   "source": [
    "search = driver.find_element(By.XPATH,'/html/body/div[1]/header/div/div[1]/div[2]/div/form/div[2]/div[1]/input')\n",
    "search.send_keys(item)"
   ]
  },
  {
   "cell_type": "code",
   "execution_count": 36,
   "id": "f6dca688",
   "metadata": {},
   "outputs": [],
   "source": [
    "search = driver.find_element(By.XPATH,'/html/body/div[1]/header/div/div[1]/div[2]/div/form/div[3]/div/span/input')\n",
    "search.click()"
   ]
  },
  {
   "cell_type": "markdown",
   "id": "3b1c9665",
   "metadata": {},
   "source": [
    "## 2. In the above question, now scrape the following details of each product listed in first 3 pages of your search results and save it in a data frame and csv. In case if any product has less than 3 pages in search results then scrape all the products available under that product name. Details to be scraped are: \"Brand Name\", \"Name of the Product\", \"Price\", \"Return/Exchange\", \"Expected Delivery\", \"Availability\" and “Product URL”. In case, if any of the details are missing for any of the product then replace it by “-“"
   ]
  },
  {
   "cell_type": "markdown",
   "id": "03ef006b",
   "metadata": {},
   "source": [
    "## <font color='red'>Note:- As we discuss the issue regarding this question.As per your Order I Leave this Question but  i solve this question partially.</font>\n",
    "\n"
   ]
  },
  {
   "cell_type": "code",
   "execution_count": 37,
   "id": "4c1c2029",
   "metadata": {},
   "outputs": [],
   "source": [
    "start = 0\n",
    "end = 3\n",
    "pro_url = []\n",
    "for page in range(start, end):\n",
    "    \n",
    "    next_button = driver.find_elements(By.XPATH,\"//a[@class='s-pagination-item s-pagination-next s-pagination-button s-pagination-separator']\") #to scrap data from next page\n",
    "    #next_button.click()\n",
    "    produrl_tag = driver.find_elements(By.XPATH,\"//a[@class='a-link-normal s-underline-text s-underline-link-text s-link-style a-text-normal']\")\n",
    "    for i in produrl_tag:\n",
    "        pro_url.append(i.get_attribute('href'))\n",
    "    time.sleep(3)"
   ]
  },
  {
   "cell_type": "code",
   "execution_count": 38,
   "id": "49598695",
   "metadata": {},
   "outputs": [
    {
     "data": {
      "text/plain": [
       "75"
      ]
     },
     "execution_count": 38,
     "metadata": {},
     "output_type": "execute_result"
    }
   ],
   "source": [
    "len(pro_url)"
   ]
  },
  {
   "cell_type": "code",
   "execution_count": 49,
   "id": "ee114346",
   "metadata": {},
   "outputs": [],
   "source": [
    "prourl = pro_url[0:72]"
   ]
  },
  {
   "cell_type": "code",
   "execution_count": 39,
   "id": "98f11efd",
   "metadata": {},
   "outputs": [],
   "source": [
    "pro_name = []\n",
    "\n",
    "for page in range(0,3):\n",
    "    titles = driver.find_elements(By.XPATH,\"//span[@class='a-size-medium a-color-base a-text-normal']\")\n",
    "    for i in titles:\n",
    "        pro_name.append(i.text)\n",
    "    next_button = driver.find_elements(By.XPATH,\"//a[@class='s-pagination-item s-pagination-next s-pagination-button s-pagination-separator']\") #to scrap data from next page\n",
    "    #next_button.click()\n",
    "    time.sleep(3)"
   ]
  },
  {
   "cell_type": "code",
   "execution_count": 40,
   "id": "db51d01e",
   "metadata": {},
   "outputs": [
    {
     "data": {
      "text/plain": [
       "72"
      ]
     },
     "execution_count": 40,
     "metadata": {},
     "output_type": "execute_result"
    }
   ],
   "source": [
    "len(pro_name)"
   ]
  },
  {
   "cell_type": "code",
   "execution_count": 42,
   "id": "1ea8da9c",
   "metadata": {},
   "outputs": [],
   "source": [
    "pro_price = []\n",
    "\n",
    "for page in range(0,3):\n",
    "    titles = driver.find_elements(By.XPATH,\"//span[@class='a-price-whole']\")\n",
    "    for i in titles:\n",
    "        pro_price.append(i.text)\n",
    "    next_button = driver.find_elements(By.XPATH,\"//a[@class='s-pagination-item s-pagination-next s-pagination-button s-pagination-separator']\") #to scrap data from next page\n",
    "    #next_button.click()\n",
    "    time.sleep(3)"
   ]
  },
  {
   "cell_type": "code",
   "execution_count": 44,
   "id": "f2f98dfe",
   "metadata": {},
   "outputs": [
    {
     "data": {
      "text/plain": [
       "81"
      ]
     },
     "execution_count": 44,
     "metadata": {},
     "output_type": "execute_result"
    }
   ],
   "source": [
    "len(pro_price)"
   ]
  },
  {
   "cell_type": "code",
   "execution_count": 45,
   "id": "225780be",
   "metadata": {},
   "outputs": [],
   "source": [
    "price = pro_price[0:72]"
   ]
  },
  {
   "cell_type": "code",
   "execution_count": 46,
   "id": "f3344ff6",
   "metadata": {},
   "outputs": [],
   "source": [
    "delivery = []\n",
    "\n",
    "for page in range(0,3):\n",
    "    titles = driver.find_elements(By.XPATH,\"//span[@class='a-color-base a-text-bold']\")\n",
    "    for i in titles:\n",
    "        delivery.append(i.text)\n",
    "    next_button = driver.find_elements(By.XPATH,\"//a[@class='s-pagination-item s-pagination-next s-pagination-button s-pagination-separator']\") #to scrap data from next page\n",
    "    #next_button.click()\n",
    "    time.sleep(3)"
   ]
  },
  {
   "cell_type": "code",
   "execution_count": 48,
   "id": "d72e1ae7",
   "metadata": {},
   "outputs": [
    {
     "data": {
      "text/plain": [
       "72"
      ]
     },
     "execution_count": 48,
     "metadata": {},
     "output_type": "execute_result"
    }
   ],
   "source": [
    "len(delivery)"
   ]
  },
  {
   "cell_type": "code",
   "execution_count": null,
   "id": "d7b25844",
   "metadata": {},
   "outputs": [],
   "source": []
  },
  {
   "cell_type": "raw",
   "id": "1e76b76a",
   "metadata": {},
   "source": [
    "brand_na = []\n",
    "for i in pro_url:\n",
    "    driver.get(i)\n",
    "    time.sleep(5)\n",
    "    try:\n",
    "        brand_name = driver.find_element(By.XPATH,\"//td[@class='a-span9']\")\n",
    "        brand_na.append(brand_name.text)\n",
    "    except:\n",
    "        brand_na.append('-')"
   ]
  },
  {
   "cell_type": "raw",
   "id": "fdc9363f",
   "metadata": {},
   "source": [
    "len(brand_na)"
   ]
  },
  {
   "cell_type": "code",
   "execution_count": null,
   "id": "2060141c",
   "metadata": {},
   "outputs": [],
   "source": [
    "exchange = []\n",
    "for i in pro_url:\n",
    "    driver.get(i)\n",
    "    time.sleep(5)\n",
    "    try:\n",
    "        prodtag = driver.find_element(By.XPATH,\"//span[@class='sopp-offer-title']\")\n",
    "        exchange.append(prodtag.text)\n",
    "    except:\n",
    "        exchange.append('-')"
   ]
  },
  {
   "cell_type": "raw",
   "id": "5f882c22",
   "metadata": {},
   "source": [
    "len(exchange)"
   ]
  },
  {
   "cell_type": "code",
   "execution_count": null,
   "id": "0d4d2e71",
   "metadata": {},
   "outputs": [],
   "source": [
    "availability = []\n",
    "for i in pro_url:\n",
    "    driver.get(i)\n",
    "    time.sleep(5)\n",
    "    try:\n",
    "        prodtag = driver.find_element(By.XPATH,\"//span[@class='a-size-medium a-color-success']\")\n",
    "        availability.append(prodtag.text)\n",
    "    except:\n",
    "        availability.append('-')"
   ]
  },
  {
   "cell_type": "raw",
   "id": "d7b48627",
   "metadata": {},
   "source": [
    "len(availability)"
   ]
  },
  {
   "cell_type": "code",
   "execution_count": null,
   "id": "2b137d39",
   "metadata": {},
   "outputs": [],
   "source": [
    "prod_name = []\n",
    "for i in pro_url:\n",
    "    driver.get(i)\n",
    "    time.sleep(5)\n",
    "    try:\n",
    "        prodtag = driver.find_element(By.XPATH,\"//span[@class='a-size-large product-title-word-break']\")\n",
    "        prod_name.append(prodtag.text)\n",
    "    except:\n",
    "        prod_name.append('-')"
   ]
  },
  {
   "cell_type": "raw",
   "id": "77ef5ab8",
   "metadata": {},
   "source": [
    "len(prod_name)"
   ]
  },
  {
   "cell_type": "code",
   "execution_count": null,
   "id": "7592ca55",
   "metadata": {},
   "outputs": [],
   "source": [
    "delivery = []\n",
    "\n",
    "for page in range(0,3):\n",
    "    titles = driver.find_elements(By.XPATH,\"//span[@class='a-color-base a-text-bold']\")\n",
    "    for i in titles:\n",
    "        delivery.append(i.text)\n",
    "    next_button = driver.find_elements(By.XPATH,\"//a[@class='s-pagination-item s-pagination-next s-pagination-button s-pagination-separator']\") #to scrap data from next page\n",
    "    #next_button.click()\n",
    "    time.sleep(3)"
   ]
  },
  {
   "cell_type": "code",
   "execution_count": null,
   "id": "7b7b17b7",
   "metadata": {},
   "outputs": [],
   "source": [
    "len(delivery)"
   ]
  },
  {
   "cell_type": "code",
   "execution_count": 50,
   "id": "95bb32f2",
   "metadata": {},
   "outputs": [
    {
     "data": {
      "text/html": [
       "<div>\n",
       "<style scoped>\n",
       "    .dataframe tbody tr th:only-of-type {\n",
       "        vertical-align: middle;\n",
       "    }\n",
       "\n",
       "    .dataframe tbody tr th {\n",
       "        vertical-align: top;\n",
       "    }\n",
       "\n",
       "    .dataframe thead th {\n",
       "        text-align: right;\n",
       "    }\n",
       "</style>\n",
       "<table border=\"1\" class=\"dataframe\">\n",
       "  <thead>\n",
       "    <tr style=\"text-align: right;\">\n",
       "      <th></th>\n",
       "      <th>Product Name</th>\n",
       "      <th>Price</th>\n",
       "      <th>Delivery Date</th>\n",
       "      <th>Product URL</th>\n",
       "    </tr>\n",
       "  </thead>\n",
       "  <tbody>\n",
       "    <tr>\n",
       "      <th>0</th>\n",
       "      <td>Lenovo IdeaPad Slim 3 11th Gen Intel Core i5 1...</td>\n",
       "      <td>54,990</td>\n",
       "      <td>tomorrow, September 22</td>\n",
       "      <td>https://www.amazon.in/sspa/click?ie=UTF8&amp;spc=M...</td>\n",
       "    </tr>\n",
       "    <tr>\n",
       "      <th>1</th>\n",
       "      <td>Lenovo IdeaPad Slim 5 Intel Core i5 11th Gen 1...</td>\n",
       "      <td>60,098</td>\n",
       "      <td>tomorrow, September 22</td>\n",
       "      <td>https://www.amazon.in/sspa/click?ie=UTF8&amp;spc=M...</td>\n",
       "    </tr>\n",
       "    <tr>\n",
       "      <th>2</th>\n",
       "      <td>ASUS VivoBook 15 (2021), 15.6-inch (39.62 cm) ...</td>\n",
       "      <td>25,990</td>\n",
       "      <td>Today, September 21</td>\n",
       "      <td>https://www.amazon.in/ASUS-15-6-inch-Integrate...</td>\n",
       "    </tr>\n",
       "    <tr>\n",
       "      <th>3</th>\n",
       "      <td>Lenovo IdeaPad Slim 1 Intel Celeron N4020 4th ...</td>\n",
       "      <td>19,990</td>\n",
       "      <td>tomorrow, September 22</td>\n",
       "      <td>https://www.amazon.in/Lenovo-IdeaPad-Celeron-P...</td>\n",
       "    </tr>\n",
       "    <tr>\n",
       "      <th>4</th>\n",
       "      <td>Lenovo IdeaPad Slim 3 Intel Celeron N4020 4th ...</td>\n",
       "      <td>25,990</td>\n",
       "      <td>tomorrow, September 22</td>\n",
       "      <td>https://www.amazon.in/Lenovo-IdeaPad-Warranty-...</td>\n",
       "    </tr>\n",
       "    <tr>\n",
       "      <th>...</th>\n",
       "      <td>...</td>\n",
       "      <td>...</td>\n",
       "      <td>...</td>\n",
       "      <td>...</td>\n",
       "    </tr>\n",
       "    <tr>\n",
       "      <th>67</th>\n",
       "      <td>Dell Inspiron 3521 Laptop, Intel PQC-N5030, Wi...</td>\n",
       "      <td>55,929</td>\n",
       "      <td>Today, September 21</td>\n",
       "      <td>https://www.amazon.in/ASUS-GeForce-RTX-3050-Gr...</td>\n",
       "    </tr>\n",
       "    <tr>\n",
       "      <th>68</th>\n",
       "      <td>HP 14s, 12th Gen Intel Core i5 16GB RAM/512GB ...</td>\n",
       "      <td>1,02,999</td>\n",
       "      <td>Today, September 21</td>\n",
       "      <td>https://www.amazon.in/Renewed-Dell-Latitude-La...</td>\n",
       "    </tr>\n",
       "    <tr>\n",
       "      <th>69</th>\n",
       "      <td>Acer Aspire 3 AMD 3020e Dual core Processor 14...</td>\n",
       "      <td>1,06,999</td>\n",
       "      <td>Today, September 21</td>\n",
       "      <td>https://www.amazon.in/Honor-MagicBook-Anti-Gla...</td>\n",
       "    </tr>\n",
       "    <tr>\n",
       "      <th>70</th>\n",
       "      <td>HP Spectre X360 11th Gen Intel Evo Core i5 13....</td>\n",
       "      <td>19,028</td>\n",
       "      <td>Friday, September 23</td>\n",
       "      <td>https://www.amazon.in/HP-Micro-Edge-Keyboard-G...</td>\n",
       "    </tr>\n",
       "    <tr>\n",
       "      <th>71</th>\n",
       "      <td>Lenovo IdeaPad Flex 5 AMD Ryzen 5 5500U 14\" (3...</td>\n",
       "      <td>30,919</td>\n",
       "      <td>tomorrow, September 22</td>\n",
       "      <td>https://www.amazon.in/Dell-3521-PQC-N5030-Anti...</td>\n",
       "    </tr>\n",
       "  </tbody>\n",
       "</table>\n",
       "<p>72 rows × 4 columns</p>\n",
       "</div>"
      ],
      "text/plain": [
       "                                         Product Name     Price  \\\n",
       "0   Lenovo IdeaPad Slim 3 11th Gen Intel Core i5 1...    54,990   \n",
       "1   Lenovo IdeaPad Slim 5 Intel Core i5 11th Gen 1...    60,098   \n",
       "2   ASUS VivoBook 15 (2021), 15.6-inch (39.62 cm) ...    25,990   \n",
       "3   Lenovo IdeaPad Slim 1 Intel Celeron N4020 4th ...    19,990   \n",
       "4   Lenovo IdeaPad Slim 3 Intel Celeron N4020 4th ...    25,990   \n",
       "..                                                ...       ...   \n",
       "67  Dell Inspiron 3521 Laptop, Intel PQC-N5030, Wi...    55,929   \n",
       "68  HP 14s, 12th Gen Intel Core i5 16GB RAM/512GB ...  1,02,999   \n",
       "69  Acer Aspire 3 AMD 3020e Dual core Processor 14...  1,06,999   \n",
       "70  HP Spectre X360 11th Gen Intel Evo Core i5 13....    19,028   \n",
       "71  Lenovo IdeaPad Flex 5 AMD Ryzen 5 5500U 14\" (3...    30,919   \n",
       "\n",
       "             Delivery Date                                        Product URL  \n",
       "0   tomorrow, September 22  https://www.amazon.in/sspa/click?ie=UTF8&spc=M...  \n",
       "1   tomorrow, September 22  https://www.amazon.in/sspa/click?ie=UTF8&spc=M...  \n",
       "2      Today, September 21  https://www.amazon.in/ASUS-15-6-inch-Integrate...  \n",
       "3   tomorrow, September 22  https://www.amazon.in/Lenovo-IdeaPad-Celeron-P...  \n",
       "4   tomorrow, September 22  https://www.amazon.in/Lenovo-IdeaPad-Warranty-...  \n",
       "..                     ...                                                ...  \n",
       "67     Today, September 21  https://www.amazon.in/ASUS-GeForce-RTX-3050-Gr...  \n",
       "68     Today, September 21  https://www.amazon.in/Renewed-Dell-Latitude-La...  \n",
       "69     Today, September 21  https://www.amazon.in/Honor-MagicBook-Anti-Gla...  \n",
       "70    Friday, September 23  https://www.amazon.in/HP-Micro-Edge-Keyboard-G...  \n",
       "71  tomorrow, September 22  https://www.amazon.in/Dell-3521-PQC-N5030-Anti...  \n",
       "\n",
       "[72 rows x 4 columns]"
      ]
     },
     "execution_count": 50,
     "metadata": {},
     "output_type": "execute_result"
    }
   ],
   "source": [
    "df = pd.DataFrame({'Product Name':pro_name, 'Price':price,'Delivery Date':delivery,'Product URL':prourl,})\n",
    "df"
   ]
  },
  {
   "cell_type": "raw",
   "id": "29b337df",
   "metadata": {},
   "source": [
    "df = pd.DataFrame({'Brand Name':brand_na,'Product Name':pro_name, 'Price':price,'Delivery Date':delivery,'Product URL':prourl,'Availability':availability,'Exchange':exchange})\n",
    "df"
   ]
  },
  {
   "cell_type": "markdown",
   "id": "a3447f85",
   "metadata": {},
   "source": [
    "## 3. Write a python program to access the search bar and search button on images.google.com and scrape 10 images each for keywords ‘fruits’, ‘cars’ and ‘Machine Learning’, ‘Guitar’, ‘Cakes’"
   ]
  },
  {
   "cell_type": "code",
   "execution_count": 2,
   "id": "fa119a1d",
   "metadata": {},
   "outputs": [],
   "source": [
    "a = ['fruits','cars','Machine Learning','Guitar','Cake']"
   ]
  },
  {
   "cell_type": "code",
   "execution_count": 5,
   "id": "9936e160",
   "metadata": {},
   "outputs": [],
   "source": [
    "for k in a:\n",
    "    url =  \"https://images.google.com/?gws_rd=ssl\"\n",
    "    driver = webdriver.Chrome(r\"G:\\chromedriver_win32\\chromedriver.exe\")\n",
    "    driver.get(url)\n",
    "    search = driver.find_element(By.XPATH,'/html/body/div[1]/div[3]/form/div[1]/div[1]/div[1]/div/div[2]/input')\n",
    "    search.send_keys(k)\n",
    "    time.sleep(3)\n",
    "    searchbtn = driver.find_element(By.XPATH,'/html/body/div[1]/div[3]/form/div[1]/div[1]/div[1]/button')\n",
    "    searchbtn.click()\n",
    "    time.sleep(5)\n",
    "    imgsrc = []\n",
    "    imgurl = []\n",
    "    image_tag = driver.find_elements(By.XPATH,\"//img[@class='rHLoR']\")\n",
    "    i=0\n",
    "    while(i<320):\n",
    "        driver.execute_script(\"window.scrollBy(0,500000)\") # scroll down to get more images\n",
    "        i+=1\n",
    "    time.sleep(5)\n",
    "    image_tag = driver.find_elements(By.XPATH,\"//img[@class='rHLoR']\")\n",
    "    for i in image_tag:\n",
    "        imgurl.append(i.get_attribute('src'))\n",
    "    for i in imgurl:\n",
    "        if i != None and i[0:8] =='https://': #extracing image urls\n",
    "             imgsrc.append(i)\n",
    "        \n",
    "    for i in range(0,10):\n",
    "        \n",
    "        d = requests.get(imgsrc[i])\n",
    "        with open(\"E:/imgs/\"+k+str(i)+\".png\",\"wb\") as file: #opening as file to be written in binary mode\n",
    "        \n",
    "          file.write(d.content) #saving image in direcotry from source url\n",
    "    driver.quit()     "
   ]
  },
  {
   "cell_type": "markdown",
   "id": "1b102474",
   "metadata": {},
   "source": [
    "## 4. Write a python program to search for a smartphone(e.g.: Oneplus Nord, pixel 4A, etc.) on www.flipkart.com and scrape following details for all the search results displayed on 1st page. Details to be scraped: “Brand Name”, “Smartphone name”, “Colour”, “RAM”, “Storage(ROM)”, “Primary Camera”, “Secondary Camera”, “Display Size”, “Battery Capacity”, “Price”, “Product URL”. Incase if any of the details is missing then replace it by “- “. Save your results in a dataframe and CSV.\n"
   ]
  },
  {
   "cell_type": "code",
   "execution_count": 79,
   "id": "ac6cc916",
   "metadata": {},
   "outputs": [],
   "source": [
    "driver = webdriver.Chrome(r\"G:\\chromedriver_win32\\chromedriver.exe\")"
   ]
  },
  {
   "cell_type": "code",
   "execution_count": 80,
   "id": "fe727e93",
   "metadata": {},
   "outputs": [],
   "source": [
    "url =  'https://www.flipkart.com/'"
   ]
  },
  {
   "cell_type": "code",
   "execution_count": 81,
   "id": "ffb62aa1",
   "metadata": {},
   "outputs": [],
   "source": [
    "#opening the webpage through our driver\n",
    "driver.get(url)"
   ]
  },
  {
   "cell_type": "code",
   "execution_count": 82,
   "id": "72f2aae0",
   "metadata": {},
   "outputs": [
    {
     "name": "stdout",
     "output_type": "stream",
     "text": [
      "Enter a smartphone name to search:samsung galaxy s20+\n"
     ]
    }
   ],
   "source": [
    "item = input(\"Enter a smartphone name to search:\")"
   ]
  },
  {
   "cell_type": "code",
   "execution_count": 83,
   "id": "274c81d4",
   "metadata": {},
   "outputs": [],
   "source": [
    "search = driver.find_element(By.XPATH,'/html/body/div[1]/div/div[1]/div[1]/div[2]/div[2]/form/div/div/input')\n",
    "search.send_keys(item)\n",
    "searchbtn = driver.find_element(By.CLASS_NAME,'L0Z3Pu')\n",
    "searchbtn.click()"
   ]
  },
  {
   "cell_type": "code",
   "execution_count": 84,
   "id": "62ab6e9c",
   "metadata": {},
   "outputs": [],
   "source": [
    "produrl = []"
   ]
  },
  {
   "cell_type": "code",
   "execution_count": 85,
   "id": "50bedaee",
   "metadata": {},
   "outputs": [],
   "source": [
    "produrl_tag = driver.find_elements(By.XPATH,\"//a[@class='_1fQZEK']\")\n",
    "for u in produrl_tag:\n",
    "     produrl.append(u.get_attribute(\"href\"))\n",
    "\n",
    "sep = ' | '"
   ]
  },
  {
   "cell_type": "code",
   "execution_count": 86,
   "id": "d7228f18",
   "metadata": {},
   "outputs": [
    {
     "data": {
      "text/plain": [
       "18"
      ]
     },
     "execution_count": 86,
     "metadata": {},
     "output_type": "execute_result"
    }
   ],
   "source": [
    "len(produrl)"
   ]
  },
  {
   "cell_type": "code",
   "execution_count": 87,
   "id": "4662627e",
   "metadata": {},
   "outputs": [],
   "source": [
    "Brand = []\n",
    "prod = []\n",
    "Colour = []\n",
    "RAM = []\n",
    "price = []\n",
    "Storage = []\n",
    "PrimCamera = []\n",
    "SecCamera = []\n",
    "DispSize = []\n",
    "BatteryCap = []\n",
    "Processor = []\n",
    "ProcCores = []"
   ]
  },
  {
   "cell_type": "code",
   "execution_count": 88,
   "id": "cbed9355",
   "metadata": {},
   "outputs": [],
   "source": [
    "for i in produrl:\n",
    "    driver.get(i)\n",
    "    time.sleep(3)\n",
    "    morebtn = driver.find_element(By.XPATH,\"//button[@class='_2KpZ6l _1FH0tX']\")\n",
    "    morebtn.click()\n",
    "    time.sleep(5)\n",
    "    try:\n",
    "        brandtag = driver.find_element(By.XPATH,\"/html/body/div[1]/div/div[3]/div[1]/div[2]/div[1]/div[1]/div/div[4]/a\")\n",
    "        Brand.append(brandtag.text)\n",
    "    except:\n",
    "        Brand.append('-')\n",
    "    try:\n",
    "        prodtag = driver.find_element(By.XPATH,\"//span[@class='B_NuCI']\")\n",
    "        prod.append(prodtag.text)\n",
    "    except:\n",
    "        prod.append('-')\n",
    "    try:\n",
    "        Colourtag = driver.find_element(By.XPATH,\"//div[@class='_3k-BhJ'][1]/table/tbody/tr[4]/td[2]/ul/li\")\n",
    "        Colour.append(Colourtag.text)\n",
    "    except NoSuchElementException:\n",
    "        Colour.append('-')\n",
    "    try:\n",
    "        RAMtag = driver.find_element(By.XPATH,\"//div[@class='_3k-BhJ'][4]/table/tbody/tr[2]/td[2]/ul/li\")\n",
    "        RAM.append(RAMtag.text)\n",
    "    except:\n",
    "        RAM.append('-')\n",
    "    try:\n",
    "        pricetag = driver.find_element(By.XPATH,\"//div[@class='_30jeq3 _16Jk6d']\")\n",
    "        price.append(pricetag.text)\n",
    "    except:\n",
    "        price.append('-')\n",
    "    \n",
    "    try:\n",
    "        Storagetag = driver.find_element(By.XPATH,\"//div[@class='_3k-BhJ'][4]/table/tbody/tr[1]/td[2]/ul/li\")\n",
    "        Storage.append(Storagetag.text)\n",
    "    except:\n",
    "        Storage.append('-')\n",
    "    \n",
    "    try:\n",
    "        PrimCameratag = driver.find_element(By.XPATH,\"//div[@class='_2418kt']/ul/li[3]\")\n",
    "        PrimCamera.append(PrimCameratag.text.split(sep, 1)[0])\n",
    "    except:\n",
    "        PrimCamera.append('-')\n",
    "    \n",
    "    try:\n",
    "        SecCameratag = driver.find_element(By.XPATH,\"//div[@class='_2418kt']/ul/li[3]\")\n",
    "        SecCamera.append(SecCameratag.text.split(sep, 1)[1])\n",
    "    except:\n",
    "        SecCamera.append('-')\n",
    "    \n",
    "    try:\n",
    "        DispSizetag = driver.find_element(By.XPATH,\"//div[@class='_3k-BhJ'][2]/table/tbody/tr[1]/td[2]/ul/li\")\n",
    "        DispSize.append(DispSizetag.text)\n",
    "    except:\n",
    "        DispSize.append('-')\n",
    "        \n",
    "    try:\n",
    "        Processor_tag = driver.find_element(By.XPATH,\"//div[@class='_3k-BhJ'][3]/table/tbody/tr[2]/td[2]/ul/li\")\n",
    "        Processor.append(Processor_tag.text)\n",
    "    except:\n",
    "        Processor.append('-')\n",
    "        \n",
    "    try:\n",
    "        ProcCores_tag = driver.find_element(By.XPATH,\"//div[@class='_3k-BhJ'][3]/table/tbody/tr[3]/td[2]/ul/li\")\n",
    "        ProcCores.append(ProcCores_tag.text)\n",
    "    except:\n",
    "        ProcCores.append('-')  \n",
    "    \n",
    "    try:\n",
    "        BatteryCap_tag = driver.find_element(By.XPATH,\"//div[@class='_2418kt']/ul/li[4]\")  # _21lJbe\n",
    "        BatteryCap.append(BatteryCap_tag.text)\n",
    "    except:\n",
    "        BatteryCap.append('-')        \n",
    "            "
   ]
  },
  {
   "cell_type": "code",
   "execution_count": 89,
   "id": "d939c9d7",
   "metadata": {},
   "outputs": [
    {
     "data": {
      "text/plain": [
       "(18, 18, 18, 18, 18, 18, 18, 18, 18, 18, 18, 18)"
      ]
     },
     "execution_count": 89,
     "metadata": {},
     "output_type": "execute_result"
    }
   ],
   "source": [
    "len(Brand), len(prod), len(Colour), len(RAM), len(price), len(Storage), len(PrimCamera), len(SecCamera), len(DispSize), len(BatteryCap), len(Processor), len(ProcCores)"
   ]
  },
  {
   "cell_type": "code",
   "execution_count": 94,
   "id": "313f89fd",
   "metadata": {},
   "outputs": [],
   "source": [
    "Smartphone = {'Brand Name':Brand,'Smartphone Name':prod,'Price(₹)':price,'Colour':Colour,'RAM':RAM ,'Storage(ROM)':Storage,'Primary Camera':PrimCamera,'Secondary Camera':SecCamera,'Display Size':DispSize,'Battery Capacity':BatteryCap,'Processor':Processor,'Processor Cores':ProcCores,'Product URL':produrl}\n",
    "\n",
    "Smartphonedf  = pd.DataFrame(Smartphone)"
   ]
  },
  {
   "cell_type": "code",
   "execution_count": 95,
   "id": "403ffdf5",
   "metadata": {},
   "outputs": [
    {
     "data": {
      "text/html": [
       "<div>\n",
       "<style scoped>\n",
       "    .dataframe tbody tr th:only-of-type {\n",
       "        vertical-align: middle;\n",
       "    }\n",
       "\n",
       "    .dataframe tbody tr th {\n",
       "        vertical-align: top;\n",
       "    }\n",
       "\n",
       "    .dataframe thead th {\n",
       "        text-align: right;\n",
       "    }\n",
       "</style>\n",
       "<table border=\"1\" class=\"dataframe\">\n",
       "  <thead>\n",
       "    <tr style=\"text-align: right;\">\n",
       "      <th></th>\n",
       "      <th>Brand Name</th>\n",
       "      <th>Smartphone Name</th>\n",
       "      <th>Price(₹)</th>\n",
       "      <th>Colour</th>\n",
       "      <th>RAM</th>\n",
       "      <th>Storage(ROM)</th>\n",
       "      <th>Primary Camera</th>\n",
       "      <th>Secondary Camera</th>\n",
       "      <th>Display Size</th>\n",
       "      <th>Battery Capacity</th>\n",
       "      <th>Processor</th>\n",
       "      <th>Processor Cores</th>\n",
       "      <th>Product URL</th>\n",
       "    </tr>\n",
       "  </thead>\n",
       "  <tbody>\n",
       "    <tr>\n",
       "      <th>0</th>\n",
       "      <td>SAMSUNG Mobiles</td>\n",
       "      <td>SAMSUNG Galaxy S20+ (Cosmic Black, 128 GB)  (8...</td>\n",
       "      <td>₹54,999</td>\n",
       "      <td>Cosmic Black</td>\n",
       "      <td>8 GB</td>\n",
       "      <td>128 GB</td>\n",
       "      <td>64 MP + 12 MP +12 MP + VGA Depth Camera</td>\n",
       "      <td>10MP Front Camera</td>\n",
       "      <td>17.02 cm (6.7 inch)</td>\n",
       "      <td>4500 mAh Lithium-ion Battery</td>\n",
       "      <td>Exynos 990</td>\n",
       "      <td>Octa Core</td>\n",
       "      <td>https://www.flipkart.com/samsung-galaxy-s20-co...</td>\n",
       "    </tr>\n",
       "    <tr>\n",
       "      <th>1</th>\n",
       "      <td>SAMSUNG Mobiles</td>\n",
       "      <td>SAMSUNG Galaxy S20 FE (Cloud Lavender, 128 GB)...</td>\n",
       "      <td>₹49,999</td>\n",
       "      <td>Cloud Lavender</td>\n",
       "      <td>8 GB</td>\n",
       "      <td>128 GB</td>\n",
       "      <td>12MP + 12MP + 8MP Rear Camera</td>\n",
       "      <td>32MP Front Camera</td>\n",
       "      <td>16.51 cm (6.5 inch)</td>\n",
       "      <td>4500 mAh Lithium Ion Battery</td>\n",
       "      <td>Exynos Octa Core</td>\n",
       "      <td>Octa Core</td>\n",
       "      <td>https://www.flipkart.com/samsung-galaxy-s20-fe...</td>\n",
       "    </tr>\n",
       "    <tr>\n",
       "      <th>2</th>\n",
       "      <td>SAMSUNG Mobiles</td>\n",
       "      <td>SAMSUNG Galaxy A20s (Green, 32 GB)  (3 GB RAM)</td>\n",
       "      <td>₹12,900</td>\n",
       "      <td>Green</td>\n",
       "      <td>3 GB</td>\n",
       "      <td>32 GB</td>\n",
       "      <td>13MP + 8MP + 5MP</td>\n",
       "      <td>8MP Front Camera</td>\n",
       "      <td>16.51 cm (6.5 inch)</td>\n",
       "      <td>4000 mAh Lithium Ion Battery</td>\n",
       "      <td>Qualcomm SDM450-B01</td>\n",
       "      <td>Octa Core</td>\n",
       "      <td>https://www.flipkart.com/samsung-galaxy-a20s-g...</td>\n",
       "    </tr>\n",
       "    <tr>\n",
       "      <th>3</th>\n",
       "      <td>SAMSUNG Mobiles</td>\n",
       "      <td>SAMSUNG Galaxy S20 FE (Cloud Navy, 128 GB)  (8...</td>\n",
       "      <td>₹49,999</td>\n",
       "      <td>Cloud Navy</td>\n",
       "      <td>8 GB</td>\n",
       "      <td>128 GB</td>\n",
       "      <td>12MP + 12MP + 8MP Rear Camera</td>\n",
       "      <td>32MP Front Camera</td>\n",
       "      <td>16.51 cm (6.5 inch)</td>\n",
       "      <td>4500 mAh Lithium Ion Battery</td>\n",
       "      <td>Exynos Octa Core</td>\n",
       "      <td>Octa Core</td>\n",
       "      <td>https://www.flipkart.com/samsung-galaxy-s20-fe...</td>\n",
       "    </tr>\n",
       "    <tr>\n",
       "      <th>4</th>\n",
       "      <td>SAMSUNG Mobiles</td>\n",
       "      <td>SAMSUNG Galaxy S20 FE (Cloud White, 128 GB)  (...</td>\n",
       "      <td>₹49,999</td>\n",
       "      <td>Cloud White</td>\n",
       "      <td>8 GB</td>\n",
       "      <td>128 GB</td>\n",
       "      <td>12MP + 12MP + 8MP Rear Camera</td>\n",
       "      <td>32MP Front Camera</td>\n",
       "      <td>16.51 cm (6.5 inch)</td>\n",
       "      <td>4500 mAh Lithium Ion Battery</td>\n",
       "      <td>Exynos Octa Core</td>\n",
       "      <td>Octa Core</td>\n",
       "      <td>https://www.flipkart.com/samsung-galaxy-s20-fe...</td>\n",
       "    </tr>\n",
       "    <tr>\n",
       "      <th>5</th>\n",
       "      <td>SAMSUNG Mobiles</td>\n",
       "      <td>SAMSUNG Galaxy S10 (Prism White, 512 GB)  (8 G...</td>\n",
       "      <td>₹71,400</td>\n",
       "      <td>Prism White</td>\n",
       "      <td>8 GB</td>\n",
       "      <td>512 GB</td>\n",
       "      <td>16MP + 12MP</td>\n",
       "      <td>10MP Front Camera</td>\n",
       "      <td>15.49 cm (6.1 inch)</td>\n",
       "      <td>3400 mAh Lithium-ion Battery</td>\n",
       "      <td>Exynos 9 9820</td>\n",
       "      <td>Octa Core</td>\n",
       "      <td>https://www.flipkart.com/samsung-galaxy-s10-pr...</td>\n",
       "    </tr>\n",
       "    <tr>\n",
       "      <th>6</th>\n",
       "      <td>SAMSUNG Mobiles</td>\n",
       "      <td>SAMSUNG Galaxy A20s (Blue, 32 GB)  (3 GB RAM)</td>\n",
       "      <td>₹12,900</td>\n",
       "      <td>Blue</td>\n",
       "      <td>3 GB</td>\n",
       "      <td>32 GB</td>\n",
       "      <td>13MP + 8MP + 5MP</td>\n",
       "      <td>8MP Front Camera</td>\n",
       "      <td>16.51 cm (6.5 inch)</td>\n",
       "      <td>4000 mAh Lithium Ion Battery</td>\n",
       "      <td>Qualcomm SDM450-B01</td>\n",
       "      <td>Octa Core</td>\n",
       "      <td>https://www.flipkart.com/samsung-galaxy-a20s-b...</td>\n",
       "    </tr>\n",
       "    <tr>\n",
       "      <th>7</th>\n",
       "      <td>SAMSUNG Mobiles</td>\n",
       "      <td>SAMSUNG Galaxy S20 FE (Cloud Mint, 128 GB)  (8...</td>\n",
       "      <td>₹49,999</td>\n",
       "      <td>Cloud Mint</td>\n",
       "      <td>8 GB</td>\n",
       "      <td>128 GB</td>\n",
       "      <td>12MP + 12MP + 8MP Rear Camera</td>\n",
       "      <td>32MP Front Camera</td>\n",
       "      <td>16.51 cm (6.5 inch)</td>\n",
       "      <td>4500 mAh Lithium Ion Battery</td>\n",
       "      <td>Exynos Octa Core</td>\n",
       "      <td>Octa Core</td>\n",
       "      <td>https://www.flipkart.com/samsung-galaxy-s20-fe...</td>\n",
       "    </tr>\n",
       "    <tr>\n",
       "      <th>8</th>\n",
       "      <td>SAMSUNG Mobiles</td>\n",
       "      <td>SAMSUNG Galaxy A20s (Black, 32 GB)  (3 GB RAM)</td>\n",
       "      <td>₹12,900</td>\n",
       "      <td>Black</td>\n",
       "      <td>3 GB</td>\n",
       "      <td>32 GB</td>\n",
       "      <td>13MP + 8MP + 5MP</td>\n",
       "      <td>8MP Front Camera</td>\n",
       "      <td>16.51 cm (6.5 inch)</td>\n",
       "      <td>4000 mAh Lithium Ion Battery</td>\n",
       "      <td>Qualcomm SDM450-B01</td>\n",
       "      <td>Octa Core</td>\n",
       "      <td>https://www.flipkart.com/samsung-galaxy-a20s-b...</td>\n",
       "    </tr>\n",
       "    <tr>\n",
       "      <th>9</th>\n",
       "      <td>SAMSUNG Mobiles</td>\n",
       "      <td>SAMSUNG Galaxy A30s (Prism Crush Violet, 64 GB...</td>\n",
       "      <td>₹15,949</td>\n",
       "      <td>Prism Crush Violet</td>\n",
       "      <td>4 GB</td>\n",
       "      <td>64 GB</td>\n",
       "      <td>25MP + 5MP + 8MP</td>\n",
       "      <td>16MP Front Camera</td>\n",
       "      <td>16.26 cm (6.4 inch)</td>\n",
       "      <td>4000 mAh Li-ion Battery</td>\n",
       "      <td>Exynos 7904</td>\n",
       "      <td>Octa Core</td>\n",
       "      <td>https://www.flipkart.com/samsung-galaxy-a30s-p...</td>\n",
       "    </tr>\n",
       "    <tr>\n",
       "      <th>10</th>\n",
       "      <td>SAMSUNG Mobiles</td>\n",
       "      <td>SAMSUNG Galaxy M30s (Blue, 64 GB)  (4 GB RAM)</td>\n",
       "      <td>₹14,082</td>\n",
       "      <td>Blue</td>\n",
       "      <td>4 GB</td>\n",
       "      <td>64 GB</td>\n",
       "      <td>48MP Rear Camera</td>\n",
       "      <td>16MP Front Camera</td>\n",
       "      <td>16.26 cm (6.4 inch)</td>\n",
       "      <td>6000 mAh Battery</td>\n",
       "      <td>Exynos 9611</td>\n",
       "      <td>Octa Core</td>\n",
       "      <td>https://www.flipkart.com/samsung-galaxy-m30s-b...</td>\n",
       "    </tr>\n",
       "    <tr>\n",
       "      <th>11</th>\n",
       "      <td>SAMSUNG Mobiles</td>\n",
       "      <td>SAMSUNG Galaxy S20 Ultra (Cosmic Black, 128 GB...</td>\n",
       "      <td>₹69,799</td>\n",
       "      <td>Cosmic Black</td>\n",
       "      <td>12 GB</td>\n",
       "      <td>128 GB</td>\n",
       "      <td>108 MP + 48 MP + 12 MP + VGA Depth Camera</td>\n",
       "      <td>40MP Front Camera</td>\n",
       "      <td>17.53 cm (6.9 inch)</td>\n",
       "      <td>5000 mAh Lithium-ion Battery</td>\n",
       "      <td>Exynos 990</td>\n",
       "      <td>Octa Core</td>\n",
       "      <td>https://www.flipkart.com/samsung-galaxy-s20-ul...</td>\n",
       "    </tr>\n",
       "    <tr>\n",
       "      <th>12</th>\n",
       "      <td>SAMSUNG Mobiles</td>\n",
       "      <td>SAMSUNG Galaxy S20 FE (Cloud Navy, 256 GB)  (8...</td>\n",
       "      <td>₹34,990</td>\n",
       "      <td>Cloud Navy</td>\n",
       "      <td>8 GB</td>\n",
       "      <td>256 GB</td>\n",
       "      <td>12MP Rear Camera</td>\n",
       "      <td>-</td>\n",
       "      <td>16.51 cm (6.5 inch)</td>\n",
       "      <td>4500 mAh Battery</td>\n",
       "      <td>Octa Core</td>\n",
       "      <td>2.73 GHz</td>\n",
       "      <td>https://www.flipkart.com/samsung-galaxy-s20-fe...</td>\n",
       "    </tr>\n",
       "    <tr>\n",
       "      <th>13</th>\n",
       "      <td>SAMSUNG Mobiles</td>\n",
       "      <td>SAMSUNG Galaxy S20 FE (Cloud Red, 128 GB)  (8 ...</td>\n",
       "      <td>₹49,999</td>\n",
       "      <td>Cloud Red</td>\n",
       "      <td>8 GB</td>\n",
       "      <td>128 GB</td>\n",
       "      <td>12MP + 12MP + 8MP Rear Camera</td>\n",
       "      <td>32MP Front Camera</td>\n",
       "      <td>16.51 cm (6.5 inch)</td>\n",
       "      <td>4500 mAh Lithium Ion Battery</td>\n",
       "      <td>Exynos Octa Core</td>\n",
       "      <td>Octa Core</td>\n",
       "      <td>https://www.flipkart.com/samsung-galaxy-s20-fe...</td>\n",
       "    </tr>\n",
       "    <tr>\n",
       "      <th>14</th>\n",
       "      <td>-</td>\n",
       "      <td>SAMSUNG Galaxy M30s (White, 64 GB)  (4 GB RAM)</td>\n",
       "      <td>₹15,490</td>\n",
       "      <td>White</td>\n",
       "      <td>4 GB</td>\n",
       "      <td>64 GB</td>\n",
       "      <td>48MP Rear Camera</td>\n",
       "      <td>16MP Front Camera</td>\n",
       "      <td>16.26 cm (6.4 inch)</td>\n",
       "      <td>6000 mAh Battery</td>\n",
       "      <td>Exynos 9611</td>\n",
       "      <td>Octa Core</td>\n",
       "      <td>https://www.flipkart.com/samsung-galaxy-m30s-w...</td>\n",
       "    </tr>\n",
       "    <tr>\n",
       "      <th>15</th>\n",
       "      <td>SAMSUNG Mobiles</td>\n",
       "      <td>SAMSUNG Galaxy S10 (Prism Blue, 128 GB)  (8 GB...</td>\n",
       "      <td>₹39,999</td>\n",
       "      <td>Prism Blue</td>\n",
       "      <td>8 GB</td>\n",
       "      <td>128 GB</td>\n",
       "      <td>16MP + 12MP</td>\n",
       "      <td>10MP Front Camera</td>\n",
       "      <td>15.49 cm (6.1 inch)</td>\n",
       "      <td>3400 mAh Lithium-ion Battery</td>\n",
       "      <td>Exynos 9 9820</td>\n",
       "      <td>Octa Core</td>\n",
       "      <td>https://www.flipkart.com/samsung-galaxy-s10-pr...</td>\n",
       "    </tr>\n",
       "    <tr>\n",
       "      <th>16</th>\n",
       "      <td>SAMSUNG Mobiles</td>\n",
       "      <td>SAMSUNG Galaxy M30S (Black, 128 GB)  (4 GB RAM)</td>\n",
       "      <td>₹14,990</td>\n",
       "      <td>Black</td>\n",
       "      <td>4 GB</td>\n",
       "      <td>128 GB</td>\n",
       "      <td>48MP + 8MP</td>\n",
       "      <td>16MP Front Camera</td>\n",
       "      <td>16.26 cm (6.4 inch)</td>\n",
       "      <td>6000 mAh Battery</td>\n",
       "      <td>Octa Core</td>\n",
       "      <td>2.3 GHz</td>\n",
       "      <td>https://www.flipkart.com/samsung-galaxy-m30s-b...</td>\n",
       "    </tr>\n",
       "    <tr>\n",
       "      <th>17</th>\n",
       "      <td>-</td>\n",
       "      <td>SAMSUNG Galaxy M30s (White, 128 GB)  (6 GB RAM)</td>\n",
       "      <td>₹16,999</td>\n",
       "      <td>White</td>\n",
       "      <td>6 GB</td>\n",
       "      <td>128 GB</td>\n",
       "      <td>48MP + 48MP + 8MP + 5MP</td>\n",
       "      <td>16MP Front Camera</td>\n",
       "      <td>16.26 cm (6.4 inch)</td>\n",
       "      <td>6000 mAh Battery</td>\n",
       "      <td>Exynos 9611</td>\n",
       "      <td>Octa Core</td>\n",
       "      <td>https://www.flipkart.com/samsung-galaxy-m30s-w...</td>\n",
       "    </tr>\n",
       "  </tbody>\n",
       "</table>\n",
       "</div>"
      ],
      "text/plain": [
       "         Brand Name                                    Smartphone Name  \\\n",
       "0   SAMSUNG Mobiles  SAMSUNG Galaxy S20+ (Cosmic Black, 128 GB)  (8...   \n",
       "1   SAMSUNG Mobiles  SAMSUNG Galaxy S20 FE (Cloud Lavender, 128 GB)...   \n",
       "2   SAMSUNG Mobiles     SAMSUNG Galaxy A20s (Green, 32 GB)  (3 GB RAM)   \n",
       "3   SAMSUNG Mobiles  SAMSUNG Galaxy S20 FE (Cloud Navy, 128 GB)  (8...   \n",
       "4   SAMSUNG Mobiles  SAMSUNG Galaxy S20 FE (Cloud White, 128 GB)  (...   \n",
       "5   SAMSUNG Mobiles  SAMSUNG Galaxy S10 (Prism White, 512 GB)  (8 G...   \n",
       "6   SAMSUNG Mobiles      SAMSUNG Galaxy A20s (Blue, 32 GB)  (3 GB RAM)   \n",
       "7   SAMSUNG Mobiles  SAMSUNG Galaxy S20 FE (Cloud Mint, 128 GB)  (8...   \n",
       "8   SAMSUNG Mobiles     SAMSUNG Galaxy A20s (Black, 32 GB)  (3 GB RAM)   \n",
       "9   SAMSUNG Mobiles  SAMSUNG Galaxy A30s (Prism Crush Violet, 64 GB...   \n",
       "10  SAMSUNG Mobiles      SAMSUNG Galaxy M30s (Blue, 64 GB)  (4 GB RAM)   \n",
       "11  SAMSUNG Mobiles  SAMSUNG Galaxy S20 Ultra (Cosmic Black, 128 GB...   \n",
       "12  SAMSUNG Mobiles  SAMSUNG Galaxy S20 FE (Cloud Navy, 256 GB)  (8...   \n",
       "13  SAMSUNG Mobiles  SAMSUNG Galaxy S20 FE (Cloud Red, 128 GB)  (8 ...   \n",
       "14                -     SAMSUNG Galaxy M30s (White, 64 GB)  (4 GB RAM)   \n",
       "15  SAMSUNG Mobiles  SAMSUNG Galaxy S10 (Prism Blue, 128 GB)  (8 GB...   \n",
       "16  SAMSUNG Mobiles    SAMSUNG Galaxy M30S (Black, 128 GB)  (4 GB RAM)   \n",
       "17                -    SAMSUNG Galaxy M30s (White, 128 GB)  (6 GB RAM)   \n",
       "\n",
       "   Price(₹)              Colour    RAM Storage(ROM)  \\\n",
       "0   ₹54,999        Cosmic Black   8 GB       128 GB   \n",
       "1   ₹49,999      Cloud Lavender   8 GB       128 GB   \n",
       "2   ₹12,900               Green   3 GB        32 GB   \n",
       "3   ₹49,999          Cloud Navy   8 GB       128 GB   \n",
       "4   ₹49,999         Cloud White   8 GB       128 GB   \n",
       "5   ₹71,400         Prism White   8 GB       512 GB   \n",
       "6   ₹12,900                Blue   3 GB        32 GB   \n",
       "7   ₹49,999          Cloud Mint   8 GB       128 GB   \n",
       "8   ₹12,900               Black   3 GB        32 GB   \n",
       "9   ₹15,949  Prism Crush Violet   4 GB        64 GB   \n",
       "10  ₹14,082                Blue   4 GB        64 GB   \n",
       "11  ₹69,799        Cosmic Black  12 GB       128 GB   \n",
       "12  ₹34,990          Cloud Navy   8 GB       256 GB   \n",
       "13  ₹49,999           Cloud Red   8 GB       128 GB   \n",
       "14  ₹15,490               White   4 GB        64 GB   \n",
       "15  ₹39,999          Prism Blue   8 GB       128 GB   \n",
       "16  ₹14,990               Black   4 GB       128 GB   \n",
       "17  ₹16,999               White   6 GB       128 GB   \n",
       "\n",
       "                               Primary Camera   Secondary Camera  \\\n",
       "0     64 MP + 12 MP +12 MP + VGA Depth Camera  10MP Front Camera   \n",
       "1               12MP + 12MP + 8MP Rear Camera  32MP Front Camera   \n",
       "2                            13MP + 8MP + 5MP   8MP Front Camera   \n",
       "3               12MP + 12MP + 8MP Rear Camera  32MP Front Camera   \n",
       "4               12MP + 12MP + 8MP Rear Camera  32MP Front Camera   \n",
       "5                                 16MP + 12MP  10MP Front Camera   \n",
       "6                            13MP + 8MP + 5MP   8MP Front Camera   \n",
       "7               12MP + 12MP + 8MP Rear Camera  32MP Front Camera   \n",
       "8                            13MP + 8MP + 5MP   8MP Front Camera   \n",
       "9                            25MP + 5MP + 8MP  16MP Front Camera   \n",
       "10                           48MP Rear Camera  16MP Front Camera   \n",
       "11  108 MP + 48 MP + 12 MP + VGA Depth Camera  40MP Front Camera   \n",
       "12                           12MP Rear Camera                  -   \n",
       "13              12MP + 12MP + 8MP Rear Camera  32MP Front Camera   \n",
       "14                           48MP Rear Camera  16MP Front Camera   \n",
       "15                                16MP + 12MP  10MP Front Camera   \n",
       "16                                 48MP + 8MP  16MP Front Camera   \n",
       "17                    48MP + 48MP + 8MP + 5MP  16MP Front Camera   \n",
       "\n",
       "           Display Size              Battery Capacity            Processor  \\\n",
       "0   17.02 cm (6.7 inch)  4500 mAh Lithium-ion Battery           Exynos 990   \n",
       "1   16.51 cm (6.5 inch)  4500 mAh Lithium Ion Battery     Exynos Octa Core   \n",
       "2   16.51 cm (6.5 inch)  4000 mAh Lithium Ion Battery  Qualcomm SDM450-B01   \n",
       "3   16.51 cm (6.5 inch)  4500 mAh Lithium Ion Battery     Exynos Octa Core   \n",
       "4   16.51 cm (6.5 inch)  4500 mAh Lithium Ion Battery     Exynos Octa Core   \n",
       "5   15.49 cm (6.1 inch)  3400 mAh Lithium-ion Battery        Exynos 9 9820   \n",
       "6   16.51 cm (6.5 inch)  4000 mAh Lithium Ion Battery  Qualcomm SDM450-B01   \n",
       "7   16.51 cm (6.5 inch)  4500 mAh Lithium Ion Battery     Exynos Octa Core   \n",
       "8   16.51 cm (6.5 inch)  4000 mAh Lithium Ion Battery  Qualcomm SDM450-B01   \n",
       "9   16.26 cm (6.4 inch)       4000 mAh Li-ion Battery          Exynos 7904   \n",
       "10  16.26 cm (6.4 inch)              6000 mAh Battery          Exynos 9611   \n",
       "11  17.53 cm (6.9 inch)  5000 mAh Lithium-ion Battery           Exynos 990   \n",
       "12  16.51 cm (6.5 inch)              4500 mAh Battery            Octa Core   \n",
       "13  16.51 cm (6.5 inch)  4500 mAh Lithium Ion Battery     Exynos Octa Core   \n",
       "14  16.26 cm (6.4 inch)              6000 mAh Battery          Exynos 9611   \n",
       "15  15.49 cm (6.1 inch)  3400 mAh Lithium-ion Battery        Exynos 9 9820   \n",
       "16  16.26 cm (6.4 inch)              6000 mAh Battery            Octa Core   \n",
       "17  16.26 cm (6.4 inch)              6000 mAh Battery          Exynos 9611   \n",
       "\n",
       "   Processor Cores                                        Product URL  \n",
       "0        Octa Core  https://www.flipkart.com/samsung-galaxy-s20-co...  \n",
       "1        Octa Core  https://www.flipkart.com/samsung-galaxy-s20-fe...  \n",
       "2        Octa Core  https://www.flipkart.com/samsung-galaxy-a20s-g...  \n",
       "3        Octa Core  https://www.flipkart.com/samsung-galaxy-s20-fe...  \n",
       "4        Octa Core  https://www.flipkart.com/samsung-galaxy-s20-fe...  \n",
       "5        Octa Core  https://www.flipkart.com/samsung-galaxy-s10-pr...  \n",
       "6        Octa Core  https://www.flipkart.com/samsung-galaxy-a20s-b...  \n",
       "7        Octa Core  https://www.flipkart.com/samsung-galaxy-s20-fe...  \n",
       "8        Octa Core  https://www.flipkart.com/samsung-galaxy-a20s-b...  \n",
       "9        Octa Core  https://www.flipkart.com/samsung-galaxy-a30s-p...  \n",
       "10       Octa Core  https://www.flipkart.com/samsung-galaxy-m30s-b...  \n",
       "11       Octa Core  https://www.flipkart.com/samsung-galaxy-s20-ul...  \n",
       "12        2.73 GHz  https://www.flipkart.com/samsung-galaxy-s20-fe...  \n",
       "13       Octa Core  https://www.flipkart.com/samsung-galaxy-s20-fe...  \n",
       "14       Octa Core  https://www.flipkart.com/samsung-galaxy-m30s-w...  \n",
       "15       Octa Core  https://www.flipkart.com/samsung-galaxy-s10-pr...  \n",
       "16         2.3 GHz  https://www.flipkart.com/samsung-galaxy-m30s-b...  \n",
       "17       Octa Core  https://www.flipkart.com/samsung-galaxy-m30s-w...  "
      ]
     },
     "execution_count": 95,
     "metadata": {},
     "output_type": "execute_result"
    }
   ],
   "source": [
    "Smartphonedf"
   ]
  },
  {
   "cell_type": "code",
   "execution_count": 96,
   "id": "99db460e",
   "metadata": {},
   "outputs": [],
   "source": [
    "#  Saving as .csv file\n",
    "Smartphonedf.to_csv('FlipkartSmartphonescrape.csv')"
   ]
  },
  {
   "cell_type": "code",
   "execution_count": null,
   "id": "4b9afe5e",
   "metadata": {},
   "outputs": [],
   "source": []
  },
  {
   "cell_type": "markdown",
   "id": "30aa710c",
   "metadata": {},
   "source": [
    "## 5. Write a program to scrap geospatial coordinates (latitude, longitude) of a city searched on google maps."
   ]
  },
  {
   "cell_type": "code",
   "execution_count": 43,
   "id": "08fb1cc8",
   "metadata": {},
   "outputs": [],
   "source": [
    "driver = webdriver.Chrome(r\"G:\\chromedriver_win32\\chromedriver.exe\")"
   ]
  },
  {
   "cell_type": "code",
   "execution_count": 44,
   "id": "5f65cb3e",
   "metadata": {},
   "outputs": [],
   "source": [
    "url =  'https://www.google.co.in/maps?hl=en&authuser=0'"
   ]
  },
  {
   "cell_type": "code",
   "execution_count": 45,
   "id": "9953262d",
   "metadata": {},
   "outputs": [],
   "source": [
    "#opening the webpage through our driver\n",
    "driver.get(url)"
   ]
  },
  {
   "cell_type": "code",
   "execution_count": 46,
   "id": "5a289083",
   "metadata": {},
   "outputs": [
    {
     "name": "stdout",
     "output_type": "stream",
     "text": [
      "Enter a location name to search: Fort Kochi\n"
     ]
    }
   ],
   "source": [
    "item = input(\"Enter a location name to search: \")"
   ]
  },
  {
   "cell_type": "code",
   "execution_count": 47,
   "id": "a1433f3b",
   "metadata": {},
   "outputs": [],
   "source": [
    "search = driver.find_element(By.XPATH,'/html/body/div[3]/div[9]/div[3]/div[1]/div[1]/div[1]/div[2]/form/div[2]/div[3]/div/input[1]')\n",
    "search.send_keys(item)\n",
    "search = driver.find_element(By.XPATH,'/html/body/div[3]/div[9]/div[3]/div[1]/div[1]/div[1]/div[2]/div[1]/button')\n",
    "search.click()"
   ]
  },
  {
   "cell_type": "code",
   "execution_count": 48,
   "id": "5fbcd0f3",
   "metadata": {},
   "outputs": [],
   "source": [
    "# getting the current url\n",
    "url = driver.current_url"
   ]
  },
  {
   "cell_type": "code",
   "execution_count": 49,
   "id": "270c44bb",
   "metadata": {},
   "outputs": [
    {
     "data": {
      "text/plain": [
       "'https://www.google.co.in/maps/place/Fort+Kochi,+Kochi,+Kerala/@9.960622,76.2360067,15z/data=!3m1!4b1!4m5!3m4!1s0x3b086d314f0b178d:0xc545233f390db43b!8m2!3d9.9657787!4d76.2421147?hl=en&authuser=0'"
      ]
     },
     "execution_count": 49,
     "metadata": {},
     "output_type": "execute_result"
    }
   ],
   "source": [
    "url"
   ]
  },
  {
   "cell_type": "code",
   "execution_count": 50,
   "id": "6b675570",
   "metadata": {},
   "outputs": [],
   "source": [
    "import re"
   ]
  },
  {
   "cell_type": "code",
   "execution_count": 51,
   "id": "b379534c",
   "metadata": {},
   "outputs": [],
   "source": [
    "coord = re.findall(r'@(.*),',url)[0].split(\",\")"
   ]
  },
  {
   "cell_type": "code",
   "execution_count": 52,
   "id": "71ee6483",
   "metadata": {},
   "outputs": [
    {
     "data": {
      "text/plain": [
       "['9.960622', '76.2360067']"
      ]
     },
     "execution_count": 52,
     "metadata": {},
     "output_type": "execute_result"
    }
   ],
   "source": [
    "coord"
   ]
  },
  {
   "cell_type": "code",
   "execution_count": 53,
   "id": "8c020453",
   "metadata": {},
   "outputs": [
    {
     "data": {
      "text/plain": [
       "'9.960622'"
      ]
     },
     "execution_count": 53,
     "metadata": {},
     "output_type": "execute_result"
    }
   ],
   "source": [
    "Lattitude = coord[0]\n",
    "Lattitude"
   ]
  },
  {
   "cell_type": "code",
   "execution_count": 54,
   "id": "989b5ca8",
   "metadata": {},
   "outputs": [
    {
     "data": {
      "text/plain": [
       "'76.2360067'"
      ]
     },
     "execution_count": 54,
     "metadata": {},
     "output_type": "execute_result"
    }
   ],
   "source": [
    "Longitude = coord[1]\n",
    "Longitude"
   ]
  },
  {
   "cell_type": "code",
   "execution_count": 55,
   "id": "af0d4f64",
   "metadata": {},
   "outputs": [
    {
     "name": "stdout",
     "output_type": "stream",
     "text": [
      "Coordinates of Fort Kochi are: 9.960622N,76.2360067E\n"
     ]
    }
   ],
   "source": [
    "print(f\"Coordinates of Fort Kochi are: {Lattitude}N,{Longitude}E\")"
   ]
  },
  {
   "cell_type": "markdown",
   "id": "35634ce8",
   "metadata": {},
   "source": [
    "## 6. Write a program to scrap details of all the funding deals for second quarter (i.e Jan 21 – March 21) from trak.in"
   ]
  },
  {
   "cell_type": "code",
   "execution_count": 61,
   "id": "d0f39dbe",
   "metadata": {},
   "outputs": [],
   "source": [
    "driver = webdriver.Chrome(r\"G:\\chromedriver_win32\\chromedriver.exe\")"
   ]
  },
  {
   "cell_type": "code",
   "execution_count": 62,
   "id": "58667802",
   "metadata": {},
   "outputs": [],
   "source": [
    "url =  'https://www.trak.in'"
   ]
  },
  {
   "cell_type": "code",
   "execution_count": 63,
   "id": "0e4941e1",
   "metadata": {},
   "outputs": [],
   "source": [
    "#opening the webpage through our driver\n",
    "driver.get(url)"
   ]
  },
  {
   "cell_type": "code",
   "execution_count": 66,
   "id": "19cbbb91",
   "metadata": {},
   "outputs": [],
   "source": [
    "# clicking on 'Funding Deals'\n",
    "fd = driver.find_element(By.XPATH,'/html/body/div[1]/header/div[2]/div/div/div/div/nav/ul/li[9]/a')\n",
    "fd.click()"
   ]
  },
  {
   "cell_type": "code",
   "execution_count": 68,
   "id": "3517c28a",
   "metadata": {},
   "outputs": [
    {
     "data": {
      "text/plain": [
       "'https://trak.in/india-startup-funding-investment-2015/'"
      ]
     },
     "execution_count": 68,
     "metadata": {},
     "output_type": "execute_result"
    }
   ],
   "source": [
    "driver.current_url"
   ]
  },
  {
   "cell_type": "code",
   "execution_count": 69,
   "id": "0f633eee",
   "metadata": {},
   "outputs": [],
   "source": [
    "date = []\n",
    "name = []\n",
    "subvrt = []\n",
    "indstry = []\n",
    "city = []\n",
    "invname = []\n",
    "invtyp = []\n",
    "amt = []"
   ]
  },
  {
   "cell_type": "markdown",
   "id": "c2ccdf2d",
   "metadata": {},
   "source": [
    "### Data for Jan 21 - Mar 21 can be found in table ids = \"tablepress-54\",\"tablepress-55\" and \"tablepress-56\""
   ]
  },
  {
   "cell_type": "code",
   "execution_count": 70,
   "id": "1a62bba2",
   "metadata": {},
   "outputs": [],
   "source": [
    "for i in range(54,57):  \n",
    "    \n",
    "    try:\n",
    "        date_tag = driver.find_elements(By.XPATH,f\"//*[@id='tablepress-{i}']/tbody/tr/td[2]\")\n",
    "        for i in date_tag:\n",
    "            date.append(i.text)\n",
    "    except NoSuchElementException:\n",
    "        date.append('-')\n",
    "for i in range(54,57):\n",
    " \n",
    "    try:\n",
    "        name_tag = driver.find_elements(By.XPATH,f\"//*[@id='tablepress-{i}']/tbody/tr/td[3]/a\")\n",
    "        for j in name_tag:\n",
    "            name.append(j.text)\n",
    "    except NoSuchElementException:\n",
    "        name.append('-')\n",
    "        \n",
    "for i in range(54,57):\n",
    "    \n",
    "    try:\n",
    "        indstry_tag = driver.find_elements(By.XPATH,f\"//*[@id='tablepress-{i}']/tbody/tr/td[4]\")\n",
    "        for p in indstry_tag:\n",
    "            indstry.append(p.text)\n",
    "    except NoSuchElementException:\n",
    "        indstry.append('-')    \n",
    "        \n",
    "for i in range(54,57):\n",
    "    \n",
    "    \n",
    "    try:\n",
    "        subvrt_tag = driver.find_elements(By.XPATH,f\"//*[@id='tablepress-{i}']/tbody/tr/td[5]\")\n",
    "        for k in subvrt_tag:\n",
    "            subvrt.append(k.text)\n",
    "    except NoSuchElementException:\n",
    "        subvrt.append('-')\n",
    "        \n",
    "for i in range(54,57):        \n",
    "    \n",
    "    try:\n",
    "        city_tag = driver.find_elements(By.XPATH,f\"//*[@id='tablepress-{i}']/tbody/tr/td[6]\")\n",
    "        for l in city_tag:\n",
    "            city.append(l.text)\n",
    "    except NoSuchElementException:\n",
    "        city.append('-')\n",
    "        \n",
    "for i in range(54,57):\n",
    "    \n",
    "    try:\n",
    "        invname_tag = driver.find_elements(By.XPATH,f\"//*[@id='tablepress-{i}']/tbody/tr/td[7]\")\n",
    "        for m in invname_tag:\n",
    "            invname.append(m.text)\n",
    "    except NoSuchElementException:\n",
    "        invname.append('-')\n",
    "        \n",
    "for i in range(54,57):        \n",
    "    \n",
    "    try:\n",
    "        invtyp_tag  = driver.find_elements(By.XPATH,f\"//*[@id='tablepress-{i}']/tbody/tr/td[8]\")\n",
    "        for n in invtyp_tag:\n",
    "            invtyp.append(n.text)\n",
    "    except NoSuchElementException:\n",
    "        invtyp.append('-')\n",
    "        \n",
    "for i in range(54,57): \n",
    "    \n",
    "    try:\n",
    "        amt_tag = driver.find_elements(By.XPATH,f\"//*[@id='tablepress-{i}']/tbody/tr/td[9]\")\n",
    "        for o in amt_tag:\n",
    "            amt.append(o.text)\n",
    "    except NoSuchElementException:\n",
    "        amt.append('-')"
   ]
  },
  {
   "cell_type": "code",
   "execution_count": 71,
   "id": "a58b0cc5",
   "metadata": {},
   "outputs": [
    {
     "data": {
      "text/plain": [
       "['1,80,00,000',\n",
       " '6,172,258.50',\n",
       " '30,000,000',\n",
       " '15,000,000',\n",
       " '16,000,000',\n",
       " '15,000,000',\n",
       " '100,000,000',\n",
       " '4,000,000',\n",
       " '2,500,000',\n",
       " '250,000,000',\n",
       " '2,747,045.20',\n",
       " '1,50,00,000',\n",
       " '75,000,000',\n",
       " '4,773,958',\n",
       " '55,000,000',\n",
       " '15,000,000',\n",
       " '18,000,000',\n",
       " '250,000,000',\n",
       " '140,000,000',\n",
       " '8,000,000',\n",
       " '460,000,000',\n",
       " '300,000,000',\n",
       " '11,000,000',\n",
       " '27,500,000']"
      ]
     },
     "execution_count": 71,
     "metadata": {},
     "output_type": "execute_result"
    }
   ],
   "source": [
    "amt"
   ]
  },
  {
   "cell_type": "code",
   "execution_count": 72,
   "id": "63339c45",
   "metadata": {},
   "outputs": [],
   "source": [
    "for i in range(0,len(invtyp)): #replacing misssing values with '-'\n",
    "    if invtyp[i]==\"\":\n",
    "        invtyp[i] = \"-\""
   ]
  },
  {
   "cell_type": "code",
   "execution_count": 73,
   "id": "7b9ecefb",
   "metadata": {},
   "outputs": [
    {
     "data": {
      "text/html": [
       "<div>\n",
       "<style scoped>\n",
       "    .dataframe tbody tr th:only-of-type {\n",
       "        vertical-align: middle;\n",
       "    }\n",
       "\n",
       "    .dataframe tbody tr th {\n",
       "        vertical-align: top;\n",
       "    }\n",
       "\n",
       "    .dataframe thead th {\n",
       "        text-align: right;\n",
       "    }\n",
       "</style>\n",
       "<table border=\"1\" class=\"dataframe\">\n",
       "  <thead>\n",
       "    <tr style=\"text-align: right;\">\n",
       "      <th></th>\n",
       "      <th>Date</th>\n",
       "      <th>Startup Name</th>\n",
       "      <th>Industry/Vertical</th>\n",
       "      <th>Sub-Vertical</th>\n",
       "      <th>City/Location</th>\n",
       "      <th>Investor's Name</th>\n",
       "      <th>Investment Type</th>\n",
       "      <th>Amount(in USD)</th>\n",
       "    </tr>\n",
       "  </thead>\n",
       "  <tbody>\n",
       "    <tr>\n",
       "      <th>0</th>\n",
       "      <td>15/01/2021</td>\n",
       "      <td>Digit Insurance</td>\n",
       "      <td>Financial Services</td>\n",
       "      <td>Insurance Services</td>\n",
       "      <td>Bengaluru</td>\n",
       "      <td>A91 Partners, Faering Capital, TVS Capital Funds</td>\n",
       "      <td>Venture</td>\n",
       "      <td>1,80,00,000</td>\n",
       "    </tr>\n",
       "    <tr>\n",
       "      <th>1</th>\n",
       "      <td>28/01/2021</td>\n",
       "      <td>Bombay Shaving Company</td>\n",
       "      <td>Consumer Goods Company</td>\n",
       "      <td>Shave care, beard care, and skincare products</td>\n",
       "      <td>New Delhi</td>\n",
       "      <td>Reckitt Benckiser</td>\n",
       "      <td>Venture</td>\n",
       "      <td>6,172,258.50</td>\n",
       "    </tr>\n",
       "    <tr>\n",
       "      <th>2</th>\n",
       "      <td>19/01/2021</td>\n",
       "      <td>DeHaat</td>\n",
       "      <td>AgriTech Startup</td>\n",
       "      <td>online marketplace for farm products and services</td>\n",
       "      <td>Patna</td>\n",
       "      <td>Prosus Ventures</td>\n",
       "      <td>Series C</td>\n",
       "      <td>30,000,000</td>\n",
       "    </tr>\n",
       "    <tr>\n",
       "      <th>3</th>\n",
       "      <td>19/01/2021</td>\n",
       "      <td>Darwinbox</td>\n",
       "      <td>SaaS</td>\n",
       "      <td>HR Tech</td>\n",
       "      <td>Mumbai</td>\n",
       "      <td>Salesforce Ventures</td>\n",
       "      <td>Seed</td>\n",
       "      <td>15,000,000</td>\n",
       "    </tr>\n",
       "    <tr>\n",
       "      <th>4</th>\n",
       "      <td>18/01/2021</td>\n",
       "      <td>mfine</td>\n",
       "      <td>Health Tech Startup</td>\n",
       "      <td>AI-powered telemedicine mobile app</td>\n",
       "      <td>Bengaluru</td>\n",
       "      <td>Heritas Capital Management</td>\n",
       "      <td>Venture Round</td>\n",
       "      <td>16,000,000</td>\n",
       "    </tr>\n",
       "    <tr>\n",
       "      <th>5</th>\n",
       "      <td>18/01/2021</td>\n",
       "      <td>Udayy</td>\n",
       "      <td>EdTech</td>\n",
       "      <td>Online learning platform for kids in class 1-5</td>\n",
       "      <td>Gurgaon</td>\n",
       "      <td>Sequoia Capital</td>\n",
       "      <td>Seed Funding</td>\n",
       "      <td>15,000,000</td>\n",
       "    </tr>\n",
       "    <tr>\n",
       "      <th>6</th>\n",
       "      <td>11/01/2021</td>\n",
       "      <td>True Elements</td>\n",
       "      <td>Food Startup</td>\n",
       "      <td>Whole Food plant based Nashta</td>\n",
       "      <td>Pune</td>\n",
       "      <td>SIDBI Venture Capital</td>\n",
       "      <td>Series</td>\n",
       "      <td>100,000,000</td>\n",
       "    </tr>\n",
       "    <tr>\n",
       "      <th>7</th>\n",
       "      <td>13/01/2021</td>\n",
       "      <td>Saveo</td>\n",
       "      <td>B2B E-commerce</td>\n",
       "      <td>Pharmacies</td>\n",
       "      <td>Bengaluru</td>\n",
       "      <td>Matrix Partners India, RTP Global, others</td>\n",
       "      <td>Seed</td>\n",
       "      <td>4,000,000</td>\n",
       "    </tr>\n",
       "    <tr>\n",
       "      <th>8</th>\n",
       "      <td>11/02/2021</td>\n",
       "      <td>Doubtnut</td>\n",
       "      <td>Edu Tech</td>\n",
       "      <td>E-Learning Platform</td>\n",
       "      <td>Gurgaon</td>\n",
       "      <td>SIG Global, Sequoia Capital, WaterBridge Ventu...</td>\n",
       "      <td>Series B</td>\n",
       "      <td>2,500,000</td>\n",
       "    </tr>\n",
       "    <tr>\n",
       "      <th>9</th>\n",
       "      <td>22/02/2021</td>\n",
       "      <td>Zomato</td>\n",
       "      <td>Hospitality</td>\n",
       "      <td>Online Food Delivery Platform</td>\n",
       "      <td>Gurgaon</td>\n",
       "      <td>Tiger Global, Kora</td>\n",
       "      <td>Venture</td>\n",
       "      <td>250,000,000</td>\n",
       "    </tr>\n",
       "    <tr>\n",
       "      <th>10</th>\n",
       "      <td>19/02/2021</td>\n",
       "      <td>Fingerlix</td>\n",
       "      <td>Hospitality</td>\n",
       "      <td>Semi-cooked food delivery app</td>\n",
       "      <td>Mumbai</td>\n",
       "      <td>Rhodium Trust, Accel Partners and Swiggy</td>\n",
       "      <td>Series C</td>\n",
       "      <td>2,747,045.20</td>\n",
       "    </tr>\n",
       "    <tr>\n",
       "      <th>11</th>\n",
       "      <td>17/02/2021</td>\n",
       "      <td>Zolve</td>\n",
       "      <td>FinTech</td>\n",
       "      <td>Global Neobank Venture</td>\n",
       "      <td>Mumbai</td>\n",
       "      <td>Accel Partners and Lightspeed Venture Partners</td>\n",
       "      <td>Seed</td>\n",
       "      <td>1,50,00,000</td>\n",
       "    </tr>\n",
       "    <tr>\n",
       "      <th>12</th>\n",
       "      <td>15/02/2021</td>\n",
       "      <td>KreditBee</td>\n",
       "      <td>Finance</td>\n",
       "      <td>Digital lending platform</td>\n",
       "      <td>Bengaluru</td>\n",
       "      <td>Azim Premji’s PremjiInvest and South Korea’s M...</td>\n",
       "      <td>Series C</td>\n",
       "      <td>75,000,000</td>\n",
       "    </tr>\n",
       "    <tr>\n",
       "      <th>13</th>\n",
       "      <td>12/02/2021</td>\n",
       "      <td>Pepperfry</td>\n",
       "      <td>E-commerce</td>\n",
       "      <td>Multi-brand furniture brand</td>\n",
       "      <td>Mumbai</td>\n",
       "      <td>InnoVen Capital</td>\n",
       "      <td>Debt Financing</td>\n",
       "      <td>4,773,958</td>\n",
       "    </tr>\n",
       "    <tr>\n",
       "      <th>14</th>\n",
       "      <td>12/02/2021</td>\n",
       "      <td>Grofers</td>\n",
       "      <td>E-Commerce</td>\n",
       "      <td>Online supermarket</td>\n",
       "      <td>Gurgaon</td>\n",
       "      <td>SoftBank Vision Fund (SVF)</td>\n",
       "      <td>Unspecified</td>\n",
       "      <td>55,000,000</td>\n",
       "    </tr>\n",
       "    <tr>\n",
       "      <th>15</th>\n",
       "      <td>09/02/2021</td>\n",
       "      <td>Nothing</td>\n",
       "      <td>Technology</td>\n",
       "      <td>Consumer Technology Venture</td>\n",
       "      <td>London</td>\n",
       "      <td>GV</td>\n",
       "      <td>Series A</td>\n",
       "      <td>15,000,000</td>\n",
       "    </tr>\n",
       "    <tr>\n",
       "      <th>16</th>\n",
       "      <td>09/02/2021</td>\n",
       "      <td>SplashLearn</td>\n",
       "      <td>EdTech</td>\n",
       "      <td>Game-based learning programme</td>\n",
       "      <td>Gurgaon</td>\n",
       "      <td>Owl Ventures</td>\n",
       "      <td>Series C</td>\n",
       "      <td>18,000,000</td>\n",
       "    </tr>\n",
       "    <tr>\n",
       "      <th>17</th>\n",
       "      <td>04/03/2021</td>\n",
       "      <td>DealShare</td>\n",
       "      <td>E-commerce</td>\n",
       "      <td>Online shopping platform</td>\n",
       "      <td>Jaipur, Rajasthan</td>\n",
       "      <td>Innoven Capital</td>\n",
       "      <td>Debt Financing</td>\n",
       "      <td>250,000,000</td>\n",
       "    </tr>\n",
       "    <tr>\n",
       "      <th>18</th>\n",
       "      <td>31/03/2021</td>\n",
       "      <td>Uniphore</td>\n",
       "      <td>Technology</td>\n",
       "      <td>Conversational Service Automation (CSA)</td>\n",
       "      <td>Palo Alto</td>\n",
       "      <td>Sorenson Capital Partners</td>\n",
       "      <td>Series D</td>\n",
       "      <td>140,000,000</td>\n",
       "    </tr>\n",
       "    <tr>\n",
       "      <th>19</th>\n",
       "      <td>30/03/2021</td>\n",
       "      <td>Dunzo</td>\n",
       "      <td>E-commerce</td>\n",
       "      <td>Hyper-local delivery app</td>\n",
       "      <td>Bengaluru</td>\n",
       "      <td>Krishtal Advisors Pte Ltd</td>\n",
       "      <td>Series E</td>\n",
       "      <td>8,000,000</td>\n",
       "    </tr>\n",
       "    <tr>\n",
       "      <th>20</th>\n",
       "      <td>30/03/2021</td>\n",
       "      <td>BYJU’S</td>\n",
       "      <td>Edu-tech</td>\n",
       "      <td>Online tutoring</td>\n",
       "      <td>Bengaluru</td>\n",
       "      <td>MC Global Edtech, B Capital, Baron, others</td>\n",
       "      <td>Series F</td>\n",
       "      <td>460,000,000</td>\n",
       "    </tr>\n",
       "    <tr>\n",
       "      <th>21</th>\n",
       "      <td>23/03/2021</td>\n",
       "      <td>SkilloVilla</td>\n",
       "      <td>Edu-tech</td>\n",
       "      <td>Career and job-oriented upskilling.</td>\n",
       "      <td>Bengaluru</td>\n",
       "      <td>Titan Capital, others</td>\n",
       "      <td>Seed</td>\n",
       "      <td>300,000,000</td>\n",
       "    </tr>\n",
       "    <tr>\n",
       "      <th>22</th>\n",
       "      <td>25/03/2021</td>\n",
       "      <td>CityMall</td>\n",
       "      <td>E-commerce</td>\n",
       "      <td>Social ecommerce and online grocery platform</td>\n",
       "      <td>Gurgaon</td>\n",
       "      <td>Accel Partners</td>\n",
       "      <td>Series A</td>\n",
       "      <td>11,000,000</td>\n",
       "    </tr>\n",
       "    <tr>\n",
       "      <th>23</th>\n",
       "      <td>26/03/2021</td>\n",
       "      <td>DotPe</td>\n",
       "      <td>FinTech</td>\n",
       "      <td>Commerce and payments platform to offline ente...</td>\n",
       "      <td>Gurgaon</td>\n",
       "      <td>PayU</td>\n",
       "      <td>Series A</td>\n",
       "      <td>27,500,000</td>\n",
       "    </tr>\n",
       "  </tbody>\n",
       "</table>\n",
       "</div>"
      ],
      "text/plain": [
       "          Date            Startup Name       Industry/Vertical  \\\n",
       "0   15/01/2021         Digit Insurance      Financial Services   \n",
       "1   28/01/2021  Bombay Shaving Company  Consumer Goods Company   \n",
       "2   19/01/2021                  DeHaat        AgriTech Startup   \n",
       "3   19/01/2021               Darwinbox                    SaaS   \n",
       "4   18/01/2021                   mfine     Health Tech Startup   \n",
       "5   18/01/2021                   Udayy                  EdTech   \n",
       "6   11/01/2021           True Elements            Food Startup   \n",
       "7   13/01/2021                   Saveo          B2B E-commerce   \n",
       "8   11/02/2021                Doubtnut                Edu Tech   \n",
       "9   22/02/2021                  Zomato             Hospitality   \n",
       "10  19/02/2021               Fingerlix             Hospitality   \n",
       "11  17/02/2021                   Zolve                 FinTech   \n",
       "12  15/02/2021               KreditBee                 Finance   \n",
       "13  12/02/2021               Pepperfry              E-commerce   \n",
       "14  12/02/2021                 Grofers              E-Commerce   \n",
       "15  09/02/2021                 Nothing              Technology   \n",
       "16  09/02/2021             SplashLearn                  EdTech   \n",
       "17  04/03/2021               DealShare              E-commerce   \n",
       "18  31/03/2021                Uniphore              Technology   \n",
       "19  30/03/2021                   Dunzo              E-commerce   \n",
       "20  30/03/2021                  BYJU’S                Edu-tech   \n",
       "21  23/03/2021             SkilloVilla                Edu-tech   \n",
       "22  25/03/2021                CityMall              E-commerce   \n",
       "23  26/03/2021                   DotPe                 FinTech   \n",
       "\n",
       "                                         Sub-Vertical      City/Location  \\\n",
       "0                                  Insurance Services          Bengaluru   \n",
       "1       Shave care, beard care, and skincare products          New Delhi   \n",
       "2   online marketplace for farm products and services              Patna   \n",
       "3                                             HR Tech             Mumbai   \n",
       "4                  AI-powered telemedicine mobile app          Bengaluru   \n",
       "5      Online learning platform for kids in class 1-5            Gurgaon   \n",
       "6                       Whole Food plant based Nashta               Pune   \n",
       "7                                          Pharmacies          Bengaluru   \n",
       "8                                 E-Learning Platform            Gurgaon   \n",
       "9                       Online Food Delivery Platform            Gurgaon   \n",
       "10                      Semi-cooked food delivery app             Mumbai   \n",
       "11                             Global Neobank Venture             Mumbai   \n",
       "12                           Digital lending platform          Bengaluru   \n",
       "13                        Multi-brand furniture brand             Mumbai   \n",
       "14                                 Online supermarket            Gurgaon   \n",
       "15                        Consumer Technology Venture             London   \n",
       "16                      Game-based learning programme            Gurgaon   \n",
       "17                           Online shopping platform  Jaipur, Rajasthan   \n",
       "18            Conversational Service Automation (CSA)          Palo Alto   \n",
       "19                           Hyper-local delivery app          Bengaluru   \n",
       "20                                    Online tutoring          Bengaluru   \n",
       "21                Career and job-oriented upskilling.          Bengaluru   \n",
       "22       Social ecommerce and online grocery platform            Gurgaon   \n",
       "23  Commerce and payments platform to offline ente...            Gurgaon   \n",
       "\n",
       "                                      Investor's Name Investment Type  \\\n",
       "0    A91 Partners, Faering Capital, TVS Capital Funds         Venture   \n",
       "1                                   Reckitt Benckiser         Venture   \n",
       "2                                     Prosus Ventures        Series C   \n",
       "3                                 Salesforce Ventures            Seed   \n",
       "4                          Heritas Capital Management   Venture Round   \n",
       "5                                     Sequoia Capital    Seed Funding   \n",
       "6                               SIDBI Venture Capital          Series   \n",
       "7           Matrix Partners India, RTP Global, others            Seed   \n",
       "8   SIG Global, Sequoia Capital, WaterBridge Ventu...        Series B   \n",
       "9                                  Tiger Global, Kora         Venture   \n",
       "10           Rhodium Trust, Accel Partners and Swiggy        Series C   \n",
       "11     Accel Partners and Lightspeed Venture Partners            Seed   \n",
       "12  Azim Premji’s PremjiInvest and South Korea’s M...        Series C   \n",
       "13                                    InnoVen Capital  Debt Financing   \n",
       "14                         SoftBank Vision Fund (SVF)     Unspecified   \n",
       "15                                                 GV        Series A   \n",
       "16                                       Owl Ventures        Series C   \n",
       "17                                    Innoven Capital  Debt Financing   \n",
       "18                          Sorenson Capital Partners        Series D   \n",
       "19                          Krishtal Advisors Pte Ltd        Series E   \n",
       "20         MC Global Edtech, B Capital, Baron, others        Series F   \n",
       "21                              Titan Capital, others            Seed   \n",
       "22                                     Accel Partners        Series A   \n",
       "23                                               PayU        Series A   \n",
       "\n",
       "   Amount(in USD)  \n",
       "0     1,80,00,000  \n",
       "1    6,172,258.50  \n",
       "2      30,000,000  \n",
       "3      15,000,000  \n",
       "4      16,000,000  \n",
       "5      15,000,000  \n",
       "6     100,000,000  \n",
       "7       4,000,000  \n",
       "8       2,500,000  \n",
       "9     250,000,000  \n",
       "10   2,747,045.20  \n",
       "11    1,50,00,000  \n",
       "12     75,000,000  \n",
       "13      4,773,958  \n",
       "14     55,000,000  \n",
       "15     15,000,000  \n",
       "16     18,000,000  \n",
       "17    250,000,000  \n",
       "18    140,000,000  \n",
       "19      8,000,000  \n",
       "20    460,000,000  \n",
       "21    300,000,000  \n",
       "22     11,000,000  \n",
       "23     27,500,000  "
      ]
     },
     "execution_count": 73,
     "metadata": {},
     "output_type": "execute_result"
    }
   ],
   "source": [
    "Startup = {'Date':date,'Startup Name':name,'Industry/Vertical':indstry,'Sub-Vertical':subvrt,'City/Location':city ,\"Investor's Name\":invname,'Investment Type':invtyp,'Amount(in USD)':amt}\n",
    "\n",
    "Startupdf  = pd.DataFrame(Startup)\n",
    "Startupdf"
   ]
  },
  {
   "cell_type": "markdown",
   "id": "4dc94cff",
   "metadata": {},
   "source": [
    "## 7. Write a program to scrap all the available details of best gaming laptops from digit.in."
   ]
  },
  {
   "cell_type": "code",
   "execution_count": 74,
   "id": "0c591e60",
   "metadata": {},
   "outputs": [],
   "source": [
    "driver = webdriver.Chrome(r\"G:\\chromedriver_win32\\chromedriver.exe\")"
   ]
  },
  {
   "cell_type": "code",
   "execution_count": 75,
   "id": "c2767bf7",
   "metadata": {},
   "outputs": [],
   "source": [
    "url =  'https://www.digit.in/'"
   ]
  },
  {
   "cell_type": "code",
   "execution_count": 76,
   "id": "7a432324",
   "metadata": {},
   "outputs": [],
   "source": [
    "#opening the webpage through our driver\n",
    "driver.get(url)"
   ]
  },
  {
   "cell_type": "code",
   "execution_count": 77,
   "id": "e39d9c61",
   "metadata": {},
   "outputs": [],
   "source": [
    "#clicking on top 10 button\n",
    "top10btn = driver.find_element(By.XPATH,'/html/body/div[1]/div/div[4]/ul/li[4]/a')\n",
    "top10btn.click() "
   ]
  },
  {
   "cell_type": "code",
   "execution_count": 78,
   "id": "0fb4a7a3",
   "metadata": {},
   "outputs": [],
   "source": [
    "# clicking on Gaminglaptop Article\n",
    "gaminglaptopbtn = driver.find_element(By.XPATH,'/html/body/div[3]/div/div/div[3]/div[2]/ul/li[25]/a   ')\n",
    "gaminglaptopbtn.click() "
   ]
  },
  {
   "cell_type": "code",
   "execution_count": 84,
   "id": "847174cd",
   "metadata": {},
   "outputs": [],
   "source": [
    "name = []\n",
    "os = []\n",
    "disp = []\n",
    "mem = []\n",
    "price = []\n",
    "Processor = []\n",
    "GraphProc= []\n",
    "dim = []\n",
    "wt = []\n",
    "desc = []"
   ]
  },
  {
   "cell_type": "code",
   "execution_count": 85,
   "id": "f4a64afe",
   "metadata": {},
   "outputs": [],
   "source": [
    "name_tag  = driver.find_elements(By.XPATH,\"//*[@id='summtable']/tbody/tr/td[1]\")\n",
    "for n in name_tag:\n",
    "    name.append(n.text)\n",
    "price_tag  = driver.find_elements(By.XPATH,\"//*[@id='summtable']/tbody/tr/td[3]\")\n",
    "for p in price_tag:\n",
    "    price.append(p.text)\n",
    "os_tag = driver.find_elements(By.XPATH,\"//div[@class='Spcs-details']/table/tbody/tr[3]/td[3]\")\n",
    "for o in os_tag:\n",
    "    os.append(o.text)\n",
    "disp_tag = driver.find_elements(By.XPATH,\"//div[@class='Spcs-details']/table/tbody/tr[4]/td[3]\")\n",
    "for d in disp_tag:\n",
    "    disp.append(d.text)\n",
    "Processor_tag = driver.find_elements(By.XPATH,\"//div[@class='Spcs-details']/table/tbody/tr[5]/td[3]\")\n",
    "for k in Processor_tag:\n",
    "    Processor.append(k.text)\n",
    "GraphProc_tag = driver.find_elements(By.XPATH,\"//div[@class='Spcs-details']/table/tbody/tr[8]/td[3]\")\n",
    "for g in GraphProc_tag:\n",
    "    GraphProc.append(g.text)\n",
    "mem_tag = driver.find_elements(By.XPATH,\"//div[@class='Spcs-details']/table/tbody/tr[6]/td[3]\")\n",
    "for m in mem_tag:\n",
    "    mem.append(g.text)\n",
    "wt_tag = driver.find_elements(By.XPATH,\"//div[@class='Spcs-details']/table/tbody/tr[7]/td[3]\")\n",
    "for w in wt_tag:\n",
    "    wt.append(w.text)\n",
    "desc_tag = driver.find_elements(By.XPATH,\"//div[@class='tptn-prod-desc']\")\n",
    "for des in desc_tag:\n",
    "    desc.append(des.text)"
   ]
  },
  {
   "cell_type": "code",
   "execution_count": 86,
   "id": "5208d8e0",
   "metadata": {},
   "outputs": [
    {
     "data": {
      "text/plain": [
       "['MSI Titan GT77-12UHS',\n",
       " 'Alienware x17 R2',\n",
       " 'Acer Predator Triton 500 SE PT516-52s',\n",
       " 'Omen by HP (16-B1371TX)',\n",
       " 'Acer Predator Helios 300 AN515-45 (NH.QBRSI.0',\n",
       " 'MSI Delta 15 (A5EFK-083IN)',\n",
       " 'Omen by HP (16-c0141AX)',\n",
       " 'Lenovo Legion 5i Pro (82RF00MGIN)',\n",
       " 'Alienware m15 R5 Ryzen Edition icc-c780001win',\n",
       " 'Lenovo Slim 7 Gen 6 (82K8002JIN)']"
      ]
     },
     "execution_count": 86,
     "metadata": {},
     "output_type": "execute_result"
    }
   ],
   "source": [
    "name"
   ]
  },
  {
   "cell_type": "code",
   "execution_count": 87,
   "id": "7206ce75",
   "metadata": {},
   "outputs": [
    {
     "data": {
      "text/plain": [
       "(10, 10, 10, 10, 10, 10, 10, 10, 10)"
      ]
     },
     "execution_count": 87,
     "metadata": {},
     "output_type": "execute_result"
    }
   ],
   "source": [
    "len(name), len(os), len(disp), len(mem), len(price), len(Processor), len(GraphProc), len(wt), len(desc)"
   ]
  },
  {
   "cell_type": "code",
   "execution_count": 88,
   "id": "fc63216b",
   "metadata": {},
   "outputs": [],
   "source": [
    "Laptops = {'Laptop Name':name,'Operating System':os,'Display': disp,'Processor':Processor,'Graphics Processor':GraphProc ,'Memory':mem,'Weight(kg)':wt,'Price(₹)':price,'Details':desc}\n",
    "\n",
    "Laptops  = pd.DataFrame(Laptops)"
   ]
  },
  {
   "cell_type": "code",
   "execution_count": 89,
   "id": "b5965272",
   "metadata": {},
   "outputs": [
    {
     "data": {
      "text/html": [
       "<div>\n",
       "<style scoped>\n",
       "    .dataframe tbody tr th:only-of-type {\n",
       "        vertical-align: middle;\n",
       "    }\n",
       "\n",
       "    .dataframe tbody tr th {\n",
       "        vertical-align: top;\n",
       "    }\n",
       "\n",
       "    .dataframe thead th {\n",
       "        text-align: right;\n",
       "    }\n",
       "</style>\n",
       "<table border=\"1\" class=\"dataframe\">\n",
       "  <thead>\n",
       "    <tr style=\"text-align: right;\">\n",
       "      <th></th>\n",
       "      <th>Laptop Name</th>\n",
       "      <th>Operating System</th>\n",
       "      <th>Display</th>\n",
       "      <th>Processor</th>\n",
       "      <th>Graphics Processor</th>\n",
       "      <th>Memory</th>\n",
       "      <th>Weight(kg)</th>\n",
       "      <th>Price(₹)</th>\n",
       "      <th>Details</th>\n",
       "    </tr>\n",
       "  </thead>\n",
       "  <tbody>\n",
       "    <tr>\n",
       "      <th>0</th>\n",
       "      <td>MSI Titan GT77-12UHS</td>\n",
       "      <td>12th Gen Intel Core i9-12900HX 16 core processor</td>\n",
       "      <td>17.3″ (3840 x 2160) screen, 120 Hz refresh rate</td>\n",
       "      <td>Windows 11 Home</td>\n",
       "      <td>397 x 330 x 23 mm dimension &amp; 3.3 kg weight</td>\n",
       "      <td>356 x 252 x 16 mm dimension &amp; 1.9 kg weight</td>\n",
       "      <td>16 GB DDR6 NVIDIA GeForce RTX 3080 Ti Graphics...</td>\n",
       "      <td>N/A</td>\n",
       "      <td>The very best MSI gaming laptop featuring an I...</td>\n",
       "    </tr>\n",
       "    <tr>\n",
       "      <th>1</th>\n",
       "      <td>Alienware x17 R2</td>\n",
       "      <td>12th Gen Intel Core i9-12900H 14 core processo...</td>\n",
       "      <td>17.3″ (1920 x 1080) screen, 360 Hz refresh rate</td>\n",
       "      <td>Windows 11 Home</td>\n",
       "      <td>299 x 359 x 21 mm dimension &amp; 2.96 kg weight</td>\n",
       "      <td>356 x 252 x 16 mm dimension &amp; 1.9 kg weight</td>\n",
       "      <td>16 GB DDR6 NVIDIA GEFORCE RTX 3080 Ti Graphics...</td>\n",
       "      <td>₹ 389,990</td>\n",
       "      <td>Alienware, the premium gaming brand from Dell ...</td>\n",
       "    </tr>\n",
       "    <tr>\n",
       "      <th>2</th>\n",
       "      <td>Acer Predator Triton 500 SE PT516-52s</td>\n",
       "      <td>12th Gen Intel Core i7-12700H 14 core processo...</td>\n",
       "      <td>16″ (2560 x 1600) screen, 240 Hz refresh rate</td>\n",
       "      <td>Windows 11 Home</td>\n",
       "      <td>358 x 262 x 19.9 mm dimension &amp; 2.4 kg weight</td>\n",
       "      <td>356 x 252 x 16 mm dimension &amp; 1.9 kg weight</td>\n",
       "      <td>8 GB DDR6 NVIDIA GeForce RTXTM 3070 Ti Graphic...</td>\n",
       "      <td>₹ 300,000</td>\n",
       "      <td>The Predator lineup from Acer has shown great ...</td>\n",
       "    </tr>\n",
       "    <tr>\n",
       "      <th>3</th>\n",
       "      <td>Omen by HP (16-B1371TX)</td>\n",
       "      <td>12th Gen Intel Core i7-12700H 14 core processo...</td>\n",
       "      <td>16.1″ (2560 x 1440) screen</td>\n",
       "      <td>Windows 11 Home</td>\n",
       "      <td>369 x 248 x 23 mm dimension &amp; 2.32 kg weight</td>\n",
       "      <td>356 x 252 x 16 mm dimension &amp; 1.9 kg weight</td>\n",
       "      <td>8 GB GDDR6 NVIDIA GeForce RTX 3070 Graphics card</td>\n",
       "      <td>₹ 171,490</td>\n",
       "      <td>Omen by HP is a premium gaming lineup which is...</td>\n",
       "    </tr>\n",
       "    <tr>\n",
       "      <th>4</th>\n",
       "      <td>Acer Predator Helios 300 AN515-45 (NH.QBRSI.0</td>\n",
       "      <td>AMD Ryzen 9-5900HX 8 core processor</td>\n",
       "      <td>15.6″ (2560 x 1440) screen, 165 Hz refresh rate</td>\n",
       "      <td>Windows 11 Home</td>\n",
       "      <td>363 x 255 x 23.9 mm dimension &amp; 2.4 kg weight</td>\n",
       "      <td>356 x 252 x 16 mm dimension &amp; 1.9 kg weight</td>\n",
       "      <td>8 GB DDR6 NVIDIA GeForce RTX 3070 Graphics card</td>\n",
       "      <td>₹ 172,999</td>\n",
       "      <td>Acer Predator Helios 300 AN515-45 is the best ...</td>\n",
       "    </tr>\n",
       "    <tr>\n",
       "      <th>5</th>\n",
       "      <td>MSI Delta 15 (A5EFK-083IN)</td>\n",
       "      <td>AMD 5th Gen Ryzen 9-5900HX 8 core processor wi...</td>\n",
       "      <td>15.6″ (1920 x 1080) screen, 240Hz refresh rate</td>\n",
       "      <td>Windows 11 Home</td>\n",
       "      <td>357 x 247 x 19 mm dimension &amp; 1.9 kg weight</td>\n",
       "      <td>356 x 252 x 16 mm dimension &amp; 1.9 kg weight</td>\n",
       "      <td>10 GB DDR6 AMD Radeon RX 6700M Graphics card</td>\n",
       "      <td>₹ 188,990</td>\n",
       "      <td>The best MSI gaming laptop with an AMD process...</td>\n",
       "    </tr>\n",
       "    <tr>\n",
       "      <th>6</th>\n",
       "      <td>Omen by HP (16-c0141AX)</td>\n",
       "      <td>AMD Ryzen™ 9 5900HX 8 core processor with 3.3 ...</td>\n",
       "      <td>16.1″ (2560 x 1440) screen</td>\n",
       "      <td>Windows 11 Home</td>\n",
       "      <td>36.92 x 24.8 x 2.3 mm dimension &amp; 2.3 kg weight</td>\n",
       "      <td>356 x 252 x 16 mm dimension &amp; 1.9 kg weight</td>\n",
       "      <td>8 GB GDDR6 AMD Radeon™ RX 6600M Graphics card</td>\n",
       "      <td>₹ 124,990</td>\n",
       "      <td>Another worthy gaming laptop from the Omen lin...</td>\n",
       "    </tr>\n",
       "    <tr>\n",
       "      <th>7</th>\n",
       "      <td>Lenovo Legion 5i Pro (82RF00MGIN)</td>\n",
       "      <td>12th Gen Intel Core i7-12700H 14 core processo...</td>\n",
       "      <td>16″ (2560 x 1600) screen, 165 Hz refresh rate</td>\n",
       "      <td>Windows 11 Home</td>\n",
       "      <td>360 x 264 x 20 mm dimension &amp; 2.49 kg weight</td>\n",
       "      <td>356 x 252 x 16 mm dimension &amp; 1.9 kg weight</td>\n",
       "      <td>6 GB DDR6 NVIDIA GeForce RTX 3060 Graphics card</td>\n",
       "      <td>₹ 169,799</td>\n",
       "      <td>Lenovo has gone a little mainstream with their...</td>\n",
       "    </tr>\n",
       "    <tr>\n",
       "      <th>8</th>\n",
       "      <td>Alienware m15 R5 Ryzen Edition icc-c780001win</td>\n",
       "      <td>AMD Ryzen R7-5800H 8 core processor with 4.40 ...</td>\n",
       "      <td>15.6″ (1920 x 1080) screen, 165Hz refresh rate</td>\n",
       "      <td>Windows 11 Home</td>\n",
       "      <td>356.2 x 272.5 x 22.85 mm dimension &amp; 2.69 kg w...</td>\n",
       "      <td>356 x 252 x 16 mm dimension &amp; 1.9 kg weight</td>\n",
       "      <td>6 GB DDR6 NVIDIA GeForce RTX 3060 Graphics card</td>\n",
       "      <td>₹ 144,990</td>\n",
       "      <td>Dell not only has gaming laptops under the Del...</td>\n",
       "    </tr>\n",
       "    <tr>\n",
       "      <th>9</th>\n",
       "      <td>Lenovo Slim 7 Gen 6 (82K8002JIN)</td>\n",
       "      <td>Lenovo Ryzen 7-5800H processor with 3.2 GHz cl...</td>\n",
       "      <td>15.6″ screen, 165 Hz refresh rate</td>\n",
       "      <td>Windows 11 Home</td>\n",
       "      <td>356 x 252 x 16 mm dimension &amp; 1.9 kg weight</td>\n",
       "      <td>356 x 252 x 16 mm dimension &amp; 1.9 kg weight</td>\n",
       "      <td>6 GB DDR6 NVIDIA GeForce 3060 Max-Q Graphics card</td>\n",
       "      <td>₹ 131,990</td>\n",
       "      <td>Lenovo has been pushing for thinner gaming lap...</td>\n",
       "    </tr>\n",
       "  </tbody>\n",
       "</table>\n",
       "</div>"
      ],
      "text/plain": [
       "                                     Laptop Name  \\\n",
       "0                           MSI Titan GT77-12UHS   \n",
       "1                               Alienware x17 R2   \n",
       "2          Acer Predator Triton 500 SE PT516-52s   \n",
       "3                        Omen by HP (16-B1371TX)   \n",
       "4  Acer Predator Helios 300 AN515-45 (NH.QBRSI.0   \n",
       "5                     MSI Delta 15 (A5EFK-083IN)   \n",
       "6                        Omen by HP (16-c0141AX)   \n",
       "7              Lenovo Legion 5i Pro (82RF00MGIN)   \n",
       "8  Alienware m15 R5 Ryzen Edition icc-c780001win   \n",
       "9               Lenovo Slim 7 Gen 6 (82K8002JIN)   \n",
       "\n",
       "                                    Operating System  \\\n",
       "0   12th Gen Intel Core i9-12900HX 16 core processor   \n",
       "1  12th Gen Intel Core i9-12900H 14 core processo...   \n",
       "2  12th Gen Intel Core i7-12700H 14 core processo...   \n",
       "3  12th Gen Intel Core i7-12700H 14 core processo...   \n",
       "4                AMD Ryzen 9-5900HX 8 core processor   \n",
       "5  AMD 5th Gen Ryzen 9-5900HX 8 core processor wi...   \n",
       "6  AMD Ryzen™ 9 5900HX 8 core processor with 3.3 ...   \n",
       "7  12th Gen Intel Core i7-12700H 14 core processo...   \n",
       "8  AMD Ryzen R7-5800H 8 core processor with 4.40 ...   \n",
       "9  Lenovo Ryzen 7-5800H processor with 3.2 GHz cl...   \n",
       "\n",
       "                                           Display        Processor  \\\n",
       "0  17.3″ (3840 x 2160) screen, 120 Hz refresh rate  Windows 11 Home   \n",
       "1  17.3″ (1920 x 1080) screen, 360 Hz refresh rate  Windows 11 Home   \n",
       "2    16″ (2560 x 1600) screen, 240 Hz refresh rate  Windows 11 Home   \n",
       "3                       16.1″ (2560 x 1440) screen  Windows 11 Home   \n",
       "4  15.6″ (2560 x 1440) screen, 165 Hz refresh rate  Windows 11 Home   \n",
       "5   15.6″ (1920 x 1080) screen, 240Hz refresh rate  Windows 11 Home   \n",
       "6                       16.1″ (2560 x 1440) screen  Windows 11 Home   \n",
       "7    16″ (2560 x 1600) screen, 165 Hz refresh rate  Windows 11 Home   \n",
       "8   15.6″ (1920 x 1080) screen, 165Hz refresh rate  Windows 11 Home   \n",
       "9                15.6″ screen, 165 Hz refresh rate  Windows 11 Home   \n",
       "\n",
       "                                  Graphics Processor  \\\n",
       "0        397 x 330 x 23 mm dimension & 3.3 kg weight   \n",
       "1       299 x 359 x 21 mm dimension & 2.96 kg weight   \n",
       "2      358 x 262 x 19.9 mm dimension & 2.4 kg weight   \n",
       "3       369 x 248 x 23 mm dimension & 2.32 kg weight   \n",
       "4      363 x 255 x 23.9 mm dimension & 2.4 kg weight   \n",
       "5        357 x 247 x 19 mm dimension & 1.9 kg weight   \n",
       "6    36.92 x 24.8 x 2.3 mm dimension & 2.3 kg weight   \n",
       "7       360 x 264 x 20 mm dimension & 2.49 kg weight   \n",
       "8  356.2 x 272.5 x 22.85 mm dimension & 2.69 kg w...   \n",
       "9        356 x 252 x 16 mm dimension & 1.9 kg weight   \n",
       "\n",
       "                                        Memory  \\\n",
       "0  356 x 252 x 16 mm dimension & 1.9 kg weight   \n",
       "1  356 x 252 x 16 mm dimension & 1.9 kg weight   \n",
       "2  356 x 252 x 16 mm dimension & 1.9 kg weight   \n",
       "3  356 x 252 x 16 mm dimension & 1.9 kg weight   \n",
       "4  356 x 252 x 16 mm dimension & 1.9 kg weight   \n",
       "5  356 x 252 x 16 mm dimension & 1.9 kg weight   \n",
       "6  356 x 252 x 16 mm dimension & 1.9 kg weight   \n",
       "7  356 x 252 x 16 mm dimension & 1.9 kg weight   \n",
       "8  356 x 252 x 16 mm dimension & 1.9 kg weight   \n",
       "9  356 x 252 x 16 mm dimension & 1.9 kg weight   \n",
       "\n",
       "                                          Weight(kg)   Price(₹)  \\\n",
       "0  16 GB DDR6 NVIDIA GeForce RTX 3080 Ti Graphics...        N/A   \n",
       "1  16 GB DDR6 NVIDIA GEFORCE RTX 3080 Ti Graphics...  ₹ 389,990   \n",
       "2  8 GB DDR6 NVIDIA GeForce RTXTM 3070 Ti Graphic...  ₹ 300,000   \n",
       "3   8 GB GDDR6 NVIDIA GeForce RTX 3070 Graphics card  ₹ 171,490   \n",
       "4    8 GB DDR6 NVIDIA GeForce RTX 3070 Graphics card  ₹ 172,999   \n",
       "5       10 GB DDR6 AMD Radeon RX 6700M Graphics card  ₹ 188,990   \n",
       "6      8 GB GDDR6 AMD Radeon™ RX 6600M Graphics card  ₹ 124,990   \n",
       "7    6 GB DDR6 NVIDIA GeForce RTX 3060 Graphics card  ₹ 169,799   \n",
       "8    6 GB DDR6 NVIDIA GeForce RTX 3060 Graphics card  ₹ 144,990   \n",
       "9  6 GB DDR6 NVIDIA GeForce 3060 Max-Q Graphics card  ₹ 131,990   \n",
       "\n",
       "                                             Details  \n",
       "0  The very best MSI gaming laptop featuring an I...  \n",
       "1  Alienware, the premium gaming brand from Dell ...  \n",
       "2  The Predator lineup from Acer has shown great ...  \n",
       "3  Omen by HP is a premium gaming lineup which is...  \n",
       "4  Acer Predator Helios 300 AN515-45 is the best ...  \n",
       "5  The best MSI gaming laptop with an AMD process...  \n",
       "6  Another worthy gaming laptop from the Omen lin...  \n",
       "7  Lenovo has gone a little mainstream with their...  \n",
       "8  Dell not only has gaming laptops under the Del...  \n",
       "9  Lenovo has been pushing for thinner gaming lap...  "
      ]
     },
     "execution_count": 89,
     "metadata": {},
     "output_type": "execute_result"
    }
   ],
   "source": [
    "Laptops"
   ]
  },
  {
   "cell_type": "markdown",
   "id": "06a4bde0",
   "metadata": {},
   "source": [
    "## 8. Write a python program to scrape the details for all billionaires from www.forbes.com. Details to be scrapped: “Rank”, “Name”, “Net worth”, “Age”, “Citizenship”, “Source”, “Industry”.\n"
   ]
  },
  {
   "cell_type": "code",
   "execution_count": 7,
   "id": "a782f1e0",
   "metadata": {},
   "outputs": [],
   "source": [
    "driver = webdriver.Chrome(r\"G:\\chromedriver_win32\\chromedriver.exe\")"
   ]
  },
  {
   "cell_type": "code",
   "execution_count": 8,
   "id": "b21960e8",
   "metadata": {},
   "outputs": [],
   "source": [
    "url =  'https://www.forbes.com'"
   ]
  },
  {
   "cell_type": "code",
   "execution_count": 9,
   "id": "d3cb2be8",
   "metadata": {},
   "outputs": [],
   "source": [
    "#opening the webpage through our driver\n",
    "driver.get(url)"
   ]
  },
  {
   "cell_type": "code",
   "execution_count": 10,
   "id": "b18b7413",
   "metadata": {},
   "outputs": [],
   "source": [
    "#clicking on Explore button\n",
    "xplbtn = driver.find_element(By.XPATH,'/html/body/div[1]/header/nav/div[1]/div/div/div[1]')\n",
    "xplbtn.click() "
   ]
  },
  {
   "cell_type": "code",
   "execution_count": 11,
   "id": "5d758f8f",
   "metadata": {},
   "outputs": [],
   "source": [
    " #clicking on Billionaires button\n",
    "bilbtn = driver.find_element(By.XPATH,'/html/body/div[1]/header/nav/div[1]/div/div/div[2]/ul/li[1]/div[1]')\n",
    "bilbtn.click() "
   ]
  },
  {
   "cell_type": "code",
   "execution_count": 12,
   "id": "3fc01d7e",
   "metadata": {},
   "outputs": [],
   "source": [
    " #clicking on World's Billionaires button\n",
    "allbtn =  driver.find_element(By.XPATH,'/html/body/div[1]/main/div/section/section[1]/div/div/div[1]/div/div[1]/div[1]/div[2]/a')\n",
    "allbtn.click() "
   ]
  },
  {
   "cell_type": "code",
   "execution_count": 13,
   "id": "13b2a629",
   "metadata": {},
   "outputs": [],
   "source": [
    "rank = []\n",
    "name = []\n",
    "netwrth = []\n",
    "age = []\n",
    "cit = []\n",
    "src = []\n",
    "ind = []"
   ]
  },
  {
   "cell_type": "code",
   "execution_count": 14,
   "id": "822337e0",
   "metadata": {},
   "outputs": [],
   "source": [
    "rank_tag = driver.find_elements(By.XPATH,\"//div[@class='rank']\")\n",
    "name_tag = driver.find_elements(By.XPATH,\"//div[@class='personName']//div\")\n",
    "netwrth_tag = driver.find_elements(By.XPATH,\"//div[@class='netWorth']//div\")\n",
    "age_tag = driver.find_elements(By.XPATH,\"//div[@class='age']//div\")\n",
    "cit_tag = driver.find_elements(By.XPATH,\"//div[@class='countryOfCitizenship']\")\n",
    "src_tag = driver.find_elements(By.XPATH,\"//div[@class='source-column']//div\")\n",
    "ind_tag = driver.find_elements(By.XPATH,\"//div[@class='category']//div\")"
   ]
  },
  {
   "cell_type": "code",
   "execution_count": 15,
   "id": "fb4c5132",
   "metadata": {},
   "outputs": [],
   "source": [
    "for r in rank_tag:\n",
    "    rank.append(r.text)\n",
    "for n in name_tag:\n",
    "    name.append(n.text)\n",
    "for nt in netwrth_tag:\n",
    "    netwrth.append(nt.text)\n",
    "for a in age_tag:\n",
    "    age.append(a.text)\n",
    "for c in cit_tag:\n",
    "    cit.append(c.text)\n",
    "for s in src_tag:\n",
    "    src.append(s.text)\n",
    "\n",
    "for i in ind_tag:\n",
    "    ind.append(i.text)"
   ]
  },
  {
   "cell_type": "code",
   "execution_count": 16,
   "id": "8526be57",
   "metadata": {},
   "outputs": [
    {
     "data": {
      "text/plain": [
       "200"
      ]
     },
     "execution_count": 16,
     "metadata": {},
     "output_type": "execute_result"
    }
   ],
   "source": [
    "len(rank)"
   ]
  },
  {
   "cell_type": "code",
   "execution_count": 21,
   "id": "7077a7be",
   "metadata": {},
   "outputs": [
    {
     "data": {
      "text/plain": [
       "200"
      ]
     },
     "execution_count": 21,
     "metadata": {},
     "output_type": "execute_result"
    }
   ],
   "source": [
    "len(name)"
   ]
  },
  {
   "cell_type": "code",
   "execution_count": 22,
   "id": "ce98e905",
   "metadata": {},
   "outputs": [
    {
     "data": {
      "text/plain": [
       "200"
      ]
     },
     "execution_count": 22,
     "metadata": {},
     "output_type": "execute_result"
    }
   ],
   "source": [
    "len(age)"
   ]
  },
  {
   "cell_type": "code",
   "execution_count": 23,
   "id": "8b243bf6",
   "metadata": {},
   "outputs": [
    {
     "data": {
      "text/plain": [
       "200"
      ]
     },
     "execution_count": 23,
     "metadata": {},
     "output_type": "execute_result"
    }
   ],
   "source": [
    "len(cit)"
   ]
  },
  {
   "cell_type": "code",
   "execution_count": 24,
   "id": "6090eb77",
   "metadata": {},
   "outputs": [
    {
     "data": {
      "text/plain": [
       "200"
      ]
     },
     "execution_count": 24,
     "metadata": {},
     "output_type": "execute_result"
    }
   ],
   "source": [
    "len(ind)"
   ]
  },
  {
   "cell_type": "code",
   "execution_count": 17,
   "id": "0cad27f9",
   "metadata": {},
   "outputs": [],
   "source": [
    "# #removing empty string values from netwrth\n",
    "while('' in src):  \n",
    "    src.remove(\"\")"
   ]
  },
  {
   "cell_type": "code",
   "execution_count": 18,
   "id": "24d833c6",
   "metadata": {},
   "outputs": [
    {
     "data": {
      "text/plain": [
       "200"
      ]
     },
     "execution_count": 18,
     "metadata": {},
     "output_type": "execute_result"
    }
   ],
   "source": [
    "len(src)"
   ]
  },
  {
   "cell_type": "code",
   "execution_count": 19,
   "id": "67bbea20",
   "metadata": {},
   "outputs": [],
   "source": [
    "#removing empty string values from netwrth\n",
    "while('' in netwrth):  \n",
    "    netwrth.remove(\"\")"
   ]
  },
  {
   "cell_type": "code",
   "execution_count": 20,
   "id": "8820a003",
   "metadata": {},
   "outputs": [
    {
     "data": {
      "text/plain": [
       "200"
      ]
     },
     "execution_count": 20,
     "metadata": {},
     "output_type": "execute_result"
    }
   ],
   "source": [
    "len(netwrth)"
   ]
  },
  {
   "cell_type": "code",
   "execution_count": 25,
   "id": "0059279d",
   "metadata": {},
   "outputs": [],
   "source": [
    "Billionaires = {'Rank':rank,'Name':name,'Net Worth':netwrth,'Age': age,'Citizenship/Country':cit,'Source':src,'Industry':ind}\n",
    "\n",
    "BillionairesDF  = pd.DataFrame(Billionaires)"
   ]
  },
  {
   "cell_type": "code",
   "execution_count": 26,
   "id": "8dc1b2f9",
   "metadata": {},
   "outputs": [
    {
     "data": {
      "text/html": [
       "<div>\n",
       "<style scoped>\n",
       "    .dataframe tbody tr th:only-of-type {\n",
       "        vertical-align: middle;\n",
       "    }\n",
       "\n",
       "    .dataframe tbody tr th {\n",
       "        vertical-align: top;\n",
       "    }\n",
       "\n",
       "    .dataframe thead th {\n",
       "        text-align: right;\n",
       "    }\n",
       "</style>\n",
       "<table border=\"1\" class=\"dataframe\">\n",
       "  <thead>\n",
       "    <tr style=\"text-align: right;\">\n",
       "      <th></th>\n",
       "      <th>Rank</th>\n",
       "      <th>Name</th>\n",
       "      <th>Net Worth</th>\n",
       "      <th>Age</th>\n",
       "      <th>Citizenship/Country</th>\n",
       "      <th>Source</th>\n",
       "      <th>Industry</th>\n",
       "    </tr>\n",
       "  </thead>\n",
       "  <tbody>\n",
       "    <tr>\n",
       "      <th>0</th>\n",
       "      <td>1.</td>\n",
       "      <td>Elon Musk</td>\n",
       "      <td>$219 B</td>\n",
       "      <td>50</td>\n",
       "      <td>United States</td>\n",
       "      <td>Tesla, SpaceX</td>\n",
       "      <td>Automotive</td>\n",
       "    </tr>\n",
       "    <tr>\n",
       "      <th>1</th>\n",
       "      <td>2.</td>\n",
       "      <td>Jeff Bezos</td>\n",
       "      <td>$171 B</td>\n",
       "      <td>58</td>\n",
       "      <td>United States</td>\n",
       "      <td>Amazon</td>\n",
       "      <td>Technology</td>\n",
       "    </tr>\n",
       "    <tr>\n",
       "      <th>2</th>\n",
       "      <td>3.</td>\n",
       "      <td>Bernard Arnault &amp; family</td>\n",
       "      <td>$158 B</td>\n",
       "      <td>73</td>\n",
       "      <td>France</td>\n",
       "      <td>LVMH</td>\n",
       "      <td>Fashion &amp; Retail</td>\n",
       "    </tr>\n",
       "    <tr>\n",
       "      <th>3</th>\n",
       "      <td>4.</td>\n",
       "      <td>Bill Gates</td>\n",
       "      <td>$129 B</td>\n",
       "      <td>66</td>\n",
       "      <td>United States</td>\n",
       "      <td>Microsoft</td>\n",
       "      <td>Technology</td>\n",
       "    </tr>\n",
       "    <tr>\n",
       "      <th>4</th>\n",
       "      <td>5.</td>\n",
       "      <td>Warren Buffett</td>\n",
       "      <td>$118 B</td>\n",
       "      <td>91</td>\n",
       "      <td>United States</td>\n",
       "      <td>Berkshire Hathaway</td>\n",
       "      <td>Finance &amp; Investments</td>\n",
       "    </tr>\n",
       "    <tr>\n",
       "      <th>...</th>\n",
       "      <td>...</td>\n",
       "      <td>...</td>\n",
       "      <td>...</td>\n",
       "      <td>...</td>\n",
       "      <td>...</td>\n",
       "      <td>...</td>\n",
       "      <td>...</td>\n",
       "    </tr>\n",
       "    <tr>\n",
       "      <th>195</th>\n",
       "      <td>192.</td>\n",
       "      <td>Marcel Herrmann Telles</td>\n",
       "      <td>$10.3 B</td>\n",
       "      <td>72</td>\n",
       "      <td>Brazil</td>\n",
       "      <td>beer</td>\n",
       "      <td>Food &amp; Beverage</td>\n",
       "    </tr>\n",
       "    <tr>\n",
       "      <th>196</th>\n",
       "      <td>197.</td>\n",
       "      <td>Leon Black</td>\n",
       "      <td>$10 B</td>\n",
       "      <td>70</td>\n",
       "      <td>United States</td>\n",
       "      <td>private equity</td>\n",
       "      <td>Finance &amp; Investments</td>\n",
       "    </tr>\n",
       "    <tr>\n",
       "      <th>197</th>\n",
       "      <td>197.</td>\n",
       "      <td>Joe Gebbia</td>\n",
       "      <td>$10 B</td>\n",
       "      <td>40</td>\n",
       "      <td>United States</td>\n",
       "      <td>Airbnb</td>\n",
       "      <td>Technology</td>\n",
       "    </tr>\n",
       "    <tr>\n",
       "      <th>198</th>\n",
       "      <td>197.</td>\n",
       "      <td>David Geffen</td>\n",
       "      <td>$10 B</td>\n",
       "      <td>79</td>\n",
       "      <td>United States</td>\n",
       "      <td>movies, record labels</td>\n",
       "      <td>Media &amp; Entertainment</td>\n",
       "    </tr>\n",
       "    <tr>\n",
       "      <th>199</th>\n",
       "      <td>197.</td>\n",
       "      <td>Yu Renrong</td>\n",
       "      <td>$10 B</td>\n",
       "      <td>56</td>\n",
       "      <td>China</td>\n",
       "      <td>semiconductors</td>\n",
       "      <td>Manufacturing</td>\n",
       "    </tr>\n",
       "  </tbody>\n",
       "</table>\n",
       "<p>200 rows × 7 columns</p>\n",
       "</div>"
      ],
      "text/plain": [
       "     Rank                      Name Net Worth Age Citizenship/Country  \\\n",
       "0      1.                 Elon Musk    $219 B  50       United States   \n",
       "1      2.                Jeff Bezos    $171 B  58       United States   \n",
       "2      3.  Bernard Arnault & family    $158 B  73              France   \n",
       "3      4.                Bill Gates    $129 B  66       United States   \n",
       "4      5.            Warren Buffett    $118 B  91       United States   \n",
       "..    ...                       ...       ...  ..                 ...   \n",
       "195  192.    Marcel Herrmann Telles   $10.3 B  72              Brazil   \n",
       "196  197.                Leon Black     $10 B  70       United States   \n",
       "197  197.                Joe Gebbia     $10 B  40       United States   \n",
       "198  197.              David Geffen     $10 B  79       United States   \n",
       "199  197.                Yu Renrong     $10 B  56               China   \n",
       "\n",
       "                    Source               Industry  \n",
       "0            Tesla, SpaceX             Automotive  \n",
       "1                   Amazon             Technology  \n",
       "2                     LVMH       Fashion & Retail  \n",
       "3                Microsoft             Technology  \n",
       "4       Berkshire Hathaway  Finance & Investments  \n",
       "..                     ...                    ...  \n",
       "195                   beer        Food & Beverage  \n",
       "196         private equity  Finance & Investments  \n",
       "197                 Airbnb             Technology  \n",
       "198  movies, record labels  Media & Entertainment  \n",
       "199         semiconductors          Manufacturing  \n",
       "\n",
       "[200 rows x 7 columns]"
      ]
     },
     "execution_count": 26,
     "metadata": {},
     "output_type": "execute_result"
    }
   ],
   "source": [
    "BillionairesDF"
   ]
  },
  {
   "cell_type": "markdown",
   "id": "537c662e",
   "metadata": {},
   "source": [
    "## 9. Write a program to extract at least 500 Comments, Comment upvote and time when comment was posted from any YouTube Video."
   ]
  },
  {
   "cell_type": "code",
   "execution_count": 27,
   "id": "dd3ef2f8",
   "metadata": {},
   "outputs": [],
   "source": [
    "driver = webdriver.Chrome(r\"G:\\chromedriver_win32\\chromedriver.exe\")"
   ]
  },
  {
   "cell_type": "code",
   "execution_count": 28,
   "id": "9c450239",
   "metadata": {},
   "outputs": [
    {
     "name": "stdout",
     "output_type": "stream",
     "text": [
      "Enter Youtube video URL:https://www.youtube.com/watch?v=k2P_pHQDlp0&t=13s&ab_channel=KrishNaik\n"
     ]
    }
   ],
   "source": [
    "url = input('Enter Youtube video URL:')"
   ]
  },
  {
   "cell_type": "code",
   "execution_count": 29,
   "id": "9a8c6f32",
   "metadata": {},
   "outputs": [],
   "source": [
    "#opening the webpage through our driver\n",
    "driver.get(url)"
   ]
  },
  {
   "cell_type": "code",
   "execution_count": 42,
   "id": "4b2eca1b",
   "metadata": {},
   "outputs": [],
   "source": [
    "i=0\n",
    "while(i<1000):\n",
    "    driver.execute_script(\"window.scrollBy(0,500)\") # scroll down to get more comments\n",
    "    i+=1\n",
    "while(i<1002):\n",
    "    driver.execute_script(\"window.scrollBy(0,5000)\") # scroll down to get more comments\n",
    "    i+=1"
   ]
  },
  {
   "cell_type": "code",
   "execution_count": 43,
   "id": "ae775e54",
   "metadata": {},
   "outputs": [],
   "source": [
    "cmt = []\n",
    "upvt = []\n",
    "cmttime = []"
   ]
  },
  {
   "cell_type": "code",
   "execution_count": 44,
   "id": "1c7b2700",
   "metadata": {},
   "outputs": [],
   "source": [
    "cmt_tag = driver.find_elements(By.XPATH,\"//*[@id='content-text']\")\n",
    "for i in cmt_tag:\n",
    "    cmt.append(i.text.replace(\"\\n\",''))\n",
    "\n",
    "upvt_tag = driver.find_elements(By.XPATH,\"//*[@id='vote-count-middle']\")\n",
    "for j in upvt_tag:\n",
    "    try: \n",
    "        upvt.append(j.text)\n",
    "    except:\n",
    "        upvt.append('-')\n",
    "cmttime_tag = driver.find_elements(By.XPATH,\"//*[@id='header-author']/yt-formatted-string/a\")\n",
    "for k in cmttime_tag:\n",
    "    try: \n",
    "        cmttime.append(k.text)\n",
    "    except:\n",
    "        cmttime.append('-')"
   ]
  },
  {
   "cell_type": "code",
   "execution_count": 45,
   "id": "e030819a",
   "metadata": {},
   "outputs": [
    {
     "data": {
      "text/plain": [
       "660"
      ]
     },
     "execution_count": 45,
     "metadata": {},
     "output_type": "execute_result"
    }
   ],
   "source": [
    "len(upvt)"
   ]
  },
  {
   "cell_type": "code",
   "execution_count": 46,
   "id": "6ef9ab81",
   "metadata": {},
   "outputs": [],
   "source": [
    "no_upvt = upvt[0:500]"
   ]
  },
  {
   "cell_type": "code",
   "execution_count": 47,
   "id": "38867e81",
   "metadata": {},
   "outputs": [
    {
     "data": {
      "text/plain": [
       "660"
      ]
     },
     "execution_count": 47,
     "metadata": {},
     "output_type": "execute_result"
    }
   ],
   "source": [
    "len(cmt)"
   ]
  },
  {
   "cell_type": "code",
   "execution_count": 48,
   "id": "1bd21e45",
   "metadata": {},
   "outputs": [],
   "source": [
    "comment = cmt[0:500]"
   ]
  },
  {
   "cell_type": "code",
   "execution_count": 49,
   "id": "1e0db415",
   "metadata": {},
   "outputs": [
    {
     "data": {
      "text/plain": [
       "660"
      ]
     },
     "execution_count": 49,
     "metadata": {},
     "output_type": "execute_result"
    }
   ],
   "source": [
    "len(cmttime)"
   ]
  },
  {
   "cell_type": "code",
   "execution_count": 50,
   "id": "ae933983",
   "metadata": {},
   "outputs": [],
   "source": [
    "comment_time = cmttime[0:500]"
   ]
  },
  {
   "cell_type": "code",
   "execution_count": 52,
   "id": "2389394f",
   "metadata": {},
   "outputs": [],
   "source": [
    "Youtube = {'Comment':comment,'Commented':comment_time,'Number of upvotes':no_upvt}\n",
    "\n",
    "YoutubeDF = pd.DataFrame(Youtube)"
   ]
  },
  {
   "cell_type": "code",
   "execution_count": 53,
   "id": "7a846906",
   "metadata": {},
   "outputs": [
    {
     "data": {
      "text/html": [
       "<div>\n",
       "<style scoped>\n",
       "    .dataframe tbody tr th:only-of-type {\n",
       "        vertical-align: middle;\n",
       "    }\n",
       "\n",
       "    .dataframe tbody tr th {\n",
       "        vertical-align: top;\n",
       "    }\n",
       "\n",
       "    .dataframe thead th {\n",
       "        text-align: right;\n",
       "    }\n",
       "</style>\n",
       "<table border=\"1\" class=\"dataframe\">\n",
       "  <thead>\n",
       "    <tr style=\"text-align: right;\">\n",
       "      <th></th>\n",
       "      <th>Comment</th>\n",
       "      <th>Commented</th>\n",
       "      <th>Number of upvotes</th>\n",
       "    </tr>\n",
       "  </thead>\n",
       "  <tbody>\n",
       "    <tr>\n",
       "      <th>0</th>\n",
       "      <td>Hello All,We are happy to announce that Oneneu...</td>\n",
       "      <td>8 months ago</td>\n",
       "      <td>75</td>\n",
       "    </tr>\n",
       "    <tr>\n",
       "      <th>1</th>\n",
       "      <td>I don't know why all the youtubers explains st...</td>\n",
       "      <td>2 years ago</td>\n",
       "      <td>1.6K</td>\n",
       "    </tr>\n",
       "    <tr>\n",
       "      <th>2</th>\n",
       "      <td>Finally a good explanation that doesn't hide c...</td>\n",
       "      <td>2 years ago</td>\n",
       "      <td>445</td>\n",
       "    </tr>\n",
       "    <tr>\n",
       "      <th>3</th>\n",
       "      <td>Thank you very much for this video! Please not...</td>\n",
       "      <td>1 year ago</td>\n",
       "      <td>53</td>\n",
       "    </tr>\n",
       "    <tr>\n",
       "      <th>4</th>\n",
       "      <td>Your explanation is VERY revealing. Thank you ...</td>\n",
       "      <td>2 weeks ago</td>\n",
       "      <td></td>\n",
       "    </tr>\n",
       "    <tr>\n",
       "      <th>...</th>\n",
       "      <td>...</td>\n",
       "      <td>...</td>\n",
       "      <td>...</td>\n",
       "    </tr>\n",
       "    <tr>\n",
       "      <th>495</th>\n",
       "      <td>Artificial intelligence(machine learning (deep...</td>\n",
       "      <td>2 years ago</td>\n",
       "      <td></td>\n",
       "    </tr>\n",
       "    <tr>\n",
       "      <th>496</th>\n",
       "      <td>Thanks for clearing this!</td>\n",
       "      <td>1 year ago</td>\n",
       "      <td></td>\n",
       "    </tr>\n",
       "    <tr>\n",
       "      <th>497</th>\n",
       "      <td>Which one is best DS OR AI?</td>\n",
       "      <td>2 years ago</td>\n",
       "      <td></td>\n",
       "    </tr>\n",
       "    <tr>\n",
       "      <th>498</th>\n",
       "      <td>Nicely explained......</td>\n",
       "      <td>11 months ago</td>\n",
       "      <td></td>\n",
       "    </tr>\n",
       "    <tr>\n",
       "      <th>499</th>\n",
       "      <td>I'm in class 12th PCM and I want to be data sc...</td>\n",
       "      <td>6 months ago</td>\n",
       "      <td></td>\n",
       "    </tr>\n",
       "  </tbody>\n",
       "</table>\n",
       "<p>500 rows × 3 columns</p>\n",
       "</div>"
      ],
      "text/plain": [
       "                                               Comment      Commented  \\\n",
       "0    Hello All,We are happy to announce that Oneneu...   8 months ago   \n",
       "1    I don't know why all the youtubers explains st...    2 years ago   \n",
       "2    Finally a good explanation that doesn't hide c...    2 years ago   \n",
       "3    Thank you very much for this video! Please not...     1 year ago   \n",
       "4    Your explanation is VERY revealing. Thank you ...    2 weeks ago   \n",
       "..                                                 ...            ...   \n",
       "495  Artificial intelligence(machine learning (deep...    2 years ago   \n",
       "496                          Thanks for clearing this!     1 year ago   \n",
       "497                        Which one is best DS OR AI?    2 years ago   \n",
       "498                             Nicely explained......  11 months ago   \n",
       "499  I'm in class 12th PCM and I want to be data sc...   6 months ago   \n",
       "\n",
       "    Number of upvotes  \n",
       "0                  75  \n",
       "1                1.6K  \n",
       "2                 445  \n",
       "3                  53  \n",
       "4                      \n",
       "..                ...  \n",
       "495                    \n",
       "496                    \n",
       "497                    \n",
       "498                    \n",
       "499                    \n",
       "\n",
       "[500 rows x 3 columns]"
      ]
     },
     "execution_count": 53,
     "metadata": {},
     "output_type": "execute_result"
    }
   ],
   "source": [
    "YoutubeDF"
   ]
  },
  {
   "cell_type": "markdown",
   "id": "f1c440bd",
   "metadata": {},
   "source": [
    "## 10. Write a python program to scrape a data for all available Hostels from https://www.hostelworld.com/ in “London” location. You have to scrape hostel name, distance from city centre, ratings, total reviews, overall reviews, privates from price, dorms from price, facilities and property description"
   ]
  },
  {
   "cell_type": "code",
   "execution_count": 57,
   "id": "266524a1",
   "metadata": {},
   "outputs": [],
   "source": [
    "driver = webdriver.Chrome(r\"G:\\chromedriver_win32\\chromedriver.exe\")"
   ]
  },
  {
   "cell_type": "code",
   "execution_count": 58,
   "id": "1d0d1d8c",
   "metadata": {},
   "outputs": [],
   "source": [
    "url =  'https://www.hostelworld.com/'"
   ]
  },
  {
   "cell_type": "code",
   "execution_count": 59,
   "id": "f3e883ce",
   "metadata": {},
   "outputs": [],
   "source": [
    "#opening the webpage through our driver\n",
    "driver.get(url)"
   ]
  },
  {
   "cell_type": "code",
   "execution_count": 60,
   "id": "f9bdaeeb",
   "metadata": {},
   "outputs": [],
   "source": [
    "serchbar = driver.find_element(By.XPATH,'/html/body/div[3]/div/div/div[2]/div[1]/div/div/div[4]/div/div[2]/div/div[1]/div/div/div/input')\n",
    "serchbar.click()"
   ]
  },
  {
   "cell_type": "code",
   "execution_count": 61,
   "id": "3b764cc1",
   "metadata": {},
   "outputs": [],
   "source": [
    "item = 'London, England'\n",
    "serchbar = driver.find_element(By.XPATH,'/html/body/div[3]/div/div/div[2]/div[1]/div/div/div[4]/div/div[2]/div/div[1]/div/div/div/input')\n",
    "serchbar.send_keys(item)"
   ]
  },
  {
   "cell_type": "code",
   "execution_count": 63,
   "id": "5edca512",
   "metadata": {},
   "outputs": [],
   "source": [
    "#clicking on first suggestion \"London England\"\n",
    "suggbtn = driver.find_element(By.XPATH,'/html/body/div[3]/div/div/div[2]/div[1]/div/div/div[4]/div/div[2]/div/div[1]/div/div/ul/li[2]/div')\n",
    "suggbtn.click() "
   ]
  },
  {
   "cell_type": "code",
   "execution_count": 64,
   "id": "62f9a507",
   "metadata": {},
   "outputs": [],
   "source": [
    "# clicking on Let's go button\n",
    "gobtn =  driver.find_element(By.XPATH,'/html/body/div[3]/div/div/div[2]/div[1]/div/div/div[4]/div/div[2]/div/div[5]/button')\n",
    "gobtn.click() "
   ]
  },
  {
   "cell_type": "code",
   "execution_count": 65,
   "id": "6069ce1c",
   "metadata": {},
   "outputs": [],
   "source": [
    "name = []\n",
    "dist = []\n",
    "rate = []\n",
    "rev = []\n",
    "ovrrev = []\n",
    "pvt = []\n",
    "dor = []\n",
    "fac = []\n",
    "desc = []\n",
    "url = []"
   ]
  },
  {
   "cell_type": "code",
   "execution_count": 66,
   "id": "b14f31f5",
   "metadata": {},
   "outputs": [],
   "source": [
    "desc = []"
   ]
  },
  {
   "cell_type": "code",
   "execution_count": 67,
   "id": "201b0f41",
   "metadata": {},
   "outputs": [],
   "source": [
    "url_tag = driver.find_elements(By.XPATH,\"//a[@class='view-button']\")\n",
    "for u in url_tag:\n",
    "    url.append(u.get_attribute(\"href\"))"
   ]
  },
  {
   "cell_type": "code",
   "execution_count": 68,
   "id": "601e7f07",
   "metadata": {},
   "outputs": [],
   "source": [
    "name_tag= driver.find_elements(By.XPATH,\"//h2[@class='title title-6']//a\")\n",
    "for n in name_tag:\n",
    "    name.append(n.text)\n",
    "dist_tag= driver.find_elements(By.XPATH,\"//a[@class='show-on-map']/span[1]\")\n",
    "for d in dist_tag:\n",
    "    dist.append(d.text)\n",
    "rate_tag= driver.find_elements(By.XPATH,\"//div[@class='rating rating-summary-container big']/div[1]\")\n",
    "for r in rate_tag:\n",
    "    rate.append(r.text.replace('\\n0 Total Reviews',''))\n",
    "rev_tag= driver.find_elements(By.XPATH,\"//div[@class='reviews']\")\n",
    "for re in rev_tag:\n",
    "    rev.append(re.text)\n",
    "ovrrev_tag= driver.find_elements(By.XPATH,\"//div[@class='rating rating-summary-container big']//span\")\n",
    "for o in ovrrev_tag:\n",
    "    ovrrev.append(o.text)\n",
    "pvt_tag= driver.find_elements(By.XPATH,\"//a[@class='prices']/div[1]\")\n",
    "for p in pvt_tag:\n",
    "    pvt.append(p.text.replace(\"\\n\",''))\n",
    "dor_tag= driver.find_elements(By.XPATH,\"//a[@class='prices']/div[2]\")\n",
    "for d in dor_tag:\n",
    "    dor.append(d.text.replace(\"\\n\",''))\n",
    "fac_tag= driver.find_elements(By.XPATH,\"//div[@class='facilities-label facilities']\")\n",
    "for f in fac_tag:\n",
    "    fac.append(f.text.replace(\"\\n\",' + '))"
   ]
  },
  {
   "cell_type": "code",
   "execution_count": 69,
   "id": "1d40cbc0",
   "metadata": {},
   "outputs": [],
   "source": [
    "import time \n",
    "\n",
    "\n",
    "i=0\n",
    "\n",
    "while(i<2):\n",
    "    nextbtn = driver.find_element(By.XPATH,\"//i[@class='core-icon icon-core-chevron-right']\")\n",
    "    #nextbtn.click()\n",
    "    time.sleep(5)\n",
    "    url_tag = driver.find_elements(By.XPATH,\"//a[@class='view-button']\")\n",
    "    for u in url_tag:\n",
    "        url.append(u.get_attribute(\"href\"))\n",
    "    \n",
    "    name_tag= driver.find_elements(By.XPATH,\"//h2[@class='title title-6']//a\")\n",
    "    for n in name_tag:\n",
    "        name.append(n.text)\n",
    "    dist_tag= driver.find_elements(By.XPATH,\"//a[@class='show-on-map']/span[1]\")\n",
    "    for d in dist_tag:\n",
    "        dist.append(d.text)\n",
    "    rate_tag= driver.find_elements(By.XPATH,\"//div[@class='rating rating-summary-container big']/div[1]\")\n",
    "    for r in rate_tag:\n",
    "        rate.append(r.text.replace('\\n0 Total Reviews',''))\n",
    "    rev_tag= driver.find_elements(By.XPATH,\"//div[@class='reviews']\")\n",
    "    for re in rev_tag:\n",
    "        rev.append(re.text)\n",
    "    ovrrev_tag= driver.find_elements(By.XPATH,\"//div[@class='rating rating-summary-container big']//span\")\n",
    "    for o in ovrrev_tag:\n",
    "        ovrrev.append(o.text)\n",
    "    pvt_tag= driver.find_elements(By.XPATH,\"//a[@class='prices']/div[1]\")\n",
    "    for p in pvt_tag:\n",
    "        pvt.append(p.text.replace(\"\\n\",''))\n",
    "    dor_tag= driver.find_elements(By.XPATH,\"//a[@class='prices']/div[2]\")\n",
    "    for d in dor_tag:\n",
    "        dor.append(d.text.replace(\"\\n\",''))\n",
    "    fac_tag= driver.find_elements(By.XPATH,\"//div[@class='facilities-label facilities']\")\n",
    "    for f in fac_tag:\n",
    "        fac.append(f.text.replace(\"\\n\",' + '))\n",
    "    \n",
    "    \n",
    "    i=i+1"
   ]
  },
  {
   "cell_type": "code",
   "execution_count": 70,
   "id": "466c19f9",
   "metadata": {},
   "outputs": [
    {
     "data": {
      "text/plain": [
       "90"
      ]
     },
     "execution_count": 70,
     "metadata": {},
     "output_type": "execute_result"
    }
   ],
   "source": [
    "len(fac)"
   ]
  },
  {
   "cell_type": "code",
   "execution_count": 71,
   "id": "792b8938",
   "metadata": {},
   "outputs": [],
   "source": [
    "for u in url:\n",
    "    driver.get(u)\n",
    "    time.sleep(3)\n",
    "    desc_tag = driver.find_element(By.XPATH,\"//div[@class='collapsible']//div[2]\")\n",
    "    try:\n",
    "        desc.append(desc_tag.text)\n",
    "    except:\n",
    "        desc.append('-')"
   ]
  },
  {
   "cell_type": "code",
   "execution_count": 73,
   "id": "418853b1",
   "metadata": {},
   "outputs": [
    {
     "data": {
      "text/plain": [
       "90"
      ]
     },
     "execution_count": 73,
     "metadata": {},
     "output_type": "execute_result"
    }
   ],
   "source": [
    "len(desc)"
   ]
  },
  {
   "cell_type": "code",
   "execution_count": 74,
   "id": "b29348d3",
   "metadata": {},
   "outputs": [
    {
     "data": {
      "text/plain": [
       "99"
      ]
     },
     "execution_count": 74,
     "metadata": {},
     "output_type": "execute_result"
    }
   ],
   "source": [
    "len(pvt)"
   ]
  },
  {
   "cell_type": "code",
   "execution_count": 75,
   "id": "0cbfaa76",
   "metadata": {},
   "outputs": [],
   "source": [
    "pvt = pvt[0:90]"
   ]
  },
  {
   "cell_type": "code",
   "execution_count": 76,
   "id": "6584c0df",
   "metadata": {},
   "outputs": [],
   "source": [
    "Hostelworld = {'Hostel Name': name,'Distance From City Centre':dist,'Ratings':rate,'Total Reviews':rev,'Overall Reviews': ovrrev,\"Privates From\":pvt,'Dormitories Fro':fac,'Property Description':desc}"
   ]
  },
  {
   "cell_type": "code",
   "execution_count": 77,
   "id": "aa0fbd1e",
   "metadata": {},
   "outputs": [],
   "source": [
    "Hostelworlddf = pd.DataFrame(Hostelworld)"
   ]
  },
  {
   "cell_type": "code",
   "execution_count": 78,
   "id": "8324cb43",
   "metadata": {},
   "outputs": [
    {
     "data": {
      "text/html": [
       "<div>\n",
       "<style scoped>\n",
       "    .dataframe tbody tr th:only-of-type {\n",
       "        vertical-align: middle;\n",
       "    }\n",
       "\n",
       "    .dataframe tbody tr th {\n",
       "        vertical-align: top;\n",
       "    }\n",
       "\n",
       "    .dataframe thead th {\n",
       "        text-align: right;\n",
       "    }\n",
       "</style>\n",
       "<table border=\"1\" class=\"dataframe\">\n",
       "  <thead>\n",
       "    <tr style=\"text-align: right;\">\n",
       "      <th></th>\n",
       "      <th>Hostel Name</th>\n",
       "      <th>Distance From City Centre</th>\n",
       "      <th>Ratings</th>\n",
       "      <th>Total Reviews</th>\n",
       "      <th>Overall Reviews</th>\n",
       "      <th>Privates From</th>\n",
       "      <th>Dormitories Fro</th>\n",
       "      <th>Property Description</th>\n",
       "    </tr>\n",
       "  </thead>\n",
       "  <tbody>\n",
       "    <tr>\n",
       "      <th>0</th>\n",
       "      <td>Selina Camden</td>\n",
       "      <td>Hostel - 5.5km from city centre</td>\n",
       "      <td>8.3</td>\n",
       "      <td>36 Total Reviews</td>\n",
       "      <td>Fabulous</td>\n",
       "      <td>From Rs7758</td>\n",
       "      <td>Free WiFi</td>\n",
       "      <td>Among underground music venues, innovative mus...</td>\n",
       "    </tr>\n",
       "    <tr>\n",
       "      <th>1</th>\n",
       "      <td>Palmers Lodge - Swiss Cottage</td>\n",
       "      <td>Hostel - 6.5km from city centre</td>\n",
       "      <td>8.7</td>\n",
       "      <td>15600 Total Reviews</td>\n",
       "      <td>Fabulous</td>\n",
       "      <td>From Rs3153</td>\n",
       "      <td>Free WiFi + Follows Covid-19 sanitation guidance</td>\n",
       "      <td>Palmers Lodge - Swiss Cottage is set in what o...</td>\n",
       "    </tr>\n",
       "    <tr>\n",
       "      <th>2</th>\n",
       "      <td>St Christopher's Village</td>\n",
       "      <td>Hostel - 1.8km from city centre</td>\n",
       "      <td>8.2</td>\n",
       "      <td>11527 Total Reviews</td>\n",
       "      <td>Fabulous</td>\n",
       "      <td>From Rs3048</td>\n",
       "      <td>Free WiFi + Follows Covid-19 sanitation guidance</td>\n",
       "      <td>Hostelworld visitors have said St Christopher'...</td>\n",
       "    </tr>\n",
       "    <tr>\n",
       "      <th>3</th>\n",
       "      <td>Wombat's City Hostel London</td>\n",
       "      <td>Hostel - 3.6km from city centre</td>\n",
       "      <td>9.0</td>\n",
       "      <td>14090 Total Reviews</td>\n",
       "      <td>Superb</td>\n",
       "      <td>Privates FromRs40907</td>\n",
       "      <td>Free WiFi + Follows Covid-19 sanitation guidance</td>\n",
       "      <td>A safe haven in the middle of the metropolis: ...</td>\n",
       "    </tr>\n",
       "    <tr>\n",
       "      <th>4</th>\n",
       "      <td>Urbany Hostel London</td>\n",
       "      <td>Hostel - 5.4km from city centre</td>\n",
       "      <td>9.3</td>\n",
       "      <td>470 Total Reviews</td>\n",
       "      <td>Superb</td>\n",
       "      <td>No Privates Available</td>\n",
       "      <td>Free WiFi + Follows Covid-19 sanitation guidance</td>\n",
       "      <td>Welcome to Urbany Hostel London, our first int...</td>\n",
       "    </tr>\n",
       "    <tr>\n",
       "      <th>...</th>\n",
       "      <td>...</td>\n",
       "      <td>...</td>\n",
       "      <td>...</td>\n",
       "      <td>...</td>\n",
       "      <td>...</td>\n",
       "      <td>...</td>\n",
       "      <td>...</td>\n",
       "      <td>...</td>\n",
       "    </tr>\n",
       "    <tr>\n",
       "      <th>85</th>\n",
       "      <td>Park Villa</td>\n",
       "      <td>Hostel - 6.3km from city centre</td>\n",
       "      <td>7.9</td>\n",
       "      <td>875 Total Reviews</td>\n",
       "      <td>Very Good</td>\n",
       "      <td>No Privates Available</td>\n",
       "      <td>Free WiFi + Follows Covid-19 sanitation guidance</td>\n",
       "      <td>Park Villa is a new boutique hostel in the hea...</td>\n",
       "    </tr>\n",
       "    <tr>\n",
       "      <th>86</th>\n",
       "      <td>Britannia Inn Hotel</td>\n",
       "      <td>Hotel - 14.5km from city centre</td>\n",
       "      <td>8.5</td>\n",
       "      <td>23 Total Reviews</td>\n",
       "      <td>Fabulous</td>\n",
       "      <td>No Privates Available</td>\n",
       "      <td>Free Breakfast + Follows Covid-19 sanitation g...</td>\n",
       "      <td>The Britannia Inn Hotel is situated near the I...</td>\n",
       "    </tr>\n",
       "    <tr>\n",
       "      <th>87</th>\n",
       "      <td>Kip Hotel</td>\n",
       "      <td>Hotel - 6.8km from city centre</td>\n",
       "      <td>6.6</td>\n",
       "      <td>54 Total Reviews</td>\n",
       "      <td>Good</td>\n",
       "      <td>No Privates Available</td>\n",
       "      <td>Free WiFi</td>\n",
       "      <td>Kip is on a mission to bring the world style a...</td>\n",
       "    </tr>\n",
       "    <tr>\n",
       "      <th>88</th>\n",
       "      <td>The London Home Hostel</td>\n",
       "      <td>Hostel - 8.2km from city centre</td>\n",
       "      <td>4.0</td>\n",
       "      <td>259 Total Reviews</td>\n",
       "      <td>Rating</td>\n",
       "      <td>No Privates Available</td>\n",
       "      <td>Free WiFi</td>\n",
       "      <td>If you are looking to meet and socialise with ...</td>\n",
       "    </tr>\n",
       "    <tr>\n",
       "      <th>89</th>\n",
       "      <td>London House Hotel</td>\n",
       "      <td>Hotel - 5.3km from city centre</td>\n",
       "      <td>9.4</td>\n",
       "      <td>1382 Total Reviews</td>\n",
       "      <td>Superb</td>\n",
       "      <td>No Privates Available</td>\n",
       "      <td>Free WiFi</td>\n",
       "      <td>Our lovely boutique hotel is conveniently loca...</td>\n",
       "    </tr>\n",
       "  </tbody>\n",
       "</table>\n",
       "<p>90 rows × 8 columns</p>\n",
       "</div>"
      ],
      "text/plain": [
       "                      Hostel Name        Distance From City Centre Ratings  \\\n",
       "0                   Selina Camden  Hostel - 5.5km from city centre     8.3   \n",
       "1   Palmers Lodge - Swiss Cottage  Hostel - 6.5km from city centre     8.7   \n",
       "2        St Christopher's Village  Hostel - 1.8km from city centre     8.2   \n",
       "3     Wombat's City Hostel London  Hostel - 3.6km from city centre     9.0   \n",
       "4            Urbany Hostel London  Hostel - 5.4km from city centre     9.3   \n",
       "..                            ...                              ...     ...   \n",
       "85                     Park Villa  Hostel - 6.3km from city centre     7.9   \n",
       "86            Britannia Inn Hotel  Hotel - 14.5km from city centre     8.5   \n",
       "87                      Kip Hotel   Hotel - 6.8km from city centre     6.6   \n",
       "88         The London Home Hostel  Hostel - 8.2km from city centre     4.0   \n",
       "89             London House Hotel   Hotel - 5.3km from city centre     9.4   \n",
       "\n",
       "          Total Reviews Overall Reviews          Privates From  \\\n",
       "0      36 Total Reviews        Fabulous            From Rs7758   \n",
       "1   15600 Total Reviews        Fabulous            From Rs3153   \n",
       "2   11527 Total Reviews        Fabulous            From Rs3048   \n",
       "3   14090 Total Reviews          Superb   Privates FromRs40907   \n",
       "4     470 Total Reviews          Superb  No Privates Available   \n",
       "..                  ...             ...                    ...   \n",
       "85    875 Total Reviews       Very Good  No Privates Available   \n",
       "86     23 Total Reviews        Fabulous  No Privates Available   \n",
       "87     54 Total Reviews            Good  No Privates Available   \n",
       "88    259 Total Reviews          Rating  No Privates Available   \n",
       "89   1382 Total Reviews          Superb  No Privates Available   \n",
       "\n",
       "                                      Dormitories Fro  \\\n",
       "0                                           Free WiFi   \n",
       "1    Free WiFi + Follows Covid-19 sanitation guidance   \n",
       "2    Free WiFi + Follows Covid-19 sanitation guidance   \n",
       "3    Free WiFi + Follows Covid-19 sanitation guidance   \n",
       "4    Free WiFi + Follows Covid-19 sanitation guidance   \n",
       "..                                                ...   \n",
       "85   Free WiFi + Follows Covid-19 sanitation guidance   \n",
       "86  Free Breakfast + Follows Covid-19 sanitation g...   \n",
       "87                                          Free WiFi   \n",
       "88                                          Free WiFi   \n",
       "89                                          Free WiFi   \n",
       "\n",
       "                                 Property Description  \n",
       "0   Among underground music venues, innovative mus...  \n",
       "1   Palmers Lodge - Swiss Cottage is set in what o...  \n",
       "2   Hostelworld visitors have said St Christopher'...  \n",
       "3   A safe haven in the middle of the metropolis: ...  \n",
       "4   Welcome to Urbany Hostel London, our first int...  \n",
       "..                                                ...  \n",
       "85  Park Villa is a new boutique hostel in the hea...  \n",
       "86  The Britannia Inn Hotel is situated near the I...  \n",
       "87  Kip is on a mission to bring the world style a...  \n",
       "88  If you are looking to meet and socialise with ...  \n",
       "89  Our lovely boutique hotel is conveniently loca...  \n",
       "\n",
       "[90 rows x 8 columns]"
      ]
     },
     "execution_count": 78,
     "metadata": {},
     "output_type": "execute_result"
    }
   ],
   "source": [
    "Hostelworlddf"
   ]
  },
  {
   "cell_type": "code",
   "execution_count": null,
   "id": "64cd97f9",
   "metadata": {},
   "outputs": [],
   "source": []
  },
  {
   "cell_type": "code",
   "execution_count": null,
   "id": "c9532514",
   "metadata": {},
   "outputs": [],
   "source": []
  }
 ],
 "metadata": {
  "kernelspec": {
   "display_name": "Python 3 (ipykernel)",
   "language": "python",
   "name": "python3"
  },
  "language_info": {
   "codemirror_mode": {
    "name": "ipython",
    "version": 3
   },
   "file_extension": ".py",
   "mimetype": "text/x-python",
   "name": "python",
   "nbconvert_exporter": "python",
   "pygments_lexer": "ipython3",
   "version": "3.11.0"
  }
 },
 "nbformat": 4,
 "nbformat_minor": 5
}
