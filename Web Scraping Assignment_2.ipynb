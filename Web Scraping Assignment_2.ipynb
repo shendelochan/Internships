{
 "cells": [
  {
   "cell_type": "markdown",
   "id": "f73a2f45",
   "metadata": {},
   "source": [
    "## Q1: Write a python program to scrape data for “Data Analyst” Job position in “Bangalore” location. You have to scrape the job-title, job-location, company_name, experience_required. You have to scrape first 10 jobs data."
   ]
  },
  {
   "cell_type": "code",
   "execution_count": 1,
   "id": "ec03cde6",
   "metadata": {},
   "outputs": [],
   "source": [
    "import warnings\n",
    "warnings.filterwarnings('ignore')\n",
    "\n",
    "from selenium.common.exceptions import StaleElementReferenceException, NoSuchElementException\n",
    "from selenium.webdriver.common.by import By\n",
    "\n",
    "import selenium\n",
    "from selenium import webdriver\n",
    "import time\n",
    "import pandas as pd\n",
    "from selenium.common.exceptions import StaleElementReferenceException, NoSuchElementException,ElementNotInteractableException,InvalidArgumentException,InvalidArgumentException\n"
   ]
  },
  {
   "cell_type": "code",
   "execution_count": 2,
   "id": "a0339d65",
   "metadata": {},
   "outputs": [],
   "source": [
    "# Let's first connect to the driver\n",
    "driver = webdriver.Chrome(r\"chromedriver.exe\")"
   ]
  },
  {
   "cell_type": "code",
   "execution_count": 3,
   "id": "f456ee00",
   "metadata": {},
   "outputs": [],
   "source": [
    "# Opening the naukari page on automated chrome browser\n",
    "driver.get(\"https:www.naukri.com/\")"
   ]
  },
  {
   "cell_type": "code",
   "execution_count": 4,
   "id": "c9fd0ebd",
   "metadata": {},
   "outputs": [],
   "source": [
    "# Entering designation and location as required in the question\n",
    "\n",
    "designation = driver.find_element(By.CLASS_NAME,\"suggestor-input\")\n",
    "designation.send_keys(\"Data Analyst\")"
   ]
  },
  {
   "cell_type": "code",
   "execution_count": 5,
   "id": "23712f63",
   "metadata": {},
   "outputs": [],
   "source": [
    "location = driver.find_element(By.XPATH,\"/html/body/div[1]/div[6]/div/div/div[5]/div/div/div/input\")\n",
    "location.send_keys('Bangalore')"
   ]
  },
  {
   "cell_type": "code",
   "execution_count": 6,
   "id": "165cf8fe",
   "metadata": {},
   "outputs": [],
   "source": [
    "search = driver.find_element(By.CLASS_NAME,\"qsbSubmit\")\n",
    "search.click()"
   ]
  },
  {
   "cell_type": "code",
   "execution_count": 7,
   "id": "8cd856cb",
   "metadata": {},
   "outputs": [],
   "source": [
    "job_title = []\n",
    "job_location = []\n",
    "company_name = []\n",
    "experience = []"
   ]
  },
  {
   "cell_type": "code",
   "execution_count": 8,
   "id": "eaed95e1",
   "metadata": {},
   "outputs": [],
   "source": [
    "# Scraping job title from the given page\n",
    "title_tags = driver.find_elements(By.XPATH,'//a[@class=\"title fw500 ellipsis\"]')\n",
    "for i in title_tags[0:10]:\n",
    "    title = i.text\n",
    "    job_title.append(title)"
   ]
  },
  {
   "cell_type": "code",
   "execution_count": 9,
   "id": "177630b9",
   "metadata": {},
   "outputs": [],
   "source": [
    "# Scraping Job location\n",
    "location_tags = driver.find_elements(By.XPATH,'//li[@class=\"fleft grey-text br2 placeHolderLi location\"]')\n",
    "for i in location_tags[0:10]:\n",
    "    location = i.text\n",
    "    job_location.append(location)"
   ]
  },
  {
   "cell_type": "code",
   "execution_count": 10,
   "id": "d07f94ac",
   "metadata": {},
   "outputs": [],
   "source": [
    "# Scraping Company Name\n",
    "company_tags = driver.find_elements(By.XPATH,\"//a[@class='subTitle ellipsis fleft']\")\n",
    "for i in company_tags[0:10]:\n",
    "    company = i.text\n",
    "    company_name.append(company)"
   ]
  },
  {
   "cell_type": "code",
   "execution_count": 11,
   "id": "63484b73",
   "metadata": {},
   "outputs": [],
   "source": [
    "# Scraping Experience\n",
    "experience_tags = driver.find_elements(By.XPATH,\"//li[@class='fleft grey-text br2 placeHolderLi experience']\")\n",
    "for i in experience_tags[0:10]:\n",
    "    expe = i.text\n",
    "    experience.append(expe)"
   ]
  },
  {
   "cell_type": "code",
   "execution_count": 12,
   "id": "2c2fbb0e",
   "metadata": {},
   "outputs": [
    {
     "name": "stdout",
     "output_type": "stream",
     "text": [
      "10 10 10 10\n"
     ]
    }
   ],
   "source": [
    "print(len(job_title), len(job_location), len(company_name), len(experience))"
   ]
  },
  {
   "cell_type": "code",
   "execution_count": 13,
   "id": "b7f9c7b7",
   "metadata": {},
   "outputs": [
    {
     "data": {
      "text/html": [
       "<div>\n",
       "<style scoped>\n",
       "    .dataframe tbody tr th:only-of-type {\n",
       "        vertical-align: middle;\n",
       "    }\n",
       "\n",
       "    .dataframe tbody tr th {\n",
       "        vertical-align: top;\n",
       "    }\n",
       "\n",
       "    .dataframe thead th {\n",
       "        text-align: right;\n",
       "    }\n",
       "</style>\n",
       "<table border=\"1\" class=\"dataframe\">\n",
       "  <thead>\n",
       "    <tr style=\"text-align: right;\">\n",
       "      <th></th>\n",
       "      <th>Job Title</th>\n",
       "      <th>Job Location</th>\n",
       "      <th>Company Name</th>\n",
       "      <th>Experience Required</th>\n",
       "    </tr>\n",
       "  </thead>\n",
       "  <tbody>\n",
       "    <tr>\n",
       "      <th>0</th>\n",
       "      <td>Contractual Hiring For Top MNC || Business Dat...</td>\n",
       "      <td>Bangalore/Bengaluru</td>\n",
       "      <td>TeamLease</td>\n",
       "      <td>5-8 Yrs</td>\n",
       "    </tr>\n",
       "    <tr>\n",
       "      <th>1</th>\n",
       "      <td>Data Analyst - Decision Science</td>\n",
       "      <td>Bangalore/Bengaluru</td>\n",
       "      <td>Jana Small Finance Bank</td>\n",
       "      <td>3-8 Yrs</td>\n",
       "    </tr>\n",
       "    <tr>\n",
       "      <th>2</th>\n",
       "      <td>Senior Data Analyst</td>\n",
       "      <td>Bangalore/Bengaluru(Domlur)</td>\n",
       "      <td>KrazyBee</td>\n",
       "      <td>3-5 Yrs</td>\n",
       "    </tr>\n",
       "    <tr>\n",
       "      <th>3</th>\n",
       "      <td>Data Analyst</td>\n",
       "      <td>Bangalore/Bengaluru</td>\n",
       "      <td>Novel Office</td>\n",
       "      <td>0-3 Yrs</td>\n",
       "    </tr>\n",
       "    <tr>\n",
       "      <th>4</th>\n",
       "      <td>Women on career break_ Data Analyst</td>\n",
       "      <td>Bangalore/Bengaluru, Hyderabad/Secunderabad</td>\n",
       "      <td>Zinnov Management C</td>\n",
       "      <td>5-10 Yrs</td>\n",
       "    </tr>\n",
       "    <tr>\n",
       "      <th>5</th>\n",
       "      <td>BYJU'S DBEL : Sr Data Analyst</td>\n",
       "      <td>Bangalore/Bengaluru</td>\n",
       "      <td>BYJUS</td>\n",
       "      <td>3-7 Yrs</td>\n",
       "    </tr>\n",
       "    <tr>\n",
       "      <th>6</th>\n",
       "      <td>SR. Data Analyst- SME- Pharma and Healthcare</td>\n",
       "      <td>Bangalore/Bengaluru, Noida, Hyderabad/Secunder...</td>\n",
       "      <td>CHRYSELYS</td>\n",
       "      <td>2-6 Yrs</td>\n",
       "    </tr>\n",
       "    <tr>\n",
       "      <th>7</th>\n",
       "      <td>Data Analyst</td>\n",
       "      <td>Bangalore/Bengaluru, Chennai</td>\n",
       "      <td>Botree Software</td>\n",
       "      <td>1-5 Yrs</td>\n",
       "    </tr>\n",
       "    <tr>\n",
       "      <th>8</th>\n",
       "      <td>Business Data Analyst</td>\n",
       "      <td>Bangalore/Bengaluru</td>\n",
       "      <td>Varite</td>\n",
       "      <td>8-11 Yrs</td>\n",
       "    </tr>\n",
       "    <tr>\n",
       "      <th>9</th>\n",
       "      <td>Senior Data Analyst - KPO</td>\n",
       "      <td>Bangalore/Bengaluru, Gurgaon/Gurugram, Gurgaon...</td>\n",
       "      <td>Huquo Consulting Pvt. Ltd</td>\n",
       "      <td>7-12 Yrs</td>\n",
       "    </tr>\n",
       "  </tbody>\n",
       "</table>\n",
       "</div>"
      ],
      "text/plain": [
       "                                           Job Title  \\\n",
       "0  Contractual Hiring For Top MNC || Business Dat...   \n",
       "1                    Data Analyst - Decision Science   \n",
       "2                                Senior Data Analyst   \n",
       "3                                       Data Analyst   \n",
       "4                Women on career break_ Data Analyst   \n",
       "5                      BYJU'S DBEL : Sr Data Analyst   \n",
       "6       SR. Data Analyst- SME- Pharma and Healthcare   \n",
       "7                                       Data Analyst   \n",
       "8                              Business Data Analyst   \n",
       "9                          Senior Data Analyst - KPO   \n",
       "\n",
       "                                        Job Location  \\\n",
       "0                                Bangalore/Bengaluru   \n",
       "1                                Bangalore/Bengaluru   \n",
       "2                        Bangalore/Bengaluru(Domlur)   \n",
       "3                                Bangalore/Bengaluru   \n",
       "4        Bangalore/Bengaluru, Hyderabad/Secunderabad   \n",
       "5                                Bangalore/Bengaluru   \n",
       "6  Bangalore/Bengaluru, Noida, Hyderabad/Secunder...   \n",
       "7                       Bangalore/Bengaluru, Chennai   \n",
       "8                                Bangalore/Bengaluru   \n",
       "9  Bangalore/Bengaluru, Gurgaon/Gurugram, Gurgaon...   \n",
       "\n",
       "                Company Name Experience Required  \n",
       "0                  TeamLease             5-8 Yrs  \n",
       "1    Jana Small Finance Bank             3-8 Yrs  \n",
       "2                   KrazyBee             3-5 Yrs  \n",
       "3               Novel Office             0-3 Yrs  \n",
       "4        Zinnov Management C            5-10 Yrs  \n",
       "5                      BYJUS             3-7 Yrs  \n",
       "6                  CHRYSELYS             2-6 Yrs  \n",
       "7            Botree Software             1-5 Yrs  \n",
       "8                     Varite            8-11 Yrs  \n",
       "9  Huquo Consulting Pvt. Ltd            7-12 Yrs  "
      ]
     },
     "execution_count": 13,
     "metadata": {},
     "output_type": "execute_result"
    }
   ],
   "source": [
    "# Creating the dataframe from above data-\n",
    "df = pd.DataFrame({'Job Title':job_title, 'Job Location':job_location, 'Company Name':company_name, 'Experience Required':experience})\n",
    "df"
   ]
  },
  {
   "cell_type": "code",
   "execution_count": null,
   "id": "55fd091b",
   "metadata": {},
   "outputs": [],
   "source": []
  },
  {
   "cell_type": "markdown",
   "id": "dc4b937b",
   "metadata": {},
   "source": [
    "## Q2: Write a python program to scrape data for “Data Scientist” Job position in “Bangalore” location. You have to scrape the job-title, job-location, company_name. You have to scrape first 10 jobs data"
   ]
  },
  {
   "cell_type": "code",
   "execution_count": 151,
   "id": "ee5f978b",
   "metadata": {},
   "outputs": [],
   "source": [
    "driver = webdriver.Chrome(r\"G:\\chromedriver_win32\\chromedriver.exe\")"
   ]
  },
  {
   "cell_type": "code",
   "execution_count": 152,
   "id": "ffe27ab5",
   "metadata": {},
   "outputs": [],
   "source": [
    "# Opening the naukari page on automated chrome browser\n",
    "driver.get(\"https:www.naukri.com/\")"
   ]
  },
  {
   "cell_type": "code",
   "execution_count": 153,
   "id": "c8eb32fb",
   "metadata": {},
   "outputs": [],
   "source": [
    "designation = driver.find_element(By.CLASS_NAME,\"suggestor-input\")\n",
    "designation.send_keys(\"Data Scientist\")"
   ]
  },
  {
   "cell_type": "code",
   "execution_count": 154,
   "id": "80b197db",
   "metadata": {},
   "outputs": [],
   "source": [
    "location = driver.find_element(By.XPATH,\"/html/body/div[1]/div[6]/div/div/div[5]/div/div/div/input\")\n",
    "location.send_keys('Bangalore')"
   ]
  },
  {
   "cell_type": "code",
   "execution_count": 155,
   "id": "3954cc88",
   "metadata": {},
   "outputs": [],
   "source": [
    "search = driver.find_element(By.CLASS_NAME,\"qsbSubmit\")\n",
    "search.click()"
   ]
  },
  {
   "cell_type": "code",
   "execution_count": 163,
   "id": "7be73bc3",
   "metadata": {},
   "outputs": [],
   "source": [
    "job_title = []\n",
    "job_location = []\n",
    "company_name = []\n",
    "experience = []"
   ]
  },
  {
   "cell_type": "code",
   "execution_count": 164,
   "id": "da82d934",
   "metadata": {},
   "outputs": [],
   "source": [
    "# Scraping job title from the given page\n",
    "title_tags = driver.find_elements(By.XPATH,'//a[@class=\"title fw500 ellipsis\"]')\n",
    "for i in title_tags[0:10]:\n",
    "    title = i.text\n",
    "    job_title.append(title)"
   ]
  },
  {
   "cell_type": "code",
   "execution_count": 165,
   "id": "3f38b2f3",
   "metadata": {},
   "outputs": [
    {
     "data": {
      "text/plain": [
       "10"
      ]
     },
     "execution_count": 165,
     "metadata": {},
     "output_type": "execute_result"
    }
   ],
   "source": [
    "len(job_title)"
   ]
  },
  {
   "cell_type": "code",
   "execution_count": 166,
   "id": "605e6726",
   "metadata": {},
   "outputs": [],
   "source": [
    "# Scraping Job location\n",
    "location_tags = driver.find_elements(By.XPATH,'//li[@class=\"fleft grey-text br2 placeHolderLi location\"]')\n",
    "for i in location_tags[0:10]:\n",
    "    location = i.text\n",
    "    job_location.append(location)"
   ]
  },
  {
   "cell_type": "code",
   "execution_count": 167,
   "id": "67374d7c",
   "metadata": {},
   "outputs": [
    {
     "data": {
      "text/plain": [
       "10"
      ]
     },
     "execution_count": 167,
     "metadata": {},
     "output_type": "execute_result"
    }
   ],
   "source": [
    "len(job_location)"
   ]
  },
  {
   "cell_type": "code",
   "execution_count": 168,
   "id": "9811aa54",
   "metadata": {},
   "outputs": [],
   "source": [
    "# Scraping Company Name\n",
    "company_tags = driver.find_elements(By.XPATH,\"//a[@class='subTitle ellipsis fleft']\")\n",
    "for i in company_tags[0:10]:\n",
    "    company = i.text\n",
    "    company_name.append(company)"
   ]
  },
  {
   "cell_type": "code",
   "execution_count": 170,
   "id": "1bcc5591",
   "metadata": {},
   "outputs": [
    {
     "name": "stdout",
     "output_type": "stream",
     "text": [
      "10 10 10\n"
     ]
    }
   ],
   "source": [
    "print(len(job_title), len(job_location), len(company_name),)"
   ]
  },
  {
   "cell_type": "code",
   "execution_count": 171,
   "id": "c65ae5b5",
   "metadata": {},
   "outputs": [
    {
     "data": {
      "text/html": [
       "<div>\n",
       "<style scoped>\n",
       "    .dataframe tbody tr th:only-of-type {\n",
       "        vertical-align: middle;\n",
       "    }\n",
       "\n",
       "    .dataframe tbody tr th {\n",
       "        vertical-align: top;\n",
       "    }\n",
       "\n",
       "    .dataframe thead th {\n",
       "        text-align: right;\n",
       "    }\n",
       "</style>\n",
       "<table border=\"1\" class=\"dataframe\">\n",
       "  <thead>\n",
       "    <tr style=\"text-align: right;\">\n",
       "      <th></th>\n",
       "      <th>Job Title</th>\n",
       "      <th>Job Location</th>\n",
       "      <th>Company Name</th>\n",
       "    </tr>\n",
       "  </thead>\n",
       "  <tbody>\n",
       "    <tr>\n",
       "      <th>0</th>\n",
       "      <td>Job Opportunity on Data Science_ Python with T...</td>\n",
       "      <td>Bangalore/Bengaluru, Kolkata, Hyderabad/Secund...</td>\n",
       "      <td>Tech Mahindra</td>\n",
       "    </tr>\n",
       "    <tr>\n",
       "      <th>1</th>\n",
       "      <td>Assistant Manager - Data Science</td>\n",
       "      <td>Bangalore/Bengaluru, Mumbai, Pune</td>\n",
       "      <td>CitiusTech</td>\n",
       "    </tr>\n",
       "    <tr>\n",
       "      <th>2</th>\n",
       "      <td>Analystics &amp; Modeling Specialist</td>\n",
       "      <td>Bangalore/Bengaluru, Kolkata, Mumbai, Hyderaba...</td>\n",
       "      <td>Accenture</td>\n",
       "    </tr>\n",
       "    <tr>\n",
       "      <th>3</th>\n",
       "      <td>Hiring For DATA Scientist @ NTT DATA Business ...</td>\n",
       "      <td>Bangalore/Bengaluru, Noida, Hyderabad/Secunder...</td>\n",
       "      <td>NTT DATA Business Solutions Private Limited</td>\n",
       "    </tr>\n",
       "    <tr>\n",
       "      <th>4</th>\n",
       "      <td>Data Scientist - A.P. Maersk</td>\n",
       "      <td>Bangalore/Bengaluru\\n(WFH during Covid)</td>\n",
       "      <td>Maersk</td>\n",
       "    </tr>\n",
       "    <tr>\n",
       "      <th>5</th>\n",
       "      <td>Data Scientist</td>\n",
       "      <td>Bangalore/Bengaluru</td>\n",
       "      <td>Infosys</td>\n",
       "    </tr>\n",
       "    <tr>\n",
       "      <th>6</th>\n",
       "      <td>Data Scientist</td>\n",
       "      <td>Bangalore/Bengaluru</td>\n",
       "      <td>United Phosphorus Limited</td>\n",
       "    </tr>\n",
       "    <tr>\n",
       "      <th>7</th>\n",
       "      <td>Data Scientist</td>\n",
       "      <td>Bangalore/Bengaluru</td>\n",
       "      <td>United Phosphorus Limited</td>\n",
       "    </tr>\n",
       "    <tr>\n",
       "      <th>8</th>\n",
       "      <td>Data Scientist</td>\n",
       "      <td>Bangalore/Bengaluru</td>\n",
       "      <td>United Phosphorus Limited</td>\n",
       "    </tr>\n",
       "    <tr>\n",
       "      <th>9</th>\n",
       "      <td>Data Scientist</td>\n",
       "      <td>Bangalore/Bengaluru</td>\n",
       "      <td>United Phosphorus Limited</td>\n",
       "    </tr>\n",
       "  </tbody>\n",
       "</table>\n",
       "</div>"
      ],
      "text/plain": [
       "                                           Job Title  \\\n",
       "0  Job Opportunity on Data Science_ Python with T...   \n",
       "1                   Assistant Manager - Data Science   \n",
       "2                   Analystics & Modeling Specialist   \n",
       "3  Hiring For DATA Scientist @ NTT DATA Business ...   \n",
       "4                       Data Scientist - A.P. Maersk   \n",
       "5                                     Data Scientist   \n",
       "6                                     Data Scientist   \n",
       "7                                     Data Scientist   \n",
       "8                                     Data Scientist   \n",
       "9                                     Data Scientist   \n",
       "\n",
       "                                        Job Location  \\\n",
       "0  Bangalore/Bengaluru, Kolkata, Hyderabad/Secund...   \n",
       "1                  Bangalore/Bengaluru, Mumbai, Pune   \n",
       "2  Bangalore/Bengaluru, Kolkata, Mumbai, Hyderaba...   \n",
       "3  Bangalore/Bengaluru, Noida, Hyderabad/Secunder...   \n",
       "4            Bangalore/Bengaluru\\n(WFH during Covid)   \n",
       "5                                Bangalore/Bengaluru   \n",
       "6                                Bangalore/Bengaluru   \n",
       "7                                Bangalore/Bengaluru   \n",
       "8                                Bangalore/Bengaluru   \n",
       "9                                Bangalore/Bengaluru   \n",
       "\n",
       "                                  Company Name  \n",
       "0                                Tech Mahindra  \n",
       "1                                   CitiusTech  \n",
       "2                                    Accenture  \n",
       "3  NTT DATA Business Solutions Private Limited  \n",
       "4                                       Maersk  \n",
       "5                                      Infosys  \n",
       "6                    United Phosphorus Limited  \n",
       "7                    United Phosphorus Limited  \n",
       "8                    United Phosphorus Limited  \n",
       "9                    United Phosphorus Limited  "
      ]
     },
     "execution_count": 171,
     "metadata": {},
     "output_type": "execute_result"
    }
   ],
   "source": [
    "# Creating the dataframe from above data-\n",
    "df = pd.DataFrame({'Job Title':job_title, 'Job Location':job_location, 'Company Name':company_name})\n",
    "df"
   ]
  },
  {
   "cell_type": "markdown",
   "id": "04f7fb82",
   "metadata": {},
   "source": [
    "## Q3: In this question you have to scrape data using the filters available on the webpage as shown below:\n",
    "\n",
    "#### You have to use the location and salary filter.\n",
    "#### You have to scrape data for “Data Scientist” designation for first 10 job results.\n",
    "#### You have to scrape the job-title, job-location, company name, experience required.\n",
    "#### The location filter to be used is “Delhi/NCR”. The salary filter to be used is “3-6” lakhs\n"
   ]
  },
  {
   "cell_type": "code",
   "execution_count": 172,
   "id": "659aef9c",
   "metadata": {},
   "outputs": [],
   "source": [
    "driver = webdriver.Chrome(r\"G:\\chromedriver_win32\\chromedriver.exe\")  "
   ]
  },
  {
   "cell_type": "code",
   "execution_count": 173,
   "id": "5cca8751",
   "metadata": {},
   "outputs": [],
   "source": [
    "# Opening the naukari page on automated chrome browser\n",
    "driver.get(\"https:www.naukri.com/\")"
   ]
  },
  {
   "cell_type": "code",
   "execution_count": 174,
   "id": "8e7be850",
   "metadata": {},
   "outputs": [],
   "source": [
    "designation = driver.find_element(By.CLASS_NAME,\"suggestor-input\")\n",
    "designation.send_keys(\"Data Scientist\")"
   ]
  },
  {
   "cell_type": "code",
   "execution_count": 175,
   "id": "3546ca5c",
   "metadata": {},
   "outputs": [],
   "source": [
    "search = driver.find_element(By.CLASS_NAME,\"qsbSubmit\")\n",
    "search.click()"
   ]
  },
  {
   "cell_type": "code",
   "execution_count": 176,
   "id": "85cd3555",
   "metadata": {},
   "outputs": [],
   "source": [
    "# applying location filter on web page\n",
    "driver.find_element(By.XPATH,\"/html/body/div[1]/div[4]/div/section[1]/div[2]/div[5]/div[2]/div[3]/label/i\").click()"
   ]
  },
  {
   "cell_type": "code",
   "execution_count": 179,
   "id": "bfc2ddeb",
   "metadata": {},
   "outputs": [],
   "source": [
    "# applying salary filter on webpage\n",
    "driver.find_element(By.XPATH,\"/html/body/div[1]/div[4]/div/section[1]/div[2]/div[6]/div[2]/div[2]/label/i\").click()"
   ]
  },
  {
   "cell_type": "code",
   "execution_count": 180,
   "id": "cd54cfd6",
   "metadata": {},
   "outputs": [],
   "source": [
    "# Scraping job_location\n",
    "job_title = []\n",
    "loc_tags = driver.find_elements(By.XPATH,\"//a[@class='title fw500 ellipsis']\")\n",
    "for i in loc_tags[0:10]:\n",
    "    job = i.text\n",
    "    job_title.append(job)"
   ]
  },
  {
   "cell_type": "code",
   "execution_count": 181,
   "id": "3885d965",
   "metadata": {},
   "outputs": [
    {
     "data": {
      "text/plain": [
       "['DigitalBCG GAMMA Data Scientist',\n",
       " 'Data Scientist',\n",
       " 'Data Scientist / Chat-bot Developer',\n",
       " 'Lead Data Scientist',\n",
       " 'Data Scientist - Predictive Analytics',\n",
       " 'Data Scientist For Healthcare Product team',\n",
       " 'Data Scientist',\n",
       " 'Data Scientist - Engine Algorithm',\n",
       " 'Data Scientist',\n",
       " 'Jr. Data Scientist']"
      ]
     },
     "execution_count": 181,
     "metadata": {},
     "output_type": "execute_result"
    }
   ],
   "source": [
    "job_title"
   ]
  },
  {
   "cell_type": "code",
   "execution_count": 182,
   "id": "4c656159",
   "metadata": {},
   "outputs": [],
   "source": [
    "job_loc = []\n",
    "loc_tags = driver.find_elements(By.XPATH,\"//li[@class='fleft grey-text br2 placeHolderLi location']\")\n",
    "for i in loc_tags[0:10]:\n",
    "    job = i.text\n",
    "    job_loc.append(job)"
   ]
  },
  {
   "cell_type": "code",
   "execution_count": 183,
   "id": "f32e3d44",
   "metadata": {},
   "outputs": [],
   "source": [
    "com_nam = []\n",
    "loc_tags = driver.find_elements(By.XPATH,\"//a[@class='subTitle ellipsis fleft']\")\n",
    "for i in loc_tags[0:10]:\n",
    "    job = i.text\n",
    "    com_nam.append(job)"
   ]
  },
  {
   "cell_type": "code",
   "execution_count": 184,
   "id": "494a7dfe",
   "metadata": {},
   "outputs": [],
   "source": [
    "exp=[]\n",
    "experience_tags = driver.find_elements(By.XPATH,\"//li[@class='fleft grey-text br2 placeHolderLi experience']\")\n",
    "for i in experience_tags[0:10]:\n",
    "    expe = i.text\n",
    "    exp.append(expe)"
   ]
  },
  {
   "cell_type": "code",
   "execution_count": 185,
   "id": "b1fa48e7",
   "metadata": {},
   "outputs": [
    {
     "data": {
      "text/html": [
       "<div>\n",
       "<style scoped>\n",
       "    .dataframe tbody tr th:only-of-type {\n",
       "        vertical-align: middle;\n",
       "    }\n",
       "\n",
       "    .dataframe tbody tr th {\n",
       "        vertical-align: top;\n",
       "    }\n",
       "\n",
       "    .dataframe thead th {\n",
       "        text-align: right;\n",
       "    }\n",
       "</style>\n",
       "<table border=\"1\" class=\"dataframe\">\n",
       "  <thead>\n",
       "    <tr style=\"text-align: right;\">\n",
       "      <th></th>\n",
       "      <th>Job Title</th>\n",
       "      <th>Job Location</th>\n",
       "      <th>Company Name</th>\n",
       "      <th>Experience Required</th>\n",
       "    </tr>\n",
       "  </thead>\n",
       "  <tbody>\n",
       "    <tr>\n",
       "      <th>0</th>\n",
       "      <td>DigitalBCG GAMMA Data Scientist</td>\n",
       "      <td>New Delhi, Bangalore/Bengaluru</td>\n",
       "      <td>Boston Consulting Group</td>\n",
       "      <td>2-5 Yrs</td>\n",
       "    </tr>\n",
       "    <tr>\n",
       "      <th>1</th>\n",
       "      <td>Data Scientist</td>\n",
       "      <td>Gurgaon/Gurugram</td>\n",
       "      <td>Optum</td>\n",
       "      <td>2-7 Yrs</td>\n",
       "    </tr>\n",
       "    <tr>\n",
       "      <th>2</th>\n",
       "      <td>Data Scientist / Chat-bot Developer</td>\n",
       "      <td>New Delhi, Bangalore/Bengaluru, Mumbai (All Ar...</td>\n",
       "      <td>Big Seo Buzz</td>\n",
       "      <td>3-7 Yrs</td>\n",
       "    </tr>\n",
       "    <tr>\n",
       "      <th>3</th>\n",
       "      <td>Lead Data Scientist</td>\n",
       "      <td>Noida(Sector-59 Noida)\\n(WFH during Covid)</td>\n",
       "      <td>R Systems International</td>\n",
       "      <td>7-10 Yrs</td>\n",
       "    </tr>\n",
       "    <tr>\n",
       "      <th>4</th>\n",
       "      <td>Data Scientist - Predictive Analytics</td>\n",
       "      <td>Noida, Mumbai, Chandigarh, Hyderabad/Secundera...</td>\n",
       "      <td>Confidential</td>\n",
       "      <td>1-6 Yrs</td>\n",
       "    </tr>\n",
       "    <tr>\n",
       "      <th>5</th>\n",
       "      <td>Data Scientist For Healthcare Product team</td>\n",
       "      <td>Delhi / NCR, Chennai, Bangalore/Bengaluru</td>\n",
       "      <td>SECUREKLOUD TECHNOLOGIES</td>\n",
       "      <td>2-7 Yrs</td>\n",
       "    </tr>\n",
       "    <tr>\n",
       "      <th>6</th>\n",
       "      <td>Data Scientist</td>\n",
       "      <td>Noida</td>\n",
       "      <td>4i Odc</td>\n",
       "      <td>2-4 Yrs</td>\n",
       "    </tr>\n",
       "    <tr>\n",
       "      <th>7</th>\n",
       "      <td>Data Scientist - Engine Algorithm</td>\n",
       "      <td>Delhi / NCR, Kolkata, Mumbai, Hyderabad/Secund...</td>\n",
       "      <td>Primo Hiring</td>\n",
       "      <td>1-3 Yrs</td>\n",
       "    </tr>\n",
       "    <tr>\n",
       "      <th>8</th>\n",
       "      <td>Data Scientist</td>\n",
       "      <td>Gurgaon/Gurugram</td>\n",
       "      <td>Feedback Infra</td>\n",
       "      <td>2-4 Yrs</td>\n",
       "    </tr>\n",
       "    <tr>\n",
       "      <th>9</th>\n",
       "      <td>Jr. Data Scientist</td>\n",
       "      <td>Noida</td>\n",
       "      <td>Dataflow</td>\n",
       "      <td>2-5 Yrs</td>\n",
       "    </tr>\n",
       "  </tbody>\n",
       "</table>\n",
       "</div>"
      ],
      "text/plain": [
       "                                    Job Title  \\\n",
       "0             DigitalBCG GAMMA Data Scientist   \n",
       "1                              Data Scientist   \n",
       "2         Data Scientist / Chat-bot Developer   \n",
       "3                         Lead Data Scientist   \n",
       "4       Data Scientist - Predictive Analytics   \n",
       "5  Data Scientist For Healthcare Product team   \n",
       "6                              Data Scientist   \n",
       "7           Data Scientist - Engine Algorithm   \n",
       "8                              Data Scientist   \n",
       "9                          Jr. Data Scientist   \n",
       "\n",
       "                                        Job Location  \\\n",
       "0                     New Delhi, Bangalore/Bengaluru   \n",
       "1                                   Gurgaon/Gurugram   \n",
       "2  New Delhi, Bangalore/Bengaluru, Mumbai (All Ar...   \n",
       "3         Noida(Sector-59 Noida)\\n(WFH during Covid)   \n",
       "4  Noida, Mumbai, Chandigarh, Hyderabad/Secundera...   \n",
       "5          Delhi / NCR, Chennai, Bangalore/Bengaluru   \n",
       "6                                              Noida   \n",
       "7  Delhi / NCR, Kolkata, Mumbai, Hyderabad/Secund...   \n",
       "8                                   Gurgaon/Gurugram   \n",
       "9                                              Noida   \n",
       "\n",
       "               Company Name Experience Required  \n",
       "0   Boston Consulting Group             2-5 Yrs  \n",
       "1                     Optum             2-7 Yrs  \n",
       "2              Big Seo Buzz             3-7 Yrs  \n",
       "3   R Systems International            7-10 Yrs  \n",
       "4              Confidential             1-6 Yrs  \n",
       "5  SECUREKLOUD TECHNOLOGIES             2-7 Yrs  \n",
       "6                    4i Odc             2-4 Yrs  \n",
       "7              Primo Hiring             1-3 Yrs  \n",
       "8            Feedback Infra             2-4 Yrs  \n",
       "9                  Dataflow             2-5 Yrs  "
      ]
     },
     "execution_count": 185,
     "metadata": {},
     "output_type": "execute_result"
    }
   ],
   "source": [
    "df = pd.DataFrame({'Job Title':job_title, 'Job Location':job_loc, 'Company Name':com_nam, 'Experience Required':exp})\n",
    "df"
   ]
  },
  {
   "cell_type": "markdown",
   "id": "2c5e1323",
   "metadata": {},
   "source": [
    "## Q4: Scrape data of first 100 sunglasses listings on flipkart.com. You have to scrape four attributes:\n",
    "### 1. Brand\n",
    "### 2. Product Description\n",
    "### 3. Price"
   ]
  },
  {
   "cell_type": "code",
   "execution_count": 10,
   "id": "985df3dc",
   "metadata": {},
   "outputs": [],
   "source": [
    "driver = webdriver.Chrome(r\"G:\\chromedriver_win32\\chromedriver.exe\")      "
   ]
  },
  {
   "cell_type": "code",
   "execution_count": 11,
   "id": "102115f8",
   "metadata": {},
   "outputs": [],
   "source": [
    "url = \"https://www.flipkart.com/\""
   ]
  },
  {
   "cell_type": "code",
   "execution_count": 12,
   "id": "71235d26",
   "metadata": {},
   "outputs": [],
   "source": [
    "#opening the webpage through our driver\n",
    "driver.get(url)"
   ]
  },
  {
   "cell_type": "code",
   "execution_count": 13,
   "id": "7179491c",
   "metadata": {},
   "outputs": [],
   "source": [
    "#interacting with the webpage\n",
    "product = driver.find_element(By.CLASS_NAME,\"_3704LK\")\n",
    "product.send_keys(\"Sunglasses\")"
   ]
  },
  {
   "cell_type": "code",
   "execution_count": 15,
   "id": "f331ac2d",
   "metadata": {},
   "outputs": [],
   "source": [
    "# Click on Search button\n",
    "sear = driver.find_element(By.CLASS_NAME,\"L0Z3Pu\")\n",
    "sear.click()"
   ]
  },
  {
   "cell_type": "code",
   "execution_count": 16,
   "id": "d937bf8b",
   "metadata": {},
   "outputs": [],
   "source": [
    "#creating the empty lists\n",
    "Brand=[]\n",
    "Product_Description=[]\n",
    "Price=[]"
   ]
  },
  {
   "cell_type": "code",
   "execution_count": 17,
   "id": "22524639",
   "metadata": {},
   "outputs": [],
   "source": [
    "#getting the list of url of first 100 sunglasses\n",
    "URL=[]\n",
    "for i in range(0,3):\n",
    "    sunglasses=driver.find_elements(By.XPATH,\"//a[@class='_2UzuFa']\")[0:100]\n",
    "    for i in sunglasses:\n",
    "        URL.append(i.get_attribute('href'))\n",
    "    driver.find_element(By.XPATH,'/html/body/div[1]/div/div[3]/div[1]/div[2]/div[12]/div/div/nav/a[11]').click()\n",
    "    time.sleep(3)"
   ]
  },
  {
   "cell_type": "code",
   "execution_count": 18,
   "id": "e54c729f",
   "metadata": {},
   "outputs": [],
   "source": [
    "list_of_url=URL[0:100]"
   ]
  },
  {
   "cell_type": "code",
   "execution_count": 19,
   "id": "d1b6717f",
   "metadata": {},
   "outputs": [],
   "source": [
    "#going to the url of first sunglasses through our driver\n",
    "driver.get(list_of_url[0])"
   ]
  },
  {
   "cell_type": "code",
   "execution_count": 20,
   "id": "aadcc9f5",
   "metadata": {},
   "outputs": [
    {
     "name": "stderr",
     "output_type": "stream",
     "text": [
      "100%|████████████████████████████████████████████████████████████████████████████████| 100/100 [06:59<00:00,  4.20s/it]\n"
     ]
    }
   ],
   "source": [
    "#running a loop to extract all the required information from the list_of_url\n",
    "from tqdm import tqdm\n",
    "for i in tqdm(list_of_url):\n",
    "    driver.get(i)\n",
    "    try:\n",
    "        brand=driver.find_element(By.XPATH,\"//span[@class='G6XhRU']\").text\n",
    "        Brand.append(brand)\n",
    "        description=driver.find_element(By.XPATH,\"//span[@class='B_NuCI']\").text\n",
    "        Product_Description.append(description)\n",
    "        price=driver.find_element(By.XPATH,\"//div[@class='_30jeq3 _16Jk6d']\").text\n",
    "        Price.append(price)\n",
    "        \n",
    "    except NoSuchElementException:\n",
    "        Brand.append(\"Null\")\n",
    "        Product_Description.append(\"Null\")\n",
    "        Price.append(\"Null\")\n",
    "        "
   ]
  },
  {
   "cell_type": "code",
   "execution_count": 21,
   "id": "b4b22a97",
   "metadata": {},
   "outputs": [
    {
     "name": "stdout",
     "output_type": "stream",
     "text": [
      "100 100 100\n"
     ]
    }
   ],
   "source": [
    "#printing length\n",
    "print(len(Brand),len(Product_Description),len(Price))"
   ]
  },
  {
   "cell_type": "code",
   "execution_count": 22,
   "id": "d132068e",
   "metadata": {},
   "outputs": [
    {
     "data": {
      "text/html": [
       "<div>\n",
       "<style scoped>\n",
       "    .dataframe tbody tr th:only-of-type {\n",
       "        vertical-align: middle;\n",
       "    }\n",
       "\n",
       "    .dataframe tbody tr th {\n",
       "        vertical-align: top;\n",
       "    }\n",
       "\n",
       "    .dataframe thead th {\n",
       "        text-align: right;\n",
       "    }\n",
       "</style>\n",
       "<table border=\"1\" class=\"dataframe\">\n",
       "  <thead>\n",
       "    <tr style=\"text-align: right;\">\n",
       "      <th></th>\n",
       "      <th>Brand Name</th>\n",
       "      <th>Product Description</th>\n",
       "      <th>Price</th>\n",
       "    </tr>\n",
       "  </thead>\n",
       "  <tbody>\n",
       "    <tr>\n",
       "      <th>0</th>\n",
       "      <td>Silver Kartz</td>\n",
       "      <td>UV Protection Clubmaster Sunglasses (53)  (For...</td>\n",
       "      <td>₹279</td>\n",
       "    </tr>\n",
       "    <tr>\n",
       "      <th>1</th>\n",
       "      <td>ROZZETTA CRAFT</td>\n",
       "      <td>UV Protection, Gradient Rectangular Sunglasses...</td>\n",
       "      <td>₹449</td>\n",
       "    </tr>\n",
       "    <tr>\n",
       "      <th>2</th>\n",
       "      <td>New Specs</td>\n",
       "      <td>UV Protection Rectangular Sunglasses (Free Siz...</td>\n",
       "      <td>₹264</td>\n",
       "    </tr>\n",
       "    <tr>\n",
       "      <th>3</th>\n",
       "      <td>Fastrack</td>\n",
       "      <td>UV Protection Rectangular Sunglasses (Free Siz...</td>\n",
       "      <td>₹639</td>\n",
       "    </tr>\n",
       "    <tr>\n",
       "      <th>4</th>\n",
       "      <td>Fastrack</td>\n",
       "      <td>UV Protection Wayfarer Sunglasses (Free Size) ...</td>\n",
       "      <td>₹799</td>\n",
       "    </tr>\n",
       "    <tr>\n",
       "      <th>...</th>\n",
       "      <td>...</td>\n",
       "      <td>...</td>\n",
       "      <td>...</td>\n",
       "    </tr>\n",
       "    <tr>\n",
       "      <th>95</th>\n",
       "      <td>NuVew</td>\n",
       "      <td>UV Protection, Night Vision, Riding Glasses Sp...</td>\n",
       "      <td>₹285</td>\n",
       "    </tr>\n",
       "    <tr>\n",
       "      <th>96</th>\n",
       "      <td>Rich Club</td>\n",
       "      <td>UV Protection Round Sunglasses (50)  (For Men ...</td>\n",
       "      <td>₹399</td>\n",
       "    </tr>\n",
       "    <tr>\n",
       "      <th>97</th>\n",
       "      <td>VINCENT CHASE</td>\n",
       "      <td>by Lenskart Polarized, UV Protection Wayfarer ...</td>\n",
       "      <td>₹1,049</td>\n",
       "    </tr>\n",
       "    <tr>\n",
       "      <th>98</th>\n",
       "      <td>AISLIN</td>\n",
       "      <td>UV Protection, Gradient Cat-eye Sunglasses (61...</td>\n",
       "      <td>₹498</td>\n",
       "    </tr>\n",
       "    <tr>\n",
       "      <th>99</th>\n",
       "      <td>elegante</td>\n",
       "      <td>UV Protection Over-sized Sunglasses (Free Size...</td>\n",
       "      <td>₹431</td>\n",
       "    </tr>\n",
       "  </tbody>\n",
       "</table>\n",
       "<p>100 rows × 3 columns</p>\n",
       "</div>"
      ],
      "text/plain": [
       "         Brand Name                                Product Description   Price\n",
       "0     Silver Kartz   UV Protection Clubmaster Sunglasses (53)  (For...    ₹279\n",
       "1   ROZZETTA CRAFT   UV Protection, Gradient Rectangular Sunglasses...    ₹449\n",
       "2        New Specs   UV Protection Rectangular Sunglasses (Free Siz...    ₹264\n",
       "3         Fastrack   UV Protection Rectangular Sunglasses (Free Siz...    ₹639\n",
       "4         Fastrack   UV Protection Wayfarer Sunglasses (Free Size) ...    ₹799\n",
       "..              ...                                                ...     ...\n",
       "95           NuVew   UV Protection, Night Vision, Riding Glasses Sp...    ₹285\n",
       "96       Rich Club   UV Protection Round Sunglasses (50)  (For Men ...    ₹399\n",
       "97   VINCENT CHASE   by Lenskart Polarized, UV Protection Wayfarer ...  ₹1,049\n",
       "98          AISLIN   UV Protection, Gradient Cat-eye Sunglasses (61...    ₹498\n",
       "99        elegante   UV Protection Over-sized Sunglasses (Free Size...    ₹431\n",
       "\n",
       "[100 rows x 3 columns]"
      ]
     },
     "execution_count": 22,
     "metadata": {},
     "output_type": "execute_result"
    }
   ],
   "source": [
    "df = pd.DataFrame({'Brand Name':Brand, 'Product Description':Product_Description, 'Price':Price,})\n",
    "df"
   ]
  },
  {
   "cell_type": "code",
   "execution_count": null,
   "id": "e9c8618e",
   "metadata": {},
   "outputs": [],
   "source": []
  },
  {
   "cell_type": "markdown",
   "id": "ff0c2b41",
   "metadata": {},
   "source": [
    "## Q5: Scrape 100 reviews data from flipkart.com for iphone11 phone.\n",
    "### This task will be done in following steps:\n",
    "### 1. First get the webpage https://www.flipkart.com/\n",
    "### 2. Enter “iphone 11” in “Search” field .\n",
    "### 3. Then click the search button."
   ]
  },
  {
   "cell_type": "code",
   "execution_count": 50,
   "id": "d3ac56d4",
   "metadata": {},
   "outputs": [],
   "source": [
    "driver = webdriver.Chrome(r\"G:\\chromedriver_win32\\chromedriver.exe\")"
   ]
  },
  {
   "cell_type": "code",
   "execution_count": 51,
   "id": "fae508ab",
   "metadata": {},
   "outputs": [],
   "source": [
    "url=\" https://www.flipkart.com/apple-iphone-11-black-64-gb-includesearpods-poweradapter/p/itm0f37c2240b217?pid=MOBFKCTSVZAXUHGR&lid=LSTMOBFKCTSVZAXUHGREPBFGI\""
   ]
  },
  {
   "cell_type": "code",
   "execution_count": 52,
   "id": "b3106e68",
   "metadata": {},
   "outputs": [],
   "source": [
    "#opening the webpage through our driver\n",
    "driver.get(url)"
   ]
  },
  {
   "cell_type": "code",
   "execution_count": 53,
   "id": "01df4427",
   "metadata": {},
   "outputs": [],
   "source": [
    "#clicking on all reviews\n",
    "driver.find_element(By.XPATH,'//div[@class=\"_3UAT2v _16PBlm\"]').click()"
   ]
  },
  {
   "cell_type": "code",
   "execution_count": 62,
   "id": "ba905027",
   "metadata": {},
   "outputs": [],
   "source": [
    "start = 0\n",
    "end = 10\n",
    "rate=[]\n",
    "for page in range(start, end):\n",
    "    titles = driver.find_elements(By.XPATH,\"//div[@class='_3LWZlK _1BLPMq']\")\n",
    "    for i in titles:\n",
    "        rate.append(i.text)\n",
    "    next_button = driver.find_elements(By.XPATH,\"//a[@class='_1LKTO3']\") #to scrap data from next page\n",
    "    #next_button.click()\n",
    "    time.sleep(3)"
   ]
  },
  {
   "cell_type": "code",
   "execution_count": 63,
   "id": "6024fc40",
   "metadata": {},
   "outputs": [
    {
     "data": {
      "text/plain": [
       "100"
      ]
     },
     "execution_count": 63,
     "metadata": {},
     "output_type": "execute_result"
    }
   ],
   "source": [
    "len(rate)"
   ]
  },
  {
   "cell_type": "code",
   "execution_count": 56,
   "id": "3e857cfd",
   "metadata": {},
   "outputs": [],
   "source": [
    "review = []\n",
    "\n",
    "for page in range(0,10):\n",
    "    titles = driver.find_elements(By.XPATH,\"//p[@class='_2-N8zT']\")\n",
    "    for i in titles:\n",
    "        review.append(i.text)\n",
    "    next_button = driver.find_elements(By.XPATH,\"//a[@class='_1LKTO3']\") #to scrap data from next page\n",
    "    #next_button.click()\n",
    "    time.sleep(3)"
   ]
  },
  {
   "cell_type": "code",
   "execution_count": 57,
   "id": "f6be25d1",
   "metadata": {},
   "outputs": [
    {
     "data": {
      "text/plain": [
       "100"
      ]
     },
     "execution_count": 57,
     "metadata": {},
     "output_type": "execute_result"
    }
   ],
   "source": [
    "len(review)"
   ]
  },
  {
   "cell_type": "code",
   "execution_count": 58,
   "id": "ea027af7",
   "metadata": {},
   "outputs": [],
   "source": [
    "full_review = []\n",
    "\n",
    "for page in range(0,10):\n",
    "    titles = driver.find_elements(By.XPATH,\"//div[@class='t-ZTKy']\")\n",
    "    for i in titles:\n",
    "        full_review.append(i.text)\n",
    "    next_button = driver.find_elements(By.XPATH,\"//a[@class='_1LKTO3']\") #to scrap data from next page\n",
    "    #next_button.click()\n",
    "    time.sleep(3)"
   ]
  },
  {
   "cell_type": "code",
   "execution_count": 59,
   "id": "682833bd",
   "metadata": {},
   "outputs": [
    {
     "data": {
      "text/plain": [
       "100"
      ]
     },
     "execution_count": 59,
     "metadata": {},
     "output_type": "execute_result"
    }
   ],
   "source": [
    "len(full_review)"
   ]
  },
  {
   "cell_type": "code",
   "execution_count": 64,
   "id": "2309d64b",
   "metadata": {},
   "outputs": [
    {
     "data": {
      "text/html": [
       "<div>\n",
       "<style scoped>\n",
       "    .dataframe tbody tr th:only-of-type {\n",
       "        vertical-align: middle;\n",
       "    }\n",
       "\n",
       "    .dataframe tbody tr th {\n",
       "        vertical-align: top;\n",
       "    }\n",
       "\n",
       "    .dataframe thead th {\n",
       "        text-align: right;\n",
       "    }\n",
       "</style>\n",
       "<table border=\"1\" class=\"dataframe\">\n",
       "  <thead>\n",
       "    <tr style=\"text-align: right;\">\n",
       "      <th></th>\n",
       "      <th>Rating</th>\n",
       "      <th>Review</th>\n",
       "      <th>Review_Summary</th>\n",
       "    </tr>\n",
       "  </thead>\n",
       "  <tbody>\n",
       "    <tr>\n",
       "      <th>0</th>\n",
       "      <td>5</td>\n",
       "      <td>Simply awesome</td>\n",
       "      <td>Really satisfied with the Product I received.....</td>\n",
       "    </tr>\n",
       "    <tr>\n",
       "      <th>1</th>\n",
       "      <td>5</td>\n",
       "      <td>Perfect product!</td>\n",
       "      <td>Amazing phone with great cameras and better ba...</td>\n",
       "    </tr>\n",
       "    <tr>\n",
       "      <th>2</th>\n",
       "      <td>5</td>\n",
       "      <td>Best in the market!</td>\n",
       "      <td>Great iPhone very snappy experience as apple k...</td>\n",
       "    </tr>\n",
       "    <tr>\n",
       "      <th>3</th>\n",
       "      <td>5</td>\n",
       "      <td>Worth every penny</td>\n",
       "      <td>Previously I was using one plus 3t it was a gr...</td>\n",
       "    </tr>\n",
       "    <tr>\n",
       "      <th>4</th>\n",
       "      <td>5</td>\n",
       "      <td>Highly recommended</td>\n",
       "      <td>What a camera .....just awesome ..you can feel...</td>\n",
       "    </tr>\n",
       "    <tr>\n",
       "      <th>...</th>\n",
       "      <td>...</td>\n",
       "      <td>...</td>\n",
       "      <td>...</td>\n",
       "    </tr>\n",
       "    <tr>\n",
       "      <th>95</th>\n",
       "      <td>5</td>\n",
       "      <td>Fabulous!</td>\n",
       "      <td>This is my first iOS phone. I am very happy wi...</td>\n",
       "    </tr>\n",
       "    <tr>\n",
       "      <th>96</th>\n",
       "      <td>5</td>\n",
       "      <td>Great product</td>\n",
       "      <td>Amazing Powerful and Durable Gadget.\\n\\nI’m am...</td>\n",
       "    </tr>\n",
       "    <tr>\n",
       "      <th>97</th>\n",
       "      <td>5</td>\n",
       "      <td>Highly recommended</td>\n",
       "      <td>It's my first time to use iOS phone and I am l...</td>\n",
       "    </tr>\n",
       "    <tr>\n",
       "      <th>98</th>\n",
       "      <td>5</td>\n",
       "      <td>Worth every penny</td>\n",
       "      <td>i11 is worthy to buy, too much happy with the ...</td>\n",
       "    </tr>\n",
       "    <tr>\n",
       "      <th>99</th>\n",
       "      <td>4</td>\n",
       "      <td>Good choice</td>\n",
       "      <td>So far it’s been an AMAZING experience coming ...</td>\n",
       "    </tr>\n",
       "  </tbody>\n",
       "</table>\n",
       "<p>100 rows × 3 columns</p>\n",
       "</div>"
      ],
      "text/plain": [
       "   Rating               Review  \\\n",
       "0       5       Simply awesome   \n",
       "1       5     Perfect product!   \n",
       "2       5  Best in the market!   \n",
       "3       5    Worth every penny   \n",
       "4       5   Highly recommended   \n",
       "..    ...                  ...   \n",
       "95      5            Fabulous!   \n",
       "96      5        Great product   \n",
       "97      5   Highly recommended   \n",
       "98      5    Worth every penny   \n",
       "99      4          Good choice   \n",
       "\n",
       "                                       Review_Summary  \n",
       "0   Really satisfied with the Product I received.....  \n",
       "1   Amazing phone with great cameras and better ba...  \n",
       "2   Great iPhone very snappy experience as apple k...  \n",
       "3   Previously I was using one plus 3t it was a gr...  \n",
       "4   What a camera .....just awesome ..you can feel...  \n",
       "..                                                ...  \n",
       "95  This is my first iOS phone. I am very happy wi...  \n",
       "96  Amazing Powerful and Durable Gadget.\\n\\nI’m am...  \n",
       "97  It's my first time to use iOS phone and I am l...  \n",
       "98  i11 is worthy to buy, too much happy with the ...  \n",
       "99  So far it’s been an AMAZING experience coming ...  \n",
       "\n",
       "[100 rows x 3 columns]"
      ]
     },
     "execution_count": 64,
     "metadata": {},
     "output_type": "execute_result"
    }
   ],
   "source": [
    "df = pd.DataFrame({'Rating':rate, 'Review':review, 'Review_Summary':full_review})\n",
    "df"
   ]
  },
  {
   "cell_type": "code",
   "execution_count": null,
   "id": "28c87980",
   "metadata": {},
   "outputs": [],
   "source": []
  },
  {
   "cell_type": "markdown",
   "id": "4d4301d4",
   "metadata": {},
   "source": [
    "## Q6: Scrape data for first 100 sneakers you find when you visit flipkart.com and search for “sneakers” in the search field.\n",
    "### You have to scrape 4 attributes of each sneaker:\n",
    "### 1. Brand\n",
    "### 2. Product Description\n",
    "### 3. Price"
   ]
  },
  {
   "cell_type": "code",
   "execution_count": 65,
   "id": "15578dd3",
   "metadata": {},
   "outputs": [],
   "source": [
    "driver = webdriver.Chrome(r\"G:\\chromedriver_win32\\chromedriver.exe\")  "
   ]
  },
  {
   "cell_type": "code",
   "execution_count": 66,
   "id": "1afb6808",
   "metadata": {},
   "outputs": [],
   "source": [
    "url = \"https://www.flipkart.com/\""
   ]
  },
  {
   "cell_type": "code",
   "execution_count": 67,
   "id": "b1658dc5",
   "metadata": {},
   "outputs": [],
   "source": [
    "#opening the webpage through our driver\n",
    "driver.get(url)"
   ]
  },
  {
   "cell_type": "code",
   "execution_count": 68,
   "id": "5176dec2",
   "metadata": {},
   "outputs": [],
   "source": [
    "# Entering Sneakers\n",
    "product = driver.find_element(By.CLASS_NAME,\"_3704LK\")\n",
    "product.send_keys(\"Sneakers\")"
   ]
  },
  {
   "cell_type": "code",
   "execution_count": 69,
   "id": "3345d81b",
   "metadata": {},
   "outputs": [],
   "source": [
    "# Click on search button\n",
    "sear = driver.find_element(By.CLASS_NAME,\"L0Z3Pu\")\n",
    "sear.click()"
   ]
  },
  {
   "cell_type": "code",
   "execution_count": 70,
   "id": "a6051140",
   "metadata": {},
   "outputs": [],
   "source": [
    "# scraping Brand Name\n",
    "brand=[]\n",
    "for page in range(0, 3):\n",
    "    titles = driver.find_elements(By.XPATH,\"//div[@class='_2WkVRV']\")\n",
    "    for i in titles:\n",
    "        brand.append(i.text)\n",
    "    next_button = driver.find_elements(By.XPATH,\"//a[@class='_1LKTO3']\") #to scrap data from next page\n",
    "    #next_button.click()\n",
    "    time.sleep(3)"
   ]
  },
  {
   "cell_type": "code",
   "execution_count": 71,
   "id": "12c15ecd",
   "metadata": {},
   "outputs": [],
   "source": [
    "BRAND = brand[0:100]"
   ]
  },
  {
   "cell_type": "code",
   "execution_count": 72,
   "id": "add36119",
   "metadata": {},
   "outputs": [
    {
     "data": {
      "text/plain": [
       "100"
      ]
     },
     "execution_count": 72,
     "metadata": {},
     "output_type": "execute_result"
    }
   ],
   "source": [
    "len(BRAND)"
   ]
  },
  {
   "cell_type": "code",
   "execution_count": 78,
   "id": "499bb924",
   "metadata": {},
   "outputs": [],
   "source": [
    "# scraping full description\n",
    "des=[]\n",
    "for page in range(0, 4):\n",
    "    titles = driver.find_elements(By.XPATH,\"//a[@class='IRpwTa']\")\n",
    "    for i in titles:\n",
    "        des.append(i.text)\n",
    "    next_button = driver.find_elements(By.XPATH,\"//a[@class='_1LKTO3']\") #to scrap data from next page\n",
    "    #next_button.click()\n",
    "    time.sleep(3)"
   ]
  },
  {
   "cell_type": "code",
   "execution_count": 80,
   "id": "bafdaadb",
   "metadata": {},
   "outputs": [],
   "source": [
    "Product_description = des[0:100]"
   ]
  },
  {
   "cell_type": "code",
   "execution_count": 81,
   "id": "d46e4a72",
   "metadata": {},
   "outputs": [
    {
     "data": {
      "text/plain": [
       "100"
      ]
     },
     "execution_count": 81,
     "metadata": {},
     "output_type": "execute_result"
    }
   ],
   "source": [
    "len(Product_description)"
   ]
  },
  {
   "cell_type": "code",
   "execution_count": 82,
   "id": "16dc48f9",
   "metadata": {},
   "outputs": [],
   "source": [
    "# scraping price\n",
    "pri=[]\n",
    "for page in range(0, 3):\n",
    "    titles = driver.find_elements(By.XPATH,\"//div[@class='_30jeq3']\")\n",
    "    for i in titles:\n",
    "        pri.append(i.text)\n",
    "    next_button = driver.find_elements(By.XPATH,\"//a[@class='_1LKTO3']\") #to scrap data from next page\n",
    "    #next_button.click()\n",
    "    time.sleep(3)"
   ]
  },
  {
   "cell_type": "code",
   "execution_count": 83,
   "id": "94b45344",
   "metadata": {},
   "outputs": [],
   "source": [
    "PRICE = pri[0:100]"
   ]
  },
  {
   "cell_type": "code",
   "execution_count": 84,
   "id": "253595e3",
   "metadata": {},
   "outputs": [
    {
     "data": {
      "text/plain": [
       "100"
      ]
     },
     "execution_count": 84,
     "metadata": {},
     "output_type": "execute_result"
    }
   ],
   "source": [
    "len(PRICE)"
   ]
  },
  {
   "cell_type": "code",
   "execution_count": 85,
   "id": "9dba4e2d",
   "metadata": {},
   "outputs": [
    {
     "data": {
      "text/html": [
       "<div>\n",
       "<style scoped>\n",
       "    .dataframe tbody tr th:only-of-type {\n",
       "        vertical-align: middle;\n",
       "    }\n",
       "\n",
       "    .dataframe tbody tr th {\n",
       "        vertical-align: top;\n",
       "    }\n",
       "\n",
       "    .dataframe thead th {\n",
       "        text-align: right;\n",
       "    }\n",
       "</style>\n",
       "<table border=\"1\" class=\"dataframe\">\n",
       "  <thead>\n",
       "    <tr style=\"text-align: right;\">\n",
       "      <th></th>\n",
       "      <th>BRAND</th>\n",
       "      <th>PRODUCT DESCRIPTION</th>\n",
       "      <th>PRICE</th>\n",
       "    </tr>\n",
       "  </thead>\n",
       "  <tbody>\n",
       "    <tr>\n",
       "      <th>0</th>\n",
       "      <td>FindMine</td>\n",
       "      <td>Sneakers For Men</td>\n",
       "      <td>₹499</td>\n",
       "    </tr>\n",
       "    <tr>\n",
       "      <th>1</th>\n",
       "      <td>FindMine</td>\n",
       "      <td>Sneakers For Men</td>\n",
       "      <td>₹499</td>\n",
       "    </tr>\n",
       "    <tr>\n",
       "      <th>2</th>\n",
       "      <td>Magnolia</td>\n",
       "      <td>Sneakers For Men</td>\n",
       "      <td>₹419</td>\n",
       "    </tr>\n",
       "    <tr>\n",
       "      <th>3</th>\n",
       "      <td>Labbin</td>\n",
       "      <td>Lightweight Pack Of 1 Trendy Sneakers Sneakers...</td>\n",
       "      <td>₹499</td>\n",
       "    </tr>\n",
       "    <tr>\n",
       "      <th>4</th>\n",
       "      <td>aadi</td>\n",
       "      <td>Sneakers For Men</td>\n",
       "      <td>₹288</td>\n",
       "    </tr>\n",
       "    <tr>\n",
       "      <th>...</th>\n",
       "      <td>...</td>\n",
       "      <td>...</td>\n",
       "      <td>...</td>\n",
       "    </tr>\n",
       "    <tr>\n",
       "      <th>95</th>\n",
       "      <td>Shozie</td>\n",
       "      <td>Sneakers For Men</td>\n",
       "      <td>₹389</td>\n",
       "    </tr>\n",
       "    <tr>\n",
       "      <th>96</th>\n",
       "      <td>Kzaara</td>\n",
       "      <td>Sneakers For Men</td>\n",
       "      <td>₹259</td>\n",
       "    </tr>\n",
       "    <tr>\n",
       "      <th>97</th>\n",
       "      <td>K- FOOTLANCE</td>\n",
       "      <td>Sneakers For Men</td>\n",
       "      <td>₹416</td>\n",
       "    </tr>\n",
       "    <tr>\n",
       "      <th>98</th>\n",
       "      <td>Deals4you</td>\n",
       "      <td>Sneakers For Men</td>\n",
       "      <td>₹345</td>\n",
       "    </tr>\n",
       "    <tr>\n",
       "      <th>99</th>\n",
       "      <td>BRUTON</td>\n",
       "      <td>Lightweight Pack Of 1 Trendy Sneakers Sneakers...</td>\n",
       "      <td>₹376</td>\n",
       "    </tr>\n",
       "  </tbody>\n",
       "</table>\n",
       "<p>100 rows × 3 columns</p>\n",
       "</div>"
      ],
      "text/plain": [
       "           BRAND                                PRODUCT DESCRIPTION PRICE\n",
       "0       FindMine                                   Sneakers For Men  ₹499\n",
       "1       FindMine                                   Sneakers For Men  ₹499\n",
       "2       Magnolia                                   Sneakers For Men  ₹419\n",
       "3         Labbin  Lightweight Pack Of 1 Trendy Sneakers Sneakers...  ₹499\n",
       "4           aadi                                   Sneakers For Men  ₹288\n",
       "..           ...                                                ...   ...\n",
       "95        Shozie                                   Sneakers For Men  ₹389\n",
       "96        Kzaara                                   Sneakers For Men  ₹259\n",
       "97  K- FOOTLANCE                                   Sneakers For Men  ₹416\n",
       "98     Deals4you                                   Sneakers For Men  ₹345\n",
       "99        BRUTON  Lightweight Pack Of 1 Trendy Sneakers Sneakers...  ₹376\n",
       "\n",
       "[100 rows x 3 columns]"
      ]
     },
     "execution_count": 85,
     "metadata": {},
     "output_type": "execute_result"
    }
   ],
   "source": [
    "df = pd.DataFrame({'BRAND':BRAND, 'PRODUCT DESCRIPTION':Product_description, 'PRICE':PRICE})\n",
    "df"
   ]
  },
  {
   "cell_type": "markdown",
   "id": "258ecb8d",
   "metadata": {},
   "source": [
    "## Q7: Go to the link - https://www.myntra.com/shoes\n",
    "### Set second Price filter and Color filter to “Black”, as shown in the below image\n",
    "\n",
    "### And then scrape First 100 shoes data you get. The data should include “Brand” of the shoes , Short Shoe description, price of the shoe as shown in the below image."
   ]
  },
  {
   "cell_type": "code",
   "execution_count": 2,
   "id": "b49db193",
   "metadata": {},
   "outputs": [],
   "source": [
    "driver = webdriver.Chrome(r\"G:\\chromedriver_win32\\chromedriver.exe\")"
   ]
  },
  {
   "cell_type": "code",
   "execution_count": 3,
   "id": "fff12a32",
   "metadata": {},
   "outputs": [],
   "source": [
    "#specifying the url of the webpage to be scraped\n",
    "url=\"https://www.myntra.com/shoes\""
   ]
  },
  {
   "cell_type": "code",
   "execution_count": 4,
   "id": "3b7aa07a",
   "metadata": {},
   "outputs": [],
   "source": [
    "#opening the webpage through our driver\n",
    "driver.get(url)"
   ]
  },
  {
   "cell_type": "code",
   "execution_count": 5,
   "id": "c16ab31f",
   "metadata": {},
   "outputs": [],
   "source": [
    "# applying Color filter on webpage\n",
    "\n",
    "driver.find_element(By.XPATH,\"/html/body/div[2]/div/div[1]/main/div[3]/div[1]/section/div/div[6]/ul/li[1]/label/div\").click()"
   ]
  },
  {
   "cell_type": "code",
   "execution_count": 6,
   "id": "aaef6e21",
   "metadata": {},
   "outputs": [],
   "source": [
    "# applying Price filter on webpage\n",
    "\n",
    "driver.find_element(By.XPATH,\"/html/body/div[2]/div/div[1]/main/div[3]/div[1]/section/div/div[5]/ul/li[2]/label/div\").click()"
   ]
  },
  {
   "cell_type": "code",
   "execution_count": 7,
   "id": "717cc4aa",
   "metadata": {},
   "outputs": [],
   "source": [
    "# Sraping brand name\n",
    "brand = []\n",
    "\n",
    "for page in range(0,2):\n",
    "    titles = driver.find_elements(By.XPATH,\"//h3[@class='product-brand']\")\n",
    "    for i in titles:\n",
    "        brand.append(i.text)\n",
    "    next_button = driver.find_elements(By.XPATH,\"//li[@class='pagination-next']\") #to scrap data from next page\n",
    "    #next_button.click()\n",
    "    time.sleep(3)"
   ]
  },
  {
   "cell_type": "code",
   "execution_count": 8,
   "id": "7c6d73b0",
   "metadata": {},
   "outputs": [
    {
     "data": {
      "text/plain": [
       "100"
      ]
     },
     "execution_count": 8,
     "metadata": {},
     "output_type": "execute_result"
    }
   ],
   "source": [
    "len(brand)"
   ]
  },
  {
   "cell_type": "code",
   "execution_count": 9,
   "id": "ef7c4be5",
   "metadata": {},
   "outputs": [],
   "source": [
    "# Scraping Product Description\n",
    "product_des = []\n",
    "\n",
    "for page in range(0,2):\n",
    "    titles = driver.find_elements(By.XPATH,\"//h4[@class='product-product']\")\n",
    "    for i in titles:\n",
    "        product_des.append(i.text)\n",
    "    next_button = driver.find_elements(By.XPATH,\"//li[@class='pagination-next']\") #to scrap data from next page\n",
    "    #next_button.click()\n",
    "    time.sleep(3)"
   ]
  },
  {
   "cell_type": "code",
   "execution_count": 10,
   "id": "babf25f5",
   "metadata": {},
   "outputs": [
    {
     "data": {
      "text/plain": [
       "100"
      ]
     },
     "execution_count": 10,
     "metadata": {},
     "output_type": "execute_result"
    }
   ],
   "source": [
    "len(product_des)"
   ]
  },
  {
   "cell_type": "code",
   "execution_count": 11,
   "id": "4f3a9fc7",
   "metadata": {},
   "outputs": [],
   "source": [
    "# Scraping Price\n",
    "price = []\n",
    "\n",
    "for page in range(0,2):\n",
    "    titles = driver.find_elements(By.XPATH,\"//div[@class='product-price']\")\n",
    "    for i in titles:\n",
    "        price.append(i.text)\n",
    "    next_button = driver.find_elements(By.XPATH,\"//li[@class='pagination-next']\") #to scrap data from next page\n",
    "    #next_button.click()\n",
    "    time.sleep(3)"
   ]
  },
  {
   "cell_type": "code",
   "execution_count": 12,
   "id": "c48fa0d1",
   "metadata": {},
   "outputs": [
    {
     "data": {
      "text/plain": [
       "100"
      ]
     },
     "execution_count": 12,
     "metadata": {},
     "output_type": "execute_result"
    }
   ],
   "source": [
    "len(price)"
   ]
  },
  {
   "cell_type": "code",
   "execution_count": 13,
   "id": "e2cd18f0",
   "metadata": {},
   "outputs": [
    {
     "data": {
      "text/html": [
       "<div>\n",
       "<style scoped>\n",
       "    .dataframe tbody tr th:only-of-type {\n",
       "        vertical-align: middle;\n",
       "    }\n",
       "\n",
       "    .dataframe tbody tr th {\n",
       "        vertical-align: top;\n",
       "    }\n",
       "\n",
       "    .dataframe thead th {\n",
       "        text-align: right;\n",
       "    }\n",
       "</style>\n",
       "<table border=\"1\" class=\"dataframe\">\n",
       "  <thead>\n",
       "    <tr style=\"text-align: right;\">\n",
       "      <th></th>\n",
       "      <th>Brand Name</th>\n",
       "      <th>Product Description</th>\n",
       "      <th>Price</th>\n",
       "    </tr>\n",
       "  </thead>\n",
       "  <tbody>\n",
       "    <tr>\n",
       "      <th>0</th>\n",
       "      <td>Nike</td>\n",
       "      <td>Men ZOOM WINFLO8 Running Shoes</td>\n",
       "      <td>Rs. 7880Rs. 8295(5% OFF)</td>\n",
       "    </tr>\n",
       "    <tr>\n",
       "      <th>1</th>\n",
       "      <td>Hush Puppies</td>\n",
       "      <td>Men Solid Leather Formal Slip-Ons</td>\n",
       "      <td>Rs. 7649Rs. 8999(15% OFF)</td>\n",
       "    </tr>\n",
       "    <tr>\n",
       "      <th>2</th>\n",
       "      <td>Nike</td>\n",
       "      <td>Men React Infinity 3 Running</td>\n",
       "      <td>Rs. 13295Rs. 13995(5% OFF)</td>\n",
       "    </tr>\n",
       "    <tr>\n",
       "      <th>3</th>\n",
       "      <td>Nike</td>\n",
       "      <td>Lebron Witness VI Basketball</td>\n",
       "      <td>Rs. 8295</td>\n",
       "    </tr>\n",
       "    <tr>\n",
       "      <th>4</th>\n",
       "      <td>PUMA Motorsport</td>\n",
       "      <td>Mercedes AMG Petronas F1 Shoes</td>\n",
       "      <td>Rs. 9349Rs. 10999(15% OFF)</td>\n",
       "    </tr>\n",
       "    <tr>\n",
       "      <th>...</th>\n",
       "      <td>...</td>\n",
       "      <td>...</td>\n",
       "      <td>...</td>\n",
       "    </tr>\n",
       "    <tr>\n",
       "      <th>95</th>\n",
       "      <td>Reebok</td>\n",
       "      <td>Men Zig Dynamica2Adventure Run</td>\n",
       "      <td>Rs. 8999</td>\n",
       "    </tr>\n",
       "    <tr>\n",
       "      <th>96</th>\n",
       "      <td>Nike</td>\n",
       "      <td>Women React Escape Running</td>\n",
       "      <td>Rs. 9770Rs. 11495(15% OFF)</td>\n",
       "    </tr>\n",
       "    <tr>\n",
       "      <th>97</th>\n",
       "      <td>Skechers</td>\n",
       "      <td>Men Sports Shoes</td>\n",
       "      <td>Rs. 7999</td>\n",
       "    </tr>\n",
       "    <tr>\n",
       "      <th>98</th>\n",
       "      <td>Puma</td>\n",
       "      <td>Men Velocity Nitro 2 Running</td>\n",
       "      <td>Rs. 8799Rs. 10999(20% OFF)</td>\n",
       "    </tr>\n",
       "    <tr>\n",
       "      <th>99</th>\n",
       "      <td>Hush Puppies</td>\n",
       "      <td>Men Perforations Leather Slip-On Sneakers</td>\n",
       "      <td>Rs. 7999</td>\n",
       "    </tr>\n",
       "  </tbody>\n",
       "</table>\n",
       "<p>100 rows × 3 columns</p>\n",
       "</div>"
      ],
      "text/plain": [
       "         Brand Name                        Product Description  \\\n",
       "0              Nike             Men ZOOM WINFLO8 Running Shoes   \n",
       "1      Hush Puppies          Men Solid Leather Formal Slip-Ons   \n",
       "2              Nike               Men React Infinity 3 Running   \n",
       "3              Nike               Lebron Witness VI Basketball   \n",
       "4   PUMA Motorsport             Mercedes AMG Petronas F1 Shoes   \n",
       "..              ...                                        ...   \n",
       "95           Reebok             Men Zig Dynamica2Adventure Run   \n",
       "96             Nike                 Women React Escape Running   \n",
       "97         Skechers                           Men Sports Shoes   \n",
       "98             Puma               Men Velocity Nitro 2 Running   \n",
       "99     Hush Puppies  Men Perforations Leather Slip-On Sneakers   \n",
       "\n",
       "                         Price  \n",
       "0     Rs. 7880Rs. 8295(5% OFF)  \n",
       "1    Rs. 7649Rs. 8999(15% OFF)  \n",
       "2   Rs. 13295Rs. 13995(5% OFF)  \n",
       "3                     Rs. 8295  \n",
       "4   Rs. 9349Rs. 10999(15% OFF)  \n",
       "..                         ...  \n",
       "95                    Rs. 8999  \n",
       "96  Rs. 9770Rs. 11495(15% OFF)  \n",
       "97                    Rs. 7999  \n",
       "98  Rs. 8799Rs. 10999(20% OFF)  \n",
       "99                    Rs. 7999  \n",
       "\n",
       "[100 rows x 3 columns]"
      ]
     },
     "execution_count": 13,
     "metadata": {},
     "output_type": "execute_result"
    }
   ],
   "source": [
    "# Making DataFrame\n",
    "df = pd.DataFrame({'Brand Name':brand, 'Product Description':product_des, 'Price':price})\n",
    "df"
   ]
  },
  {
   "cell_type": "code",
   "execution_count": null,
   "id": "e2cecf99",
   "metadata": {},
   "outputs": [],
   "source": []
  },
  {
   "cell_type": "markdown",
   "id": "e3b72020",
   "metadata": {},
   "source": [
    "## Q8: Go to webpage https://www.amazon.in/\n",
    "### Enter “Laptop” in the search field and then click the search icon.\n",
    "### Then set CPU Type filter to “Intel Core i7” as shown in the below image:"
   ]
  },
  {
   "cell_type": "code",
   "execution_count": 138,
   "id": "345cc952",
   "metadata": {},
   "outputs": [],
   "source": [
    "driver = webdriver.Chrome(r\"G:\\chromedriver_win32\\chromedriver.exe\")  "
   ]
  },
  {
   "cell_type": "code",
   "execution_count": 139,
   "id": "51a519aa",
   "metadata": {},
   "outputs": [],
   "source": [
    "url = 'https://www.amazon.in/'"
   ]
  },
  {
   "cell_type": "code",
   "execution_count": 140,
   "id": "a758060d",
   "metadata": {},
   "outputs": [],
   "source": [
    "#opening the webpage through our driver\n",
    "driver.get(url)"
   ]
  },
  {
   "cell_type": "code",
   "execution_count": 141,
   "id": "597c5f5a",
   "metadata": {},
   "outputs": [],
   "source": [
    "#interacting with the webpage\n",
    "driver.find_element(By.XPATH,'//input[@id=\"twotabsearchtextbox\"]').send_keys(\"Laptop\")\n",
    "driver.find_element(By.XPATH,'//input[@id=\"nav-search-submit-button\"]').click()"
   ]
  },
  {
   "cell_type": "code",
   "execution_count": 142,
   "id": "0c4facb7",
   "metadata": {},
   "outputs": [],
   "source": [
    "#clicking on the \"Intel core i7\" filter\n",
    "driver.find_element(By.XPATH,'//li[@id=\"p_n_feature_thirteen_browse-bin/12598163031\"]/span/a/div/label/i').click()"
   ]
  },
  {
   "cell_type": "code",
   "execution_count": 143,
   "id": "d1253db7",
   "metadata": {},
   "outputs": [],
   "source": [
    "title=[]\n",
    "\n",
    "titles = driver.find_elements(By.XPATH,\"//h2[@class='a-size-mini a-spacing-none a-color-base s-line-clamp-2']\")\n",
    "for i in titles[0:10]:\n",
    "    title.append(i.text)\n",
    "\n",
    "    time.sleep(3)"
   ]
  },
  {
   "cell_type": "code",
   "execution_count": 144,
   "id": "29862edc",
   "metadata": {},
   "outputs": [
    {
     "data": {
      "text/plain": [
       "10"
      ]
     },
     "execution_count": 144,
     "metadata": {},
     "output_type": "execute_result"
    }
   ],
   "source": [
    "len(title)"
   ]
  },
  {
   "cell_type": "code",
   "execution_count": 145,
   "id": "df56d238",
   "metadata": {},
   "outputs": [],
   "source": [
    "price=[]\n",
    "\n",
    "titles = driver.find_elements(By.XPATH,\"//span[@class='a-price-whole']\")\n",
    "for i in titles[0:10]:\n",
    "    price.append(i.text)"
   ]
  },
  {
   "cell_type": "code",
   "execution_count": 146,
   "id": "f0a20ffd",
   "metadata": {},
   "outputs": [
    {
     "data": {
      "text/plain": [
       "['62,990',\n",
       " '1,06,999',\n",
       " '80,990',\n",
       " '26,998',\n",
       " '81,990',\n",
       " '79,990',\n",
       " '57,990',\n",
       " '41,690',\n",
       " '1,01,490',\n",
       " '99,990']"
      ]
     },
     "execution_count": 146,
     "metadata": {},
     "output_type": "execute_result"
    }
   ],
   "source": [
    "price"
   ]
  },
  {
   "cell_type": "code",
   "execution_count": 147,
   "id": "aee2db41",
   "metadata": {},
   "outputs": [],
   "source": [
    "rating = []\n",
    "titles = driver.find_elements(By.XPATH,\"//div[@class='a-row a-size-small']\")\n",
    "for i in titles[0:10]:\n",
    "    rating.append(i.text)"
   ]
  },
  {
   "cell_type": "code",
   "execution_count": 148,
   "id": "16e6a4f7",
   "metadata": {},
   "outputs": [
    {
     "data": {
      "text/plain": [
       "['31', '89', '60', '7', '6', '31', '40', '6', '82', '24']"
      ]
     },
     "execution_count": 148,
     "metadata": {},
     "output_type": "execute_result"
    }
   ],
   "source": [
    "rating"
   ]
  },
  {
   "cell_type": "code",
   "execution_count": 149,
   "id": "7365906b",
   "metadata": {},
   "outputs": [
    {
     "data": {
      "text/html": [
       "<div>\n",
       "<style scoped>\n",
       "    .dataframe tbody tr th:only-of-type {\n",
       "        vertical-align: middle;\n",
       "    }\n",
       "\n",
       "    .dataframe tbody tr th {\n",
       "        vertical-align: top;\n",
       "    }\n",
       "\n",
       "    .dataframe thead th {\n",
       "        text-align: right;\n",
       "    }\n",
       "</style>\n",
       "<table border=\"1\" class=\"dataframe\">\n",
       "  <thead>\n",
       "    <tr style=\"text-align: right;\">\n",
       "      <th></th>\n",
       "      <th>Title</th>\n",
       "      <th>Price</th>\n",
       "      <th>Rating</th>\n",
       "    </tr>\n",
       "  </thead>\n",
       "  <tbody>\n",
       "    <tr>\n",
       "      <th>0</th>\n",
       "      <td>Lenovo Ideapad Gaming 3 Intel Core i7 10th Gen...</td>\n",
       "      <td>62,990</td>\n",
       "      <td>31</td>\n",
       "    </tr>\n",
       "    <tr>\n",
       "      <th>1</th>\n",
       "      <td>Lenovo Yoga 7i 11th Gen Intel Core i7-1165G7 1...</td>\n",
       "      <td>1,06,999</td>\n",
       "      <td>89</td>\n",
       "    </tr>\n",
       "    <tr>\n",
       "      <th>2</th>\n",
       "      <td>Lenovo ThinkBook 15 Intel 11th Gen Core i7 15....</td>\n",
       "      <td>80,990</td>\n",
       "      <td>60</td>\n",
       "    </tr>\n",
       "    <tr>\n",
       "      <th>3</th>\n",
       "      <td>(Renewed) Lenovo Intel Core i7 5600U 12.5-Inch...</td>\n",
       "      <td>26,998</td>\n",
       "      <td>7</td>\n",
       "    </tr>\n",
       "    <tr>\n",
       "      <th>4</th>\n",
       "      <td>Lenovo IdeaPad Slim 5 Intel Core i7 12th Gen 1...</td>\n",
       "      <td>81,990</td>\n",
       "      <td>6</td>\n",
       "    </tr>\n",
       "    <tr>\n",
       "      <th>5</th>\n",
       "      <td>Samsung Galaxy Book2 Intel 12th Gen core i7 39...</td>\n",
       "      <td>79,990</td>\n",
       "      <td>31</td>\n",
       "    </tr>\n",
       "    <tr>\n",
       "      <th>6</th>\n",
       "      <td>ASUS Vivobook 15, 15.6-inch (39.62 cms) FHD, I...</td>\n",
       "      <td>57,990</td>\n",
       "      <td>40</td>\n",
       "    </tr>\n",
       "    <tr>\n",
       "      <th>7</th>\n",
       "      <td>(Renewed) HP Elitebook 840G1-i7-8 GB-2 TB 14-i...</td>\n",
       "      <td>41,690</td>\n",
       "      <td>6</td>\n",
       "    </tr>\n",
       "    <tr>\n",
       "      <th>8</th>\n",
       "      <td>HP Victus 11th Gen Intel Core i7-11800H 16.1\" ...</td>\n",
       "      <td>1,01,490</td>\n",
       "      <td>82</td>\n",
       "    </tr>\n",
       "    <tr>\n",
       "      <th>9</th>\n",
       "      <td>Fujitsu UH-X 11th Gen Intel Core i7 13.3\" FHD ...</td>\n",
       "      <td>99,990</td>\n",
       "      <td>24</td>\n",
       "    </tr>\n",
       "  </tbody>\n",
       "</table>\n",
       "</div>"
      ],
      "text/plain": [
       "                                               Title     Price Rating\n",
       "0  Lenovo Ideapad Gaming 3 Intel Core i7 10th Gen...    62,990     31\n",
       "1  Lenovo Yoga 7i 11th Gen Intel Core i7-1165G7 1...  1,06,999     89\n",
       "2  Lenovo ThinkBook 15 Intel 11th Gen Core i7 15....    80,990     60\n",
       "3  (Renewed) Lenovo Intel Core i7 5600U 12.5-Inch...    26,998      7\n",
       "4  Lenovo IdeaPad Slim 5 Intel Core i7 12th Gen 1...    81,990      6\n",
       "5  Samsung Galaxy Book2 Intel 12th Gen core i7 39...    79,990     31\n",
       "6  ASUS Vivobook 15, 15.6-inch (39.62 cms) FHD, I...    57,990     40\n",
       "7  (Renewed) HP Elitebook 840G1-i7-8 GB-2 TB 14-i...    41,690      6\n",
       "8  HP Victus 11th Gen Intel Core i7-11800H 16.1\" ...  1,01,490     82\n",
       "9  Fujitsu UH-X 11th Gen Intel Core i7 13.3\" FHD ...    99,990     24"
      ]
     },
     "execution_count": 149,
     "metadata": {},
     "output_type": "execute_result"
    }
   ],
   "source": [
    "df = pd.DataFrame({'Title':title, 'Price':price, 'Rating':rating})\n",
    "df"
   ]
  },
  {
   "cell_type": "code",
   "execution_count": null,
   "id": "98630424",
   "metadata": {},
   "outputs": [],
   "source": []
  },
  {
   "cell_type": "markdown",
   "id": "7f461b98",
   "metadata": {},
   "source": [
    "## Q9: Write a python program to scrape data for first 10 job results for Data Scientist Designation in Noida location. You have to scrape company name, No. of days ago when job was posted, Rating of the company. "
   ]
  },
  {
   "cell_type": "code",
   "execution_count": 48,
   "id": "7ac9e657",
   "metadata": {},
   "outputs": [],
   "source": [
    "driver = webdriver.Chrome(r\"G:\\chromedriver_win32\\chromedriver.exe\")  "
   ]
  },
  {
   "cell_type": "code",
   "execution_count": 49,
   "id": "9339ce7d",
   "metadata": {},
   "outputs": [],
   "source": [
    "url = \"https://www.ambitionbox.com/\""
   ]
  },
  {
   "cell_type": "code",
   "execution_count": 50,
   "id": "a0eaaf8c",
   "metadata": {},
   "outputs": [],
   "source": [
    "# Opening the page on automated chrome browser\n",
    "driver.get(url)"
   ]
  },
  {
   "cell_type": "code",
   "execution_count": 51,
   "id": "d6ae875b",
   "metadata": {},
   "outputs": [],
   "source": [
    "search = driver.find_element(By.CLASS_NAME,\"navItemLink\")\n",
    "search.click()"
   ]
  },
  {
   "cell_type": "code",
   "execution_count": 52,
   "id": "d19ae4e7",
   "metadata": {},
   "outputs": [],
   "source": [
    "# Searching data scientist job\n",
    "designation = driver.find_element(By.XPATH,\"//input[@class='input tt-input']\")\n",
    "designation.send_keys(\"Data Scientist\")"
   ]
  },
  {
   "cell_type": "code",
   "execution_count": 53,
   "id": "65bb10de",
   "metadata": {},
   "outputs": [],
   "source": [
    "# Click on search button\n",
    "se = driver.find_element(By.CLASS_NAME,\"ctas-btn-medium\")\n",
    "se.click()"
   ]
  },
  {
   "cell_type": "code",
   "execution_count": 55,
   "id": "6f695f1d",
   "metadata": {},
   "outputs": [],
   "source": [
    "# Click on location\n",
    "location = driver.find_element(By.XPATH,'//p[@class=\"body-medium text-capitalize undefined\"]').click()"
   ]
  },
  {
   "cell_type": "code",
   "execution_count": 65,
   "id": "27603cb1",
   "metadata": {},
   "outputs": [],
   "source": [
    "# Selecting Location as Noida\n",
    "noida = driver.find_element(By.XPATH,'/html/body/div/div/div/div[2]/div[1]/div[2]/div[1]/div/div/div/div[2]/div[2]/div/div[3]/div[1]/div[8]/div/input').click()"
   ]
  },
  {
   "cell_type": "code",
   "execution_count": 66,
   "id": "c1ecea5d",
   "metadata": {},
   "outputs": [],
   "source": [
    "com_name=[]\n",
    "\n",
    "titles = driver.find_elements(By.XPATH,\"//p[@class='company body-medium']\")\n",
    "for i in titles[0:10]:\n",
    "    com_name.append(i.text)"
   ]
  },
  {
   "cell_type": "code",
   "execution_count": 67,
   "id": "940ec7c6",
   "metadata": {},
   "outputs": [
    {
     "data": {
      "text/plain": [
       "['Optum Global Solutions (India) Private Limited',\n",
       " 'EY GDS',\n",
       " 'CBRE South Asia Pvt Ltd',\n",
       " 'GENPACT India Private Limited',\n",
       " 'Genpact',\n",
       " 'Ericsson India Global Services Pvt. Ltd.',\n",
       " 'GENPACT India Private Limited',\n",
       " 'Dew Solutions Pvt. Ltd.',\n",
       " 'One97 Communications Limited',\n",
       " 'EY']"
      ]
     },
     "execution_count": 67,
     "metadata": {},
     "output_type": "execute_result"
    }
   ],
   "source": [
    "com_name"
   ]
  },
  {
   "cell_type": "code",
   "execution_count": 68,
   "id": "cb4e2e4c",
   "metadata": {},
   "outputs": [],
   "source": [
    "day_ago = []\n",
    "loc_tags = driver.find_elements(By.XPATH,\"//span[@class='body-small-l']\")\n",
    "for i in loc_tags[0:21]:\n",
    "    job = i.text\n",
    "    day_ago.append(job)"
   ]
  },
  {
   "cell_type": "code",
   "execution_count": 69,
   "id": "909ea34a",
   "metadata": {},
   "outputs": [
    {
     "data": {
      "text/plain": [
       "['21hr ago',\n",
       " 'via naukri.com',\n",
       " '20hr ago',\n",
       " 'via iimjobs.com',\n",
       " '28d ago',\n",
       " 'via naukri.com',\n",
       " '21d ago',\n",
       " 'via naukri.com',\n",
       " '23d ago',\n",
       " 'via iimjobs.com',\n",
       " '1mon ago',\n",
       " 'via naukri.com',\n",
       " '31d ago',\n",
       " 'via naukri.com',\n",
       " '6d ago',\n",
       " 'via hirist.com',\n",
       " '14d ago',\n",
       " 'via naukri.com',\n",
       " '1mon ago',\n",
       " 'via hirist.com']"
      ]
     },
     "execution_count": 69,
     "metadata": {},
     "output_type": "execute_result"
    }
   ],
   "source": [
    "day_ago"
   ]
  },
  {
   "cell_type": "code",
   "execution_count": 70,
   "id": "28c7896b",
   "metadata": {},
   "outputs": [],
   "source": [
    "a = day_ago[0::2]"
   ]
  },
  {
   "cell_type": "code",
   "execution_count": null,
   "id": "bdeb6535",
   "metadata": {},
   "outputs": [],
   "source": []
  },
  {
   "cell_type": "code",
   "execution_count": 71,
   "id": "21369179",
   "metadata": {},
   "outputs": [],
   "source": [
    "rating = []\n",
    "loc_tags = driver.find_elements(By.XPATH,\"//span[@class='body-small']\")\n",
    "for i in loc_tags[0:10]:\n",
    "    job = i.text\n",
    "    rating.append(job)"
   ]
  },
  {
   "cell_type": "code",
   "execution_count": 72,
   "id": "4ab0f257",
   "metadata": {},
   "outputs": [
    {
     "data": {
      "text/plain": [
       "['4.1', '3.8', '4.3', '4.0', '4.0', '4.3', '4.0', '4.3', '3.8', '3.8']"
      ]
     },
     "execution_count": 72,
     "metadata": {},
     "output_type": "execute_result"
    }
   ],
   "source": [
    "rating"
   ]
  },
  {
   "cell_type": "code",
   "execution_count": 73,
   "id": "f6deb338",
   "metadata": {},
   "outputs": [
    {
     "data": {
      "text/html": [
       "<div>\n",
       "<style scoped>\n",
       "    .dataframe tbody tr th:only-of-type {\n",
       "        vertical-align: middle;\n",
       "    }\n",
       "\n",
       "    .dataframe tbody tr th {\n",
       "        vertical-align: top;\n",
       "    }\n",
       "\n",
       "    .dataframe thead th {\n",
       "        text-align: right;\n",
       "    }\n",
       "</style>\n",
       "<table border=\"1\" class=\"dataframe\">\n",
       "  <thead>\n",
       "    <tr style=\"text-align: right;\">\n",
       "      <th></th>\n",
       "      <th>Company Name</th>\n",
       "      <th>No. Day Ago</th>\n",
       "      <th>Rating</th>\n",
       "    </tr>\n",
       "  </thead>\n",
       "  <tbody>\n",
       "    <tr>\n",
       "      <th>0</th>\n",
       "      <td>Optum Global Solutions (India) Private Limited</td>\n",
       "      <td>21hr ago</td>\n",
       "      <td>4.1</td>\n",
       "    </tr>\n",
       "    <tr>\n",
       "      <th>1</th>\n",
       "      <td>EY GDS</td>\n",
       "      <td>20hr ago</td>\n",
       "      <td>3.8</td>\n",
       "    </tr>\n",
       "    <tr>\n",
       "      <th>2</th>\n",
       "      <td>CBRE South Asia Pvt Ltd</td>\n",
       "      <td>28d ago</td>\n",
       "      <td>4.3</td>\n",
       "    </tr>\n",
       "    <tr>\n",
       "      <th>3</th>\n",
       "      <td>GENPACT India Private Limited</td>\n",
       "      <td>21d ago</td>\n",
       "      <td>4.0</td>\n",
       "    </tr>\n",
       "    <tr>\n",
       "      <th>4</th>\n",
       "      <td>Genpact</td>\n",
       "      <td>23d ago</td>\n",
       "      <td>4.0</td>\n",
       "    </tr>\n",
       "    <tr>\n",
       "      <th>5</th>\n",
       "      <td>Ericsson India Global Services Pvt. Ltd.</td>\n",
       "      <td>1mon ago</td>\n",
       "      <td>4.3</td>\n",
       "    </tr>\n",
       "    <tr>\n",
       "      <th>6</th>\n",
       "      <td>GENPACT India Private Limited</td>\n",
       "      <td>31d ago</td>\n",
       "      <td>4.0</td>\n",
       "    </tr>\n",
       "    <tr>\n",
       "      <th>7</th>\n",
       "      <td>Dew Solutions Pvt. Ltd.</td>\n",
       "      <td>6d ago</td>\n",
       "      <td>4.3</td>\n",
       "    </tr>\n",
       "    <tr>\n",
       "      <th>8</th>\n",
       "      <td>One97 Communications Limited</td>\n",
       "      <td>14d ago</td>\n",
       "      <td>3.8</td>\n",
       "    </tr>\n",
       "    <tr>\n",
       "      <th>9</th>\n",
       "      <td>EY</td>\n",
       "      <td>1mon ago</td>\n",
       "      <td>3.8</td>\n",
       "    </tr>\n",
       "  </tbody>\n",
       "</table>\n",
       "</div>"
      ],
      "text/plain": [
       "                                     Company Name No. Day Ago Rating\n",
       "0  Optum Global Solutions (India) Private Limited    21hr ago    4.1\n",
       "1                                          EY GDS    20hr ago    3.8\n",
       "2                         CBRE South Asia Pvt Ltd     28d ago    4.3\n",
       "3                   GENPACT India Private Limited     21d ago    4.0\n",
       "4                                         Genpact     23d ago    4.0\n",
       "5        Ericsson India Global Services Pvt. Ltd.    1mon ago    4.3\n",
       "6                   GENPACT India Private Limited     31d ago    4.0\n",
       "7                         Dew Solutions Pvt. Ltd.      6d ago    4.3\n",
       "8                    One97 Communications Limited     14d ago    3.8\n",
       "9                                              EY    1mon ago    3.8"
      ]
     },
     "execution_count": 73,
     "metadata": {},
     "output_type": "execute_result"
    }
   ],
   "source": [
    "df = pd.DataFrame({'Company Name':com_name, 'No. Day Ago':a, 'Rating':rating,})\n",
    "df"
   ]
  },
  {
   "cell_type": "code",
   "execution_count": null,
   "id": "70301e38",
   "metadata": {},
   "outputs": [],
   "source": []
  },
  {
   "cell_type": "markdown",
   "id": "41beccfe",
   "metadata": {},
   "source": [
    "## Q10: Write a python program to scrape the salary data for Data Scientist designation. You have to scrape Company name, Number of salaries, Average salary, Min salary, Max Salary. "
   ]
  },
  {
   "cell_type": "code",
   "execution_count": 99,
   "id": "241c700f",
   "metadata": {},
   "outputs": [],
   "source": [
    "driver = webdriver.Chrome(r\"G:\\chromedriver_win32\\chromedriver.exe\")"
   ]
  },
  {
   "cell_type": "code",
   "execution_count": 100,
   "id": "8d85b7c0",
   "metadata": {},
   "outputs": [],
   "source": [
    "url = \"https://www.ambitionbox.com/\""
   ]
  },
  {
   "cell_type": "code",
   "execution_count": 101,
   "id": "c05d3c6e",
   "metadata": {},
   "outputs": [],
   "source": [
    "# Opening the page on automated chrome browser\n",
    "driver.get(url)"
   ]
  },
  {
   "cell_type": "code",
   "execution_count": 102,
   "id": "bfd93573",
   "metadata": {},
   "outputs": [],
   "source": [
    "s = driver.find_elements(By.XPATH,'//a[@class=\"subNavListItem\"]')"
   ]
  },
  {
   "cell_type": "code",
   "execution_count": 103,
   "id": "5b4c8aa0",
   "metadata": {},
   "outputs": [
    {
     "name": "stdout",
     "output_type": "stream",
     "text": [
      "https://www.ambitionbox.com/list-of-companies?campaign=desktop_nav\n",
      "https://www.ambitionbox.com/compare?campaign=desktop_nav\n",
      "https://www.ambitionbox.com/reviews?campaign=desktop_nav\n",
      "https://www.ambitionbox.com/contribute/company-review?campaign=desktop_nav\n",
      "https://www.ambitionbox.com/salaries?campaign=desktop_nav\n",
      "https://www.ambitionbox.com/salaries/take-home-salary-calculator?campaign=desktop_nav\n",
      "https://www.ambitionbox.com/contribute/salary-v2?campaign=desktop_nav\n",
      "https://www.ambitionbox.com/interviews?campaign=desktop_nav\n",
      "https://www.ambitionbox.com/colleges?campaign=desktop_nav\n",
      "https://www.ambitionbox.com/contribute/interview-story?campaign=desktop_nav\n"
     ]
    }
   ],
   "source": [
    "for i in s:\n",
    "    print(i.get_attribute('href'))"
   ]
  },
  {
   "cell_type": "code",
   "execution_count": 104,
   "id": "02bc1a53",
   "metadata": {},
   "outputs": [],
   "source": [
    "driver.get('https://www.ambitionbox.com/salaries?campaign=desktop_nav')"
   ]
  },
  {
   "cell_type": "code",
   "execution_count": 105,
   "id": "76f0f2d1",
   "metadata": {},
   "outputs": [],
   "source": [
    "ser = driver.find_element(By.XPATH,\"/html/body/div/div/div/main/section[1]/div[2]/div[1]/i[1]\").click()"
   ]
  },
  {
   "cell_type": "code",
   "execution_count": 106,
   "id": "6432f047",
   "metadata": {},
   "outputs": [],
   "source": [
    "# Clicking Search button\n",
    "se = driver.find_element(By.XPATH,\"//i[@class='icon-search']\").click()"
   ]
  },
  {
   "cell_type": "code",
   "execution_count": 107,
   "id": "0da2dcae",
   "metadata": {},
   "outputs": [],
   "source": [
    "# Searchin data scientist job\n",
    "designation = driver.find_element(By.XPATH,\"//input[@class='tt-input']\")\n",
    "designation.send_keys(\"Data Scientist\")"
   ]
  },
  {
   "cell_type": "code",
   "execution_count": 108,
   "id": "6cb1c6c8",
   "metadata": {},
   "outputs": [],
   "source": [
    "ser = driver.find_element(By.XPATH,\"/html/body/div/div/div/main/section[1]/div[2]/div[1]/i[1]\").click()"
   ]
  },
  {
   "cell_type": "raw",
   "id": "a1a12b69",
   "metadata": {},
   "source": [
    "#click on select button\n",
    "select = driver.find_element(By.XPATH,'//div[@class=\"suggestion_wrap tt-suggestion tt-selectable\"]').click()"
   ]
  },
  {
   "cell_type": "code",
   "execution_count": 111,
   "id": "dd00b41e",
   "metadata": {},
   "outputs": [],
   "source": [
    "com_name=[]\n",
    "\n",
    "titles = driver.find_elements(By.XPATH,\"//div[@class='company-info']\")\n",
    "for i in titles[0:10]:\n",
    "    com_name.append(i.text)"
   ]
  },
  {
   "cell_type": "code",
   "execution_count": 112,
   "id": "1ebfb48d",
   "metadata": {},
   "outputs": [
    {
     "data": {
      "text/plain": [
       "['Walmart\\nData Scientist Salary\\n3-4 yrs experience (based on 22 salaries)',\n",
       " 'Ab Inbev\\nData Scientist Salary\\n2-4 yrs experience (based on 54 salaries)',\n",
       " 'Optum\\nData Scientist Salary\\n2-4 yrs experience (based on 49 salaries)',\n",
       " 'ZS\\nData Scientist Salary\\n1-2 yrs experience (based on 34 salaries)',\n",
       " 'Fractal Analytics\\nData Scientist Salary\\n2-4 yrs experience (based on 116 salaries)',\n",
       " 'Tiger Analytics\\nData Scientist Salary\\n2-4 yrs experience (based on 67 salaries)',\n",
       " 'Sigmoid Analytics\\nData Scientist Salary\\n1 yr experience (based on 10 salaries)',\n",
       " 'Legato Health Technologies\\nData Scientist Salary\\n4 yrs experience (based on 11 salaries)',\n",
       " 'Tredence\\nData Scientist Salary\\n3 yrs experience (based on 13 salaries)',\n",
       " 'HSBC\\nData Scientist Salary\\n4 yrs experience (based on 10 salaries)']"
      ]
     },
     "execution_count": 112,
     "metadata": {},
     "output_type": "execute_result"
    }
   ],
   "source": [
    "com_name"
   ]
  },
  {
   "cell_type": "code",
   "execution_count": 116,
   "id": "d6469f03",
   "metadata": {},
   "outputs": [],
   "source": [
    "total_re = []\n",
    "titles = driver.find_elements(By.XPATH,\"//span[@class='datapoints']\")\n",
    "for i in titles[0:10]:\n",
    "    total_re.append(i.text)"
   ]
  },
  {
   "cell_type": "code",
   "execution_count": 117,
   "id": "26167c8e",
   "metadata": {},
   "outputs": [
    {
     "data": {
      "text/plain": [
       "['(based on 22 salaries)',\n",
       " '(based on 54 salaries)',\n",
       " '(based on 49 salaries)',\n",
       " '(based on 34 salaries)',\n",
       " '(based on 116 salaries)',\n",
       " '(based on 67 salaries)',\n",
       " '(based on 10 salaries)',\n",
       " '(based on 11 salaries)',\n",
       " '(based on 13 salaries)',\n",
       " '(based on 10 salaries)']"
      ]
     },
     "execution_count": 117,
     "metadata": {},
     "output_type": "execute_result"
    }
   ],
   "source": [
    "total_re"
   ]
  },
  {
   "cell_type": "code",
   "execution_count": 118,
   "id": "dcf57710",
   "metadata": {},
   "outputs": [],
   "source": [
    "avg_sal = []\n",
    "titles = driver.find_elements(By.XPATH,\"//p[@class='averageCtc']\")\n",
    "for i in titles[0:10]:\n",
    "    avg_sal.append(i.text)"
   ]
  },
  {
   "cell_type": "code",
   "execution_count": 119,
   "id": "0cd77437",
   "metadata": {},
   "outputs": [],
   "source": [
    "min_sal = []\n",
    "titles = driver.find_elements(By.XPATH,\"//div[@class='value body-medium']\")\n",
    "for i in titles[0:21]:\n",
    "    min_sal.append(i.text)"
   ]
  },
  {
   "cell_type": "code",
   "execution_count": 120,
   "id": "6b144807",
   "metadata": {},
   "outputs": [],
   "source": [
    "mi_sal = min_sal[0::2] "
   ]
  },
  {
   "cell_type": "code",
   "execution_count": 121,
   "id": "41b926a0",
   "metadata": {},
   "outputs": [
    {
     "data": {
      "text/plain": [
       "['₹ 25.0L',\n",
       " '₹ 15.0L',\n",
       " '₹ 11.0L',\n",
       " '₹ 11.0L',\n",
       " '₹ 9.0L',\n",
       " '₹ 9.0L',\n",
       " '₹ 12.7L',\n",
       " '₹ 11.0L',\n",
       " '₹ 8.8L',\n",
       " '₹ 12.0L']"
      ]
     },
     "execution_count": 121,
     "metadata": {},
     "output_type": "execute_result"
    }
   ],
   "source": [
    "mi_sal"
   ]
  },
  {
   "cell_type": "code",
   "execution_count": 122,
   "id": "9b72a956",
   "metadata": {},
   "outputs": [],
   "source": [
    "max_sal = min_sal[1::2]"
   ]
  },
  {
   "cell_type": "code",
   "execution_count": 123,
   "id": "dd62c96a",
   "metadata": {},
   "outputs": [
    {
     "data": {
      "text/plain": [
       "['₹ 45.0L',\n",
       " '₹ 26.0L',\n",
       " '₹ 22.6L',\n",
       " '₹ 22.0L',\n",
       " '₹ 24.0L',\n",
       " '₹ 20.0L',\n",
       " '₹ 19.7L',\n",
       " '₹ 20.0L',\n",
       " '₹ 17.5L',\n",
       " '₹ 18.0L']"
      ]
     },
     "execution_count": 123,
     "metadata": {},
     "output_type": "execute_result"
    }
   ],
   "source": [
    "max_sal"
   ]
  },
  {
   "cell_type": "code",
   "execution_count": 124,
   "id": "87cda73c",
   "metadata": {},
   "outputs": [],
   "source": [
    "exp = []\n",
    "titles = driver.find_elements(By.XPATH,\"//div[@class='sbold-list-header']\")\n",
    "for i in titles[0:10]:\n",
    "    exp.append(i.text)"
   ]
  },
  {
   "cell_type": "code",
   "execution_count": null,
   "id": "c9624c27",
   "metadata": {},
   "outputs": [],
   "source": []
  },
  {
   "cell_type": "code",
   "execution_count": 125,
   "id": "03cee15a",
   "metadata": {},
   "outputs": [
    {
     "data": {
      "text/html": [
       "<div>\n",
       "<style scoped>\n",
       "    .dataframe tbody tr th:only-of-type {\n",
       "        vertical-align: middle;\n",
       "    }\n",
       "\n",
       "    .dataframe tbody tr th {\n",
       "        vertical-align: top;\n",
       "    }\n",
       "\n",
       "    .dataframe thead th {\n",
       "        text-align: right;\n",
       "    }\n",
       "</style>\n",
       "<table border=\"1\" class=\"dataframe\">\n",
       "  <thead>\n",
       "    <tr style=\"text-align: right;\">\n",
       "      <th></th>\n",
       "      <th>Company Name</th>\n",
       "      <th>Total Salary Record</th>\n",
       "      <th>Average Salary</th>\n",
       "      <th>Minimum Salary</th>\n",
       "      <th>Maximum Salary</th>\n",
       "      <th>Experience Required</th>\n",
       "    </tr>\n",
       "  </thead>\n",
       "  <tbody>\n",
       "    <tr>\n",
       "      <th>0</th>\n",
       "      <td>Walmart\\nData Scientist Salary\\n3-4 yrs experi...</td>\n",
       "      <td>(based on 22 salaries)</td>\n",
       "      <td>₹ 32.2L</td>\n",
       "      <td>₹ 25.0L</td>\n",
       "      <td>₹ 45.0L</td>\n",
       "      <td>3-4 yrs experience (based on 22 salaries)</td>\n",
       "    </tr>\n",
       "    <tr>\n",
       "      <th>1</th>\n",
       "      <td>Ab Inbev\\nData Scientist Salary\\n2-4 yrs exper...</td>\n",
       "      <td>(based on 54 salaries)</td>\n",
       "      <td>₹ 19.8L</td>\n",
       "      <td>₹ 15.0L</td>\n",
       "      <td>₹ 26.0L</td>\n",
       "      <td>2-4 yrs experience (based on 54 salaries)</td>\n",
       "    </tr>\n",
       "    <tr>\n",
       "      <th>2</th>\n",
       "      <td>Optum\\nData Scientist Salary\\n2-4 yrs experien...</td>\n",
       "      <td>(based on 49 salaries)</td>\n",
       "      <td>₹ 16.4L</td>\n",
       "      <td>₹ 11.0L</td>\n",
       "      <td>₹ 22.6L</td>\n",
       "      <td>2-4 yrs experience (based on 49 salaries)</td>\n",
       "    </tr>\n",
       "    <tr>\n",
       "      <th>3</th>\n",
       "      <td>ZS\\nData Scientist Salary\\n1-2 yrs experience ...</td>\n",
       "      <td>(based on 34 salaries)</td>\n",
       "      <td>₹ 15.8L</td>\n",
       "      <td>₹ 11.0L</td>\n",
       "      <td>₹ 22.0L</td>\n",
       "      <td>1-2 yrs experience (based on 34 salaries)</td>\n",
       "    </tr>\n",
       "    <tr>\n",
       "      <th>4</th>\n",
       "      <td>Fractal Analytics\\nData Scientist Salary\\n2-4 ...</td>\n",
       "      <td>(based on 116 salaries)</td>\n",
       "      <td>₹ 15.5L</td>\n",
       "      <td>₹ 9.0L</td>\n",
       "      <td>₹ 24.0L</td>\n",
       "      <td>2-4 yrs experience (based on 116 salaries)</td>\n",
       "    </tr>\n",
       "    <tr>\n",
       "      <th>5</th>\n",
       "      <td>Tiger Analytics\\nData Scientist Salary\\n2-4 yr...</td>\n",
       "      <td>(based on 67 salaries)</td>\n",
       "      <td>₹ 14.7L</td>\n",
       "      <td>₹ 9.0L</td>\n",
       "      <td>₹ 20.0L</td>\n",
       "      <td>2-4 yrs experience (based on 67 salaries)</td>\n",
       "    </tr>\n",
       "    <tr>\n",
       "      <th>6</th>\n",
       "      <td>Sigmoid Analytics\\nData Scientist Salary\\n1 yr...</td>\n",
       "      <td>(based on 10 salaries)</td>\n",
       "      <td>₹ 14.7L</td>\n",
       "      <td>₹ 12.7L</td>\n",
       "      <td>₹ 19.7L</td>\n",
       "      <td>1 yr experience (based on 10 salaries)</td>\n",
       "    </tr>\n",
       "    <tr>\n",
       "      <th>7</th>\n",
       "      <td>Legato Health Technologies\\nData Scientist Sal...</td>\n",
       "      <td>(based on 11 salaries)</td>\n",
       "      <td>₹ 14.5L</td>\n",
       "      <td>₹ 11.0L</td>\n",
       "      <td>₹ 20.0L</td>\n",
       "      <td>4 yrs experience (based on 11 salaries)</td>\n",
       "    </tr>\n",
       "    <tr>\n",
       "      <th>8</th>\n",
       "      <td>Tredence\\nData Scientist Salary\\n3 yrs experie...</td>\n",
       "      <td>(based on 13 salaries)</td>\n",
       "      <td>₹ 14.1L</td>\n",
       "      <td>₹ 8.8L</td>\n",
       "      <td>₹ 17.5L</td>\n",
       "      <td>3 yrs experience (based on 13 salaries)</td>\n",
       "    </tr>\n",
       "    <tr>\n",
       "      <th>9</th>\n",
       "      <td>HSBC\\nData Scientist Salary\\n4 yrs experience ...</td>\n",
       "      <td>(based on 10 salaries)</td>\n",
       "      <td>₹ 14.0L</td>\n",
       "      <td>₹ 12.0L</td>\n",
       "      <td>₹ 18.0L</td>\n",
       "      <td>4 yrs experience (based on 10 salaries)</td>\n",
       "    </tr>\n",
       "  </tbody>\n",
       "</table>\n",
       "</div>"
      ],
      "text/plain": [
       "                                        Company Name      Total Salary Record  \\\n",
       "0  Walmart\\nData Scientist Salary\\n3-4 yrs experi...   (based on 22 salaries)   \n",
       "1  Ab Inbev\\nData Scientist Salary\\n2-4 yrs exper...   (based on 54 salaries)   \n",
       "2  Optum\\nData Scientist Salary\\n2-4 yrs experien...   (based on 49 salaries)   \n",
       "3  ZS\\nData Scientist Salary\\n1-2 yrs experience ...   (based on 34 salaries)   \n",
       "4  Fractal Analytics\\nData Scientist Salary\\n2-4 ...  (based on 116 salaries)   \n",
       "5  Tiger Analytics\\nData Scientist Salary\\n2-4 yr...   (based on 67 salaries)   \n",
       "6  Sigmoid Analytics\\nData Scientist Salary\\n1 yr...   (based on 10 salaries)   \n",
       "7  Legato Health Technologies\\nData Scientist Sal...   (based on 11 salaries)   \n",
       "8  Tredence\\nData Scientist Salary\\n3 yrs experie...   (based on 13 salaries)   \n",
       "9  HSBC\\nData Scientist Salary\\n4 yrs experience ...   (based on 10 salaries)   \n",
       "\n",
       "  Average Salary Minimum Salary Maximum Salary  \\\n",
       "0        ₹ 32.2L        ₹ 25.0L        ₹ 45.0L   \n",
       "1        ₹ 19.8L        ₹ 15.0L        ₹ 26.0L   \n",
       "2        ₹ 16.4L        ₹ 11.0L        ₹ 22.6L   \n",
       "3        ₹ 15.8L        ₹ 11.0L        ₹ 22.0L   \n",
       "4        ₹ 15.5L         ₹ 9.0L        ₹ 24.0L   \n",
       "5        ₹ 14.7L         ₹ 9.0L        ₹ 20.0L   \n",
       "6        ₹ 14.7L        ₹ 12.7L        ₹ 19.7L   \n",
       "7        ₹ 14.5L        ₹ 11.0L        ₹ 20.0L   \n",
       "8        ₹ 14.1L         ₹ 8.8L        ₹ 17.5L   \n",
       "9        ₹ 14.0L        ₹ 12.0L        ₹ 18.0L   \n",
       "\n",
       "                          Experience Required  \n",
       "0   3-4 yrs experience (based on 22 salaries)  \n",
       "1   2-4 yrs experience (based on 54 salaries)  \n",
       "2   2-4 yrs experience (based on 49 salaries)  \n",
       "3   1-2 yrs experience (based on 34 salaries)  \n",
       "4  2-4 yrs experience (based on 116 salaries)  \n",
       "5   2-4 yrs experience (based on 67 salaries)  \n",
       "6      1 yr experience (based on 10 salaries)  \n",
       "7     4 yrs experience (based on 11 salaries)  \n",
       "8     3 yrs experience (based on 13 salaries)  \n",
       "9     4 yrs experience (based on 10 salaries)  "
      ]
     },
     "execution_count": 125,
     "metadata": {},
     "output_type": "execute_result"
    }
   ],
   "source": [
    "df = pd.DataFrame({'Company Name':com_name, 'Total Salary Record':total_re, 'Average Salary':avg_sal,'Minimum Salary':mi_sal,'Maximum Salary':max_sal,'Experience Required':exp})\n",
    "df"
   ]
  },
  {
   "cell_type": "code",
   "execution_count": null,
   "id": "38b23ff2",
   "metadata": {},
   "outputs": [],
   "source": []
  },
  {
   "cell_type": "code",
   "execution_count": null,
   "id": "b46cec2c",
   "metadata": {},
   "outputs": [],
   "source": []
  }
 ],
 "metadata": {
  "kernelspec": {
   "display_name": "Python 3 (ipykernel)",
   "language": "python",
   "name": "python3"
  },
  "language_info": {
   "codemirror_mode": {
    "name": "ipython",
    "version": 3
   },
   "file_extension": ".py",
   "mimetype": "text/x-python",
   "name": "python",
   "nbconvert_exporter": "python",
   "pygments_lexer": "ipython3",
   "version": "3.11.0"
  }
 },
 "nbformat": 4,
 "nbformat_minor": 5
}
