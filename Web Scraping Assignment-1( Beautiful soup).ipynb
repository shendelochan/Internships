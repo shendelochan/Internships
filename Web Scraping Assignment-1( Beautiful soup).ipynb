{
 "cells": [
  {
   "cell_type": "markdown",
   "id": "aa7a34a2",
   "metadata": {},
   "source": [
    "# Beautiful soup"
   ]
  },
  {
   "cell_type": "code",
   "execution_count": null,
   "id": "8034aee6",
   "metadata": {},
   "outputs": [],
   "source": [
    "import requests\n",
    "from bs4 import BeautifulSoup\n",
    "import pandas as pd\n",
    "import re"
   ]
  },
  {
   "cell_type": "markdown",
   "id": "79fe134b",
   "metadata": {},
   "source": [
    "## 1) Write a python program to display all the header tags from wikipedia.org."
   ]
  },
  {
   "cell_type": "code",
   "execution_count": null,
   "id": "2dc2912f",
   "metadata": {},
   "outputs": [],
   "source": [
    "# Scraping wikipedia page\n",
    "url = 'https://en.wikipedia.org/wiki/Main_Page'"
   ]
  },
  {
   "cell_type": "code",
   "execution_count": 3,
   "id": "678d2280",
   "metadata": {},
   "outputs": [],
   "source": [
    "request = requests.get(url)"
   ]
  },
  {
   "cell_type": "code",
   "execution_count": 4,
   "id": "3612849d",
   "metadata": {},
   "outputs": [
    {
     "data": {
      "text/plain": [
       "<Response [200]>"
      ]
     },
     "execution_count": 4,
     "metadata": {},
     "output_type": "execute_result"
    }
   ],
   "source": [
    "request"
   ]
  },
  {
   "cell_type": "code",
   "execution_count": 5,
   "id": "6c601423",
   "metadata": {},
   "outputs": [],
   "source": [
    "Soup = BeautifulSoup(request.content)"
   ]
  },
  {
   "cell_type": "code",
   "execution_count": null,
   "id": "3cf74042",
   "metadata": {},
   "outputs": [],
   "source": []
  },
  {
   "cell_type": "code",
   "execution_count": 6,
   "id": "9a611785",
   "metadata": {},
   "outputs": [
    {
     "name": "stdout",
     "output_type": "stream",
     "text": [
      "Main Page\n",
      "Welcome to Wikipedia\n",
      "From today's featured article\n",
      "Did you know ...\n",
      "In the news\n",
      "On this day\n",
      "Today's featured picture\n",
      "Other areas of Wikipedia\n",
      "Wikipedia's sister projects\n",
      "Wikipedia languages\n",
      "Navigation menu\n",
      "\n",
      "Personal tools\n",
      "\n",
      "\n",
      "Namespaces\n",
      "\n",
      "\n",
      "Views\n",
      "\n",
      "\n",
      "Search\n",
      "\n",
      "\n",
      "Navigation\n",
      "\n",
      "\n",
      "Contribute\n",
      "\n",
      "\n",
      "Tools\n",
      "\n",
      "\n",
      "Print/export\n",
      "\n",
      "\n",
      "In other projects\n",
      "\n",
      "\n",
      "Languages\n",
      "\n"
     ]
    }
   ],
   "source": [
    "# creating a list of all common heading tags\n",
    "heading_tags = [\"h1\", \"h2\", \"h3\",\"h4\",\"h5\",'h6']\n",
    "for i in Soup.find_all(heading_tags):\n",
    "    print(i.text)\n",
    "    "
   ]
  },
  {
   "cell_type": "code",
   "execution_count": null,
   "id": "a9935ce1",
   "metadata": {},
   "outputs": [],
   "source": []
  },
  {
   "cell_type": "markdown",
   "id": "d24666ca",
   "metadata": {},
   "source": [
    "## 2) Write a python program to display IMDB’s Top rated 100 movies’ data (i.e. name, rating, year of release)and make data frame."
   ]
  },
  {
   "cell_type": "code",
   "execution_count": 7,
   "id": "b1deaa6b",
   "metadata": {},
   "outputs": [
    {
     "data": {
      "text/plain": [
       "<Response [200]>"
      ]
     },
     "execution_count": 7,
     "metadata": {},
     "output_type": "execute_result"
    }
   ],
   "source": [
    "imdb = requests.get(\"https://www.imdb.com/chart/top/\")\n",
    "imdb"
   ]
  },
  {
   "cell_type": "code",
   "execution_count": 8,
   "id": "df34ab9b",
   "metadata": {},
   "outputs": [],
   "source": [
    "soup = BeautifulSoup(imdb.content,'html.parser')"
   ]
  },
  {
   "cell_type": "code",
   "execution_count": 9,
   "id": "df416e34",
   "metadata": {},
   "outputs": [],
   "source": [
    "all_movies = soup.find_all('tr')"
   ]
  },
  {
   "cell_type": "code",
   "execution_count": 10,
   "id": "b723f251",
   "metadata": {},
   "outputs": [],
   "source": [
    "movie_list = []\n",
    "\n",
    "for i, val in enumerate(all_movies):\n",
    "    if i ==0:\n",
    "        continue\n",
    "    if i ==101:\n",
    "        break\n",
    "        \n",
    "    tit_col = val.find('td',{'class':'titleColumn'})\n",
    "    \n",
    "    name = tit_col.find('a').text\n",
    "    \n",
    "    year = tit_col.find('span').text.replace('(',\"\").replace(')',\"\")\n",
    "    \n",
    "    rating = val.find('td',{'class':'ratingColumn'}).find('strong').text\n",
    "    \n",
    "    movie_list.append({'Name':name,'Rating':rating,'Year Of Release':year})\n",
    "    "
   ]
  },
  {
   "cell_type": "code",
   "execution_count": 11,
   "id": "793c5860",
   "metadata": {},
   "outputs": [
    {
     "data": {
      "text/html": [
       "<div>\n",
       "<style scoped>\n",
       "    .dataframe tbody tr th:only-of-type {\n",
       "        vertical-align: middle;\n",
       "    }\n",
       "\n",
       "    .dataframe tbody tr th {\n",
       "        vertical-align: top;\n",
       "    }\n",
       "\n",
       "    .dataframe thead th {\n",
       "        text-align: right;\n",
       "    }\n",
       "</style>\n",
       "<table border=\"1\" class=\"dataframe\">\n",
       "  <thead>\n",
       "    <tr style=\"text-align: right;\">\n",
       "      <th></th>\n",
       "      <th>Name</th>\n",
       "      <th>Rating</th>\n",
       "      <th>Year Of Release</th>\n",
       "    </tr>\n",
       "  </thead>\n",
       "  <tbody>\n",
       "    <tr>\n",
       "      <th>0</th>\n",
       "      <td>The Shawshank Redemption</td>\n",
       "      <td>9.2</td>\n",
       "      <td>1994</td>\n",
       "    </tr>\n",
       "    <tr>\n",
       "      <th>1</th>\n",
       "      <td>The Godfather</td>\n",
       "      <td>9.2</td>\n",
       "      <td>1972</td>\n",
       "    </tr>\n",
       "    <tr>\n",
       "      <th>2</th>\n",
       "      <td>The Dark Knight</td>\n",
       "      <td>9.0</td>\n",
       "      <td>2008</td>\n",
       "    </tr>\n",
       "    <tr>\n",
       "      <th>3</th>\n",
       "      <td>The Godfather Part II</td>\n",
       "      <td>9.0</td>\n",
       "      <td>1974</td>\n",
       "    </tr>\n",
       "    <tr>\n",
       "      <th>4</th>\n",
       "      <td>12 Angry Men</td>\n",
       "      <td>8.9</td>\n",
       "      <td>1957</td>\n",
       "    </tr>\n",
       "    <tr>\n",
       "      <th>...</th>\n",
       "      <td>...</td>\n",
       "      <td>...</td>\n",
       "      <td>...</td>\n",
       "    </tr>\n",
       "    <tr>\n",
       "      <th>95</th>\n",
       "      <td>Jagten</td>\n",
       "      <td>8.3</td>\n",
       "      <td>2012</td>\n",
       "    </tr>\n",
       "    <tr>\n",
       "      <th>96</th>\n",
       "      <td>M - Eine Stadt sucht einen Mörder</td>\n",
       "      <td>8.3</td>\n",
       "      <td>1931</td>\n",
       "    </tr>\n",
       "    <tr>\n",
       "      <th>97</th>\n",
       "      <td>North by Northwest</td>\n",
       "      <td>8.3</td>\n",
       "      <td>1959</td>\n",
       "    </tr>\n",
       "    <tr>\n",
       "      <th>98</th>\n",
       "      <td>Idi i smotri</td>\n",
       "      <td>8.2</td>\n",
       "      <td>1985</td>\n",
       "    </tr>\n",
       "    <tr>\n",
       "      <th>99</th>\n",
       "      <td>Vertigo</td>\n",
       "      <td>8.2</td>\n",
       "      <td>1958</td>\n",
       "    </tr>\n",
       "  </tbody>\n",
       "</table>\n",
       "<p>100 rows × 3 columns</p>\n",
       "</div>"
      ],
      "text/plain": [
       "                                 Name Rating Year Of Release\n",
       "0            The Shawshank Redemption    9.2            1994\n",
       "1                       The Godfather    9.2            1972\n",
       "2                     The Dark Knight    9.0            2008\n",
       "3               The Godfather Part II    9.0            1974\n",
       "4                        12 Angry Men    8.9            1957\n",
       "..                                ...    ...             ...\n",
       "95                             Jagten    8.3            2012\n",
       "96  M - Eine Stadt sucht einen Mörder    8.3            1931\n",
       "97                 North by Northwest    8.3            1959\n",
       "98                       Idi i smotri    8.2            1985\n",
       "99                            Vertigo    8.2            1958\n",
       "\n",
       "[100 rows x 3 columns]"
      ]
     },
     "execution_count": 11,
     "metadata": {},
     "output_type": "execute_result"
    }
   ],
   "source": [
    "df = pd.DataFrame(movie_list)\n",
    "df"
   ]
  },
  {
   "cell_type": "code",
   "execution_count": null,
   "id": "f4d4aa3f",
   "metadata": {},
   "outputs": [],
   "source": []
  },
  {
   "cell_type": "markdown",
   "id": "d0a5d618",
   "metadata": {},
   "source": [
    "## 3) Write a python program to display IMDB’s Top rated 100 Indian movies’ data (i.e. name, rating, year of release) and make data frame."
   ]
  },
  {
   "cell_type": "code",
   "execution_count": 12,
   "id": "d398aec9",
   "metadata": {},
   "outputs": [],
   "source": [
    "url = \"https://www.imdb.com/india/top-rated-indian-movies/\""
   ]
  },
  {
   "cell_type": "code",
   "execution_count": 13,
   "id": "17dd7d41",
   "metadata": {},
   "outputs": [],
   "source": [
    "request = requests.get(url)"
   ]
  },
  {
   "cell_type": "code",
   "execution_count": 14,
   "id": "919349e7",
   "metadata": {},
   "outputs": [
    {
     "data": {
      "text/plain": [
       "<Response [200]>"
      ]
     },
     "execution_count": 14,
     "metadata": {},
     "output_type": "execute_result"
    }
   ],
   "source": [
    "request"
   ]
  },
  {
   "cell_type": "code",
   "execution_count": 15,
   "id": "e68aed55",
   "metadata": {},
   "outputs": [],
   "source": [
    "soup = BeautifulSoup(request.content,'html.parser')"
   ]
  },
  {
   "cell_type": "code",
   "execution_count": 16,
   "id": "779311a0",
   "metadata": {},
   "outputs": [],
   "source": [
    "all_indian_movies = soup.find_all('tr')"
   ]
  },
  {
   "cell_type": "code",
   "execution_count": 17,
   "id": "693782d2",
   "metadata": {},
   "outputs": [],
   "source": [
    "list_of_movies = []\n",
    "\n",
    "for i,movies in enumerate(all_indian_movies):\n",
    "    if i ==0:\n",
    "        continue\n",
    "    if i==101:\n",
    "        break\n",
    "        \n",
    "    container = movies.find('td',{'class':'titleColumn'})\n",
    "    name = container.find('a').text\n",
    "    year = container.find('span').text.replace('(','').replace(')','')\n",
    "    rating = movies.find('td',{'class':'ratingColumn'}).find('strong').text\n",
    "    \n",
    "    list_of_movies.append({'Name':name,'Rating':rating,'Year of Release':year})"
   ]
  },
  {
   "cell_type": "code",
   "execution_count": 18,
   "id": "1ef67644",
   "metadata": {},
   "outputs": [
    {
     "data": {
      "text/html": [
       "<div>\n",
       "<style scoped>\n",
       "    .dataframe tbody tr th:only-of-type {\n",
       "        vertical-align: middle;\n",
       "    }\n",
       "\n",
       "    .dataframe tbody tr th {\n",
       "        vertical-align: top;\n",
       "    }\n",
       "\n",
       "    .dataframe thead th {\n",
       "        text-align: right;\n",
       "    }\n",
       "</style>\n",
       "<table border=\"1\" class=\"dataframe\">\n",
       "  <thead>\n",
       "    <tr style=\"text-align: right;\">\n",
       "      <th></th>\n",
       "      <th>Name</th>\n",
       "      <th>Rating</th>\n",
       "      <th>Year of Release</th>\n",
       "    </tr>\n",
       "  </thead>\n",
       "  <tbody>\n",
       "    <tr>\n",
       "      <th>0</th>\n",
       "      <td>Rocketry: The Nambi Effect</td>\n",
       "      <td>8.5</td>\n",
       "      <td>2022</td>\n",
       "    </tr>\n",
       "    <tr>\n",
       "      <th>1</th>\n",
       "      <td>Anbe Sivam</td>\n",
       "      <td>8.4</td>\n",
       "      <td>2003</td>\n",
       "    </tr>\n",
       "    <tr>\n",
       "      <th>2</th>\n",
       "      <td>Golmaal</td>\n",
       "      <td>8.4</td>\n",
       "      <td>1979</td>\n",
       "    </tr>\n",
       "    <tr>\n",
       "      <th>3</th>\n",
       "      <td>Nayakan</td>\n",
       "      <td>8.4</td>\n",
       "      <td>1987</td>\n",
       "    </tr>\n",
       "    <tr>\n",
       "      <th>4</th>\n",
       "      <td>Jai Bhim</td>\n",
       "      <td>8.4</td>\n",
       "      <td>2021</td>\n",
       "    </tr>\n",
       "    <tr>\n",
       "      <th>...</th>\n",
       "      <td>...</td>\n",
       "      <td>...</td>\n",
       "      <td>...</td>\n",
       "    </tr>\n",
       "    <tr>\n",
       "      <th>95</th>\n",
       "      <td>Rang De Basanti</td>\n",
       "      <td>8.0</td>\n",
       "      <td>2006</td>\n",
       "    </tr>\n",
       "    <tr>\n",
       "      <th>96</th>\n",
       "      <td>Baahubali 2: The Conclusion</td>\n",
       "      <td>8.0</td>\n",
       "      <td>2017</td>\n",
       "    </tr>\n",
       "    <tr>\n",
       "      <th>97</th>\n",
       "      <td>Baasha</td>\n",
       "      <td>8.0</td>\n",
       "      <td>1995</td>\n",
       "    </tr>\n",
       "    <tr>\n",
       "      <th>98</th>\n",
       "      <td>Masaan</td>\n",
       "      <td>8.0</td>\n",
       "      <td>2015</td>\n",
       "    </tr>\n",
       "    <tr>\n",
       "      <th>99</th>\n",
       "      <td>Virumandi</td>\n",
       "      <td>8.0</td>\n",
       "      <td>2004</td>\n",
       "    </tr>\n",
       "  </tbody>\n",
       "</table>\n",
       "<p>100 rows × 3 columns</p>\n",
       "</div>"
      ],
      "text/plain": [
       "                           Name Rating Year of Release\n",
       "0    Rocketry: The Nambi Effect    8.5            2022\n",
       "1                    Anbe Sivam    8.4            2003\n",
       "2                       Golmaal    8.4            1979\n",
       "3                       Nayakan    8.4            1987\n",
       "4                      Jai Bhim    8.4            2021\n",
       "..                          ...    ...             ...\n",
       "95              Rang De Basanti    8.0            2006\n",
       "96  Baahubali 2: The Conclusion    8.0            2017\n",
       "97                       Baasha    8.0            1995\n",
       "98                       Masaan    8.0            2015\n",
       "99                    Virumandi    8.0            2004\n",
       "\n",
       "[100 rows x 3 columns]"
      ]
     },
     "execution_count": 18,
     "metadata": {},
     "output_type": "execute_result"
    }
   ],
   "source": [
    "df = pd.DataFrame(list_of_movies)\n",
    "df"
   ]
  },
  {
   "cell_type": "code",
   "execution_count": null,
   "id": "b10d86c2",
   "metadata": {},
   "outputs": [],
   "source": []
  },
  {
   "cell_type": "markdown",
   "id": "69767c48",
   "metadata": {},
   "source": [
    "## 4) Write s python program to display list of respected former presidents of India(i.e. Name , Term of office) from https://presidentofindia.nic.in/former-presidents.htm\n"
   ]
  },
  {
   "cell_type": "code",
   "execution_count": 19,
   "id": "58218837",
   "metadata": {},
   "outputs": [],
   "source": [
    "url = \"https://presidentofindia.nic.in/former-presidents.htm\""
   ]
  },
  {
   "cell_type": "code",
   "execution_count": 20,
   "id": "9f71dc3f",
   "metadata": {},
   "outputs": [],
   "source": [
    "page = requests.get(url)"
   ]
  },
  {
   "cell_type": "code",
   "execution_count": 21,
   "id": "83116843",
   "metadata": {},
   "outputs": [
    {
     "data": {
      "text/plain": [
       "<Response [200]>"
      ]
     },
     "execution_count": 21,
     "metadata": {},
     "output_type": "execute_result"
    }
   ],
   "source": [
    "page"
   ]
  },
  {
   "cell_type": "code",
   "execution_count": 22,
   "id": "c017a149",
   "metadata": {},
   "outputs": [],
   "source": [
    "soup = BeautifulSoup(page.content,'html.parser')"
   ]
  },
  {
   "cell_type": "code",
   "execution_count": 23,
   "id": "5ae660d5",
   "metadata": {},
   "outputs": [],
   "source": [
    "president_list = soup.find_all('div',{'class':'presidentListing'})\n",
    "#president_list"
   ]
  },
  {
   "cell_type": "code",
   "execution_count": 24,
   "id": "a1d5ffb3",
   "metadata": {},
   "outputs": [],
   "source": [
    "lis = []\n",
    "\n",
    "for val in (president_list):\n",
    "    \n",
    "    name = val.find('h3').text\n",
    "    term = val.find('p').text.replace('Term of Office:','')\n",
    "    \n",
    "    lis.append({'President_name':name,'Term of Office':term})"
   ]
  },
  {
   "cell_type": "code",
   "execution_count": 25,
   "id": "66db7cdc",
   "metadata": {},
   "outputs": [
    {
     "data": {
      "text/html": [
       "<div>\n",
       "<style scoped>\n",
       "    .dataframe tbody tr th:only-of-type {\n",
       "        vertical-align: middle;\n",
       "    }\n",
       "\n",
       "    .dataframe tbody tr th {\n",
       "        vertical-align: top;\n",
       "    }\n",
       "\n",
       "    .dataframe thead th {\n",
       "        text-align: right;\n",
       "    }\n",
       "</style>\n",
       "<table border=\"1\" class=\"dataframe\">\n",
       "  <thead>\n",
       "    <tr style=\"text-align: right;\">\n",
       "      <th></th>\n",
       "      <th>President_name</th>\n",
       "      <th>Term of Office</th>\n",
       "    </tr>\n",
       "  </thead>\n",
       "  <tbody>\n",
       "    <tr>\n",
       "      <th>0</th>\n",
       "      <td>Shri Ram Nath Kovind (birth - 1945)</td>\n",
       "      <td>25 July, 2017 to 25 July, 2022</td>\n",
       "    </tr>\n",
       "    <tr>\n",
       "      <th>1</th>\n",
       "      <td>Shri Pranab Mukherjee (1935-2020)</td>\n",
       "      <td>25 July, 2012 to 25 July, 2017</td>\n",
       "    </tr>\n",
       "    <tr>\n",
       "      <th>2</th>\n",
       "      <td>Smt Pratibha Devisingh Patil (birth - 1934)</td>\n",
       "      <td>25 July, 2007 to 25 July, 2012</td>\n",
       "    </tr>\n",
       "    <tr>\n",
       "      <th>3</th>\n",
       "      <td>DR. A.P.J. Abdul Kalam (1931-2015)</td>\n",
       "      <td>25 July, 2002 to 25 July, 2007</td>\n",
       "    </tr>\n",
       "    <tr>\n",
       "      <th>4</th>\n",
       "      <td>Shri K. R. Narayanan (1920 - 2005)</td>\n",
       "      <td>25 July, 1997 to 25 July, 2002</td>\n",
       "    </tr>\n",
       "    <tr>\n",
       "      <th>5</th>\n",
       "      <td>Dr Shankar Dayal Sharma (1918-1999)</td>\n",
       "      <td>25 July, 1992 to 25 July, 1997</td>\n",
       "    </tr>\n",
       "    <tr>\n",
       "      <th>6</th>\n",
       "      <td>Shri R Venkataraman (1910-2009)</td>\n",
       "      <td>25 July, 1987 to 25 July, 1992</td>\n",
       "    </tr>\n",
       "    <tr>\n",
       "      <th>7</th>\n",
       "      <td>Giani Zail Singh (1916-1994)</td>\n",
       "      <td>25 July, 1982 to 25 July, 1987</td>\n",
       "    </tr>\n",
       "    <tr>\n",
       "      <th>8</th>\n",
       "      <td>Shri Neelam Sanjiva Reddy (1913-1996)</td>\n",
       "      <td>25 July, 1977 to 25 July, 1982</td>\n",
       "    </tr>\n",
       "    <tr>\n",
       "      <th>9</th>\n",
       "      <td>Dr. Fakhruddin Ali Ahmed (1905-1977)</td>\n",
       "      <td>24 August, 1974 to 11 February, 1977</td>\n",
       "    </tr>\n",
       "    <tr>\n",
       "      <th>10</th>\n",
       "      <td>Shri Varahagiri Venkata Giri (1894-1980)</td>\n",
       "      <td>3 May, 1969 to 20 July, 1969 and 24 August, 1...</td>\n",
       "    </tr>\n",
       "    <tr>\n",
       "      <th>11</th>\n",
       "      <td>Dr. Zakir Husain (1897-1969)</td>\n",
       "      <td>13 May, 1967 to 3 May, 1969</td>\n",
       "    </tr>\n",
       "    <tr>\n",
       "      <th>12</th>\n",
       "      <td>Dr. Sarvepalli Radhakrishnan (1888-1975)</td>\n",
       "      <td>13 May, 1962 to 13 May, 1967</td>\n",
       "    </tr>\n",
       "    <tr>\n",
       "      <th>13</th>\n",
       "      <td>Dr. Rajendra Prasad (1884-1963)</td>\n",
       "      <td>26 January, 1950 to 13 May, 1962</td>\n",
       "    </tr>\n",
       "  </tbody>\n",
       "</table>\n",
       "</div>"
      ],
      "text/plain": [
       "                                 President_name  \\\n",
       "0           Shri Ram Nath Kovind (birth - 1945)   \n",
       "1             Shri Pranab Mukherjee (1935-2020)   \n",
       "2   Smt Pratibha Devisingh Patil (birth - 1934)   \n",
       "3            DR. A.P.J. Abdul Kalam (1931-2015)   \n",
       "4            Shri K. R. Narayanan (1920 - 2005)   \n",
       "5           Dr Shankar Dayal Sharma (1918-1999)   \n",
       "6               Shri R Venkataraman (1910-2009)   \n",
       "7                  Giani Zail Singh (1916-1994)   \n",
       "8         Shri Neelam Sanjiva Reddy (1913-1996)   \n",
       "9          Dr. Fakhruddin Ali Ahmed (1905-1977)   \n",
       "10     Shri Varahagiri Venkata Giri (1894-1980)   \n",
       "11                 Dr. Zakir Husain (1897-1969)   \n",
       "12     Dr. Sarvepalli Radhakrishnan (1888-1975)   \n",
       "13             Dr. Rajendra Prasad (1884-1963)    \n",
       "\n",
       "                                       Term of Office  \n",
       "0                     25 July, 2017 to 25 July, 2022   \n",
       "1                     25 July, 2012 to 25 July, 2017   \n",
       "2                     25 July, 2007 to 25 July, 2012   \n",
       "3                     25 July, 2002 to 25 July, 2007   \n",
       "4                     25 July, 1997 to 25 July, 2002   \n",
       "5                     25 July, 1992 to 25 July, 1997   \n",
       "6                     25 July, 1987 to 25 July, 1992   \n",
       "7                     25 July, 1982 to 25 July, 1987   \n",
       "8                     25 July, 1977 to 25 July, 1982   \n",
       "9                24 August, 1974 to 11 February, 1977  \n",
       "10   3 May, 1969 to 20 July, 1969 and 24 August, 1...  \n",
       "11                        13 May, 1967 to 3 May, 1969  \n",
       "12                       13 May, 1962 to 13 May, 1967  \n",
       "13                   26 January, 1950 to 13 May, 1962  "
      ]
     },
     "execution_count": 25,
     "metadata": {},
     "output_type": "execute_result"
    }
   ],
   "source": [
    "df = pd.DataFrame(lis)\n",
    "df"
   ]
  },
  {
   "cell_type": "markdown",
   "id": "41917b41",
   "metadata": {},
   "source": [
    "## 5) Write a python program to scrape cricket rankings from icc-cricket.com. You have to scrape:"
   ]
  },
  {
   "cell_type": "markdown",
   "id": "b1c359e5",
   "metadata": {},
   "source": [
    "### a) Top 10 ODI teams in men’s cricket along with the records for matches, points and rating.\n"
   ]
  },
  {
   "cell_type": "code",
   "execution_count": 26,
   "id": "865113d6",
   "metadata": {},
   "outputs": [],
   "source": [
    "url = \"https://www.icc-cricket.com/rankings/mens/team-rankings/odi\""
   ]
  },
  {
   "cell_type": "code",
   "execution_count": 27,
   "id": "f8d8e580",
   "metadata": {},
   "outputs": [
    {
     "data": {
      "text/plain": [
       "<Response [200]>"
      ]
     },
     "execution_count": 27,
     "metadata": {},
     "output_type": "execute_result"
    }
   ],
   "source": [
    "re = requests.get(url)\n",
    "re"
   ]
  },
  {
   "cell_type": "code",
   "execution_count": 28,
   "id": "42a2e1f2",
   "metadata": {},
   "outputs": [],
   "source": [
    "soup = BeautifulSoup(re.content,'html.parser')"
   ]
  },
  {
   "cell_type": "code",
   "execution_count": 29,
   "id": "bc22645d",
   "metadata": {},
   "outputs": [],
   "source": [
    "odi = soup.find('table').find('tbody').find_all('tr')\n"
   ]
  },
  {
   "cell_type": "code",
   "execution_count": 30,
   "id": "64a2b097",
   "metadata": {},
   "outputs": [],
   "source": [
    "odi_lis = []\n",
    "\n",
    "for i, val in enumerate(odi):\n",
    "    if i ==10:\n",
    "        break\n",
    "        \n",
    "    team = val.find('span',{'class':'u-hide-phablet'}).text\n",
    "    td = val.find_all('td')\n",
    "    matches = td[2].text\n",
    "    points = td[3].text\n",
    "    rating = td[4].text.strip()\n",
    "    \n",
    "    odi_lis.append({'Team':team,'Matches':matches,'Points':points,'Rating':rating})\n",
    "    \n"
   ]
  },
  {
   "cell_type": "code",
   "execution_count": 31,
   "id": "8f8eb4c5",
   "metadata": {},
   "outputs": [
    {
     "data": {
      "text/html": [
       "<div>\n",
       "<style scoped>\n",
       "    .dataframe tbody tr th:only-of-type {\n",
       "        vertical-align: middle;\n",
       "    }\n",
       "\n",
       "    .dataframe tbody tr th {\n",
       "        vertical-align: top;\n",
       "    }\n",
       "\n",
       "    .dataframe thead th {\n",
       "        text-align: right;\n",
       "    }\n",
       "</style>\n",
       "<table border=\"1\" class=\"dataframe\">\n",
       "  <thead>\n",
       "    <tr style=\"text-align: right;\">\n",
       "      <th></th>\n",
       "      <th>Team</th>\n",
       "      <th>Matches</th>\n",
       "      <th>Points</th>\n",
       "      <th>Rating</th>\n",
       "    </tr>\n",
       "  </thead>\n",
       "  <tbody>\n",
       "    <tr>\n",
       "      <th>0</th>\n",
       "      <td>New Zealand</td>\n",
       "      <td>19</td>\n",
       "      <td>2,355</td>\n",
       "      <td>124</td>\n",
       "    </tr>\n",
       "    <tr>\n",
       "      <th>1</th>\n",
       "      <td>England</td>\n",
       "      <td>27</td>\n",
       "      <td>3,226</td>\n",
       "      <td>119</td>\n",
       "    </tr>\n",
       "    <tr>\n",
       "      <th>2</th>\n",
       "      <td>India</td>\n",
       "      <td>31</td>\n",
       "      <td>3,447</td>\n",
       "      <td>111</td>\n",
       "    </tr>\n",
       "    <tr>\n",
       "      <th>3</th>\n",
       "      <td>Pakistan</td>\n",
       "      <td>22</td>\n",
       "      <td>2,354</td>\n",
       "      <td>107</td>\n",
       "    </tr>\n",
       "    <tr>\n",
       "      <th>4</th>\n",
       "      <td>Australia</td>\n",
       "      <td>23</td>\n",
       "      <td>2,325</td>\n",
       "      <td>101</td>\n",
       "    </tr>\n",
       "    <tr>\n",
       "      <th>5</th>\n",
       "      <td>South Africa</td>\n",
       "      <td>21</td>\n",
       "      <td>2,111</td>\n",
       "      <td>101</td>\n",
       "    </tr>\n",
       "    <tr>\n",
       "      <th>6</th>\n",
       "      <td>Bangladesh</td>\n",
       "      <td>30</td>\n",
       "      <td>2,753</td>\n",
       "      <td>92</td>\n",
       "    </tr>\n",
       "    <tr>\n",
       "      <th>7</th>\n",
       "      <td>Sri Lanka</td>\n",
       "      <td>29</td>\n",
       "      <td>2,658</td>\n",
       "      <td>92</td>\n",
       "    </tr>\n",
       "    <tr>\n",
       "      <th>8</th>\n",
       "      <td>West Indies</td>\n",
       "      <td>41</td>\n",
       "      <td>2,902</td>\n",
       "      <td>71</td>\n",
       "    </tr>\n",
       "    <tr>\n",
       "      <th>9</th>\n",
       "      <td>Afghanistan</td>\n",
       "      <td>18</td>\n",
       "      <td>1,238</td>\n",
       "      <td>69</td>\n",
       "    </tr>\n",
       "  </tbody>\n",
       "</table>\n",
       "</div>"
      ],
      "text/plain": [
       "           Team Matches Points Rating\n",
       "0   New Zealand      19  2,355    124\n",
       "1       England      27  3,226    119\n",
       "2         India      31  3,447    111\n",
       "3      Pakistan      22  2,354    107\n",
       "4     Australia      23  2,325    101\n",
       "5  South Africa      21  2,111    101\n",
       "6    Bangladesh      30  2,753     92\n",
       "7     Sri Lanka      29  2,658     92\n",
       "8   West Indies      41  2,902     71\n",
       "9   Afghanistan      18  1,238     69"
      ]
     },
     "execution_count": 31,
     "metadata": {},
     "output_type": "execute_result"
    }
   ],
   "source": [
    "df = pd.DataFrame(odi_lis)\n",
    "df"
   ]
  },
  {
   "cell_type": "markdown",
   "id": "4528c7fb",
   "metadata": {},
   "source": [
    "### b) Top 10 ODI Batsmen along with the records of their team and rating.\n"
   ]
  },
  {
   "cell_type": "code",
   "execution_count": 32,
   "id": "bcfadeaa",
   "metadata": {},
   "outputs": [],
   "source": [
    "url = 'https://www.icc-cricket.com/rankings/mens/player-rankings/odi/batting'"
   ]
  },
  {
   "cell_type": "code",
   "execution_count": 33,
   "id": "03b22c85",
   "metadata": {},
   "outputs": [
    {
     "data": {
      "text/plain": [
       "<Response [200]>"
      ]
     },
     "execution_count": 33,
     "metadata": {},
     "output_type": "execute_result"
    }
   ],
   "source": [
    "re = requests.get(url)\n",
    "re"
   ]
  },
  {
   "cell_type": "code",
   "execution_count": 34,
   "id": "2d2baafa",
   "metadata": {},
   "outputs": [],
   "source": [
    "soup = BeautifulSoup(re.content,'html.parser')"
   ]
  },
  {
   "cell_type": "code",
   "execution_count": 35,
   "id": "8c54618f",
   "metadata": {},
   "outputs": [],
   "source": [
    "player = soup.find('table').find_all('tr')"
   ]
  },
  {
   "cell_type": "code",
   "execution_count": 36,
   "id": "faa88f44",
   "metadata": {},
   "outputs": [],
   "source": [
    "lis = []\n",
    "\n",
    "for i, val in enumerate(player):\n",
    "    if i ==0:\n",
    "        continue\n",
    "        \n",
    "    if i == 11:\n",
    "        break\n",
    "        \n",
    "    tds = val.find_all('td')\n",
    "    player = tds[1].text.replace('\\n','')\n",
    "    team = tds[2].text.replace('\\n','')\n",
    "    point = tds[3].text.replace('\\n','')\n",
    "    lis.append({'Player':player,'Team':team,'Rating':point})\n",
    "    "
   ]
  },
  {
   "cell_type": "code",
   "execution_count": 37,
   "id": "c09565db",
   "metadata": {},
   "outputs": [
    {
     "data": {
      "text/html": [
       "<div>\n",
       "<style scoped>\n",
       "    .dataframe tbody tr th:only-of-type {\n",
       "        vertical-align: middle;\n",
       "    }\n",
       "\n",
       "    .dataframe tbody tr th {\n",
       "        vertical-align: top;\n",
       "    }\n",
       "\n",
       "    .dataframe thead th {\n",
       "        text-align: right;\n",
       "    }\n",
       "</style>\n",
       "<table border=\"1\" class=\"dataframe\">\n",
       "  <thead>\n",
       "    <tr style=\"text-align: right;\">\n",
       "      <th></th>\n",
       "      <th>Player</th>\n",
       "      <th>Team</th>\n",
       "      <th>Rating</th>\n",
       "    </tr>\n",
       "  </thead>\n",
       "  <tbody>\n",
       "    <tr>\n",
       "      <th>0</th>\n",
       "      <td>Babar Azam</td>\n",
       "      <td>PAK</td>\n",
       "      <td>890</td>\n",
       "    </tr>\n",
       "    <tr>\n",
       "      <th>1</th>\n",
       "      <td>Rassie van der Dussen</td>\n",
       "      <td>SA</td>\n",
       "      <td>789</td>\n",
       "    </tr>\n",
       "    <tr>\n",
       "      <th>2</th>\n",
       "      <td>Quinton de Kock</td>\n",
       "      <td>SA</td>\n",
       "      <td>784</td>\n",
       "    </tr>\n",
       "    <tr>\n",
       "      <th>3</th>\n",
       "      <td>Imam-ul-Haq</td>\n",
       "      <td>PAK</td>\n",
       "      <td>779</td>\n",
       "    </tr>\n",
       "    <tr>\n",
       "      <th>4</th>\n",
       "      <td>Virat Kohli</td>\n",
       "      <td>IND</td>\n",
       "      <td>744</td>\n",
       "    </tr>\n",
       "    <tr>\n",
       "      <th>5</th>\n",
       "      <td>Rohit Sharma</td>\n",
       "      <td>IND</td>\n",
       "      <td>740</td>\n",
       "    </tr>\n",
       "    <tr>\n",
       "      <th>6</th>\n",
       "      <td>David Warner</td>\n",
       "      <td>AUS</td>\n",
       "      <td>737</td>\n",
       "    </tr>\n",
       "    <tr>\n",
       "      <th>7</th>\n",
       "      <td>Jonny Bairstow</td>\n",
       "      <td>ENG</td>\n",
       "      <td>732</td>\n",
       "    </tr>\n",
       "    <tr>\n",
       "      <th>8</th>\n",
       "      <td>Ross Taylor</td>\n",
       "      <td>NZ</td>\n",
       "      <td>722</td>\n",
       "    </tr>\n",
       "    <tr>\n",
       "      <th>9</th>\n",
       "      <td>Aaron Finch</td>\n",
       "      <td>AUS</td>\n",
       "      <td>715</td>\n",
       "    </tr>\n",
       "  </tbody>\n",
       "</table>\n",
       "</div>"
      ],
      "text/plain": [
       "                  Player Team Rating\n",
       "0             Babar Azam  PAK    890\n",
       "1  Rassie van der Dussen   SA    789\n",
       "2        Quinton de Kock   SA    784\n",
       "3            Imam-ul-Haq  PAK    779\n",
       "4            Virat Kohli  IND    744\n",
       "5           Rohit Sharma  IND    740\n",
       "6           David Warner  AUS    737\n",
       "7         Jonny Bairstow  ENG    732\n",
       "8            Ross Taylor   NZ    722\n",
       "9            Aaron Finch  AUS    715"
      ]
     },
     "execution_count": 37,
     "metadata": {},
     "output_type": "execute_result"
    }
   ],
   "source": [
    "df = pd.DataFrame(lis)\n",
    "df"
   ]
  },
  {
   "cell_type": "markdown",
   "id": "512967c1",
   "metadata": {},
   "source": [
    "### c) Top 10 ODI bowlers along with the records of their team and rating.\n"
   ]
  },
  {
   "cell_type": "code",
   "execution_count": 38,
   "id": "b9d5bcee",
   "metadata": {},
   "outputs": [],
   "source": [
    "url =\"https://www.icc-cricket.com/rankings/mens/player-rankings/odi/bowling\""
   ]
  },
  {
   "cell_type": "code",
   "execution_count": 39,
   "id": "36a68bd5",
   "metadata": {},
   "outputs": [
    {
     "data": {
      "text/plain": [
       "<Response [200]>"
      ]
     },
     "execution_count": 39,
     "metadata": {},
     "output_type": "execute_result"
    }
   ],
   "source": [
    "re = requests.get(url)\n",
    "re"
   ]
  },
  {
   "cell_type": "code",
   "execution_count": 40,
   "id": "5dc0dd9a",
   "metadata": {},
   "outputs": [],
   "source": [
    "soup = BeautifulSoup(re.content,'html.parser')"
   ]
  },
  {
   "cell_type": "code",
   "execution_count": 41,
   "id": "3b24726f",
   "metadata": {},
   "outputs": [],
   "source": [
    "bowling = soup.find('table').find_all('tr')"
   ]
  },
  {
   "cell_type": "code",
   "execution_count": 42,
   "id": "61640eb0",
   "metadata": {},
   "outputs": [],
   "source": [
    "lis = []\n",
    "\n",
    "for i, val in enumerate(bowling):\n",
    "    if i ==0:\n",
    "        continue\n",
    "        \n",
    "    if i == 11:\n",
    "        break\n",
    "        \n",
    "    tds = val.find_all('td')\n",
    "    player = tds[1].text.replace('\\n','')\n",
    "    team = tds[2].text.replace('\\n','')\n",
    "    point = tds[3].text.replace('\\n','')\n",
    "    lis.append({'Player':player,'Team':team,'Rating':point})\n",
    "    \n"
   ]
  },
  {
   "cell_type": "code",
   "execution_count": 43,
   "id": "f2f5f3f4",
   "metadata": {},
   "outputs": [
    {
     "data": {
      "text/html": [
       "<div>\n",
       "<style scoped>\n",
       "    .dataframe tbody tr th:only-of-type {\n",
       "        vertical-align: middle;\n",
       "    }\n",
       "\n",
       "    .dataframe tbody tr th {\n",
       "        vertical-align: top;\n",
       "    }\n",
       "\n",
       "    .dataframe thead th {\n",
       "        text-align: right;\n",
       "    }\n",
       "</style>\n",
       "<table border=\"1\" class=\"dataframe\">\n",
       "  <thead>\n",
       "    <tr style=\"text-align: right;\">\n",
       "      <th></th>\n",
       "      <th>Player</th>\n",
       "      <th>Team</th>\n",
       "      <th>Rating</th>\n",
       "    </tr>\n",
       "  </thead>\n",
       "  <tbody>\n",
       "    <tr>\n",
       "      <th>0</th>\n",
       "      <td>Trent Boult</td>\n",
       "      <td>NZ</td>\n",
       "      <td>720</td>\n",
       "    </tr>\n",
       "    <tr>\n",
       "      <th>1</th>\n",
       "      <td>Josh Hazlewood</td>\n",
       "      <td>AUS</td>\n",
       "      <td>679</td>\n",
       "    </tr>\n",
       "    <tr>\n",
       "      <th>2</th>\n",
       "      <td>Mujeeb Ur Rahman</td>\n",
       "      <td>AFG</td>\n",
       "      <td>676</td>\n",
       "    </tr>\n",
       "    <tr>\n",
       "      <th>3</th>\n",
       "      <td>Jasprit Bumrah</td>\n",
       "      <td>IND</td>\n",
       "      <td>662</td>\n",
       "    </tr>\n",
       "    <tr>\n",
       "      <th>4</th>\n",
       "      <td>Shaheen Afridi</td>\n",
       "      <td>PAK</td>\n",
       "      <td>661</td>\n",
       "    </tr>\n",
       "    <tr>\n",
       "      <th>5</th>\n",
       "      <td>Mohammad Nabi</td>\n",
       "      <td>AFG</td>\n",
       "      <td>657</td>\n",
       "    </tr>\n",
       "    <tr>\n",
       "      <th>6</th>\n",
       "      <td>Mehedi Hasan</td>\n",
       "      <td>BAN</td>\n",
       "      <td>655</td>\n",
       "    </tr>\n",
       "    <tr>\n",
       "      <th>7</th>\n",
       "      <td>Rashid Khan</td>\n",
       "      <td>AFG</td>\n",
       "      <td>651</td>\n",
       "    </tr>\n",
       "    <tr>\n",
       "      <th>8</th>\n",
       "      <td>Matt Henry</td>\n",
       "      <td>NZ</td>\n",
       "      <td>644</td>\n",
       "    </tr>\n",
       "    <tr>\n",
       "      <th>9</th>\n",
       "      <td>Mustafizur Rahman</td>\n",
       "      <td>BAN</td>\n",
       "      <td>640</td>\n",
       "    </tr>\n",
       "  </tbody>\n",
       "</table>\n",
       "</div>"
      ],
      "text/plain": [
       "              Player Team Rating\n",
       "0        Trent Boult   NZ    720\n",
       "1     Josh Hazlewood  AUS    679\n",
       "2   Mujeeb Ur Rahman  AFG    676\n",
       "3     Jasprit Bumrah  IND    662\n",
       "4     Shaheen Afridi  PAK    661\n",
       "5      Mohammad Nabi  AFG    657\n",
       "6       Mehedi Hasan  BAN    655\n",
       "7        Rashid Khan  AFG    651\n",
       "8         Matt Henry   NZ    644\n",
       "9  Mustafizur Rahman  BAN    640"
      ]
     },
     "execution_count": 43,
     "metadata": {},
     "output_type": "execute_result"
    }
   ],
   "source": [
    "df = pd.DataFrame(lis)\n",
    "df"
   ]
  },
  {
   "cell_type": "markdown",
   "id": "ad6ee134",
   "metadata": {},
   "source": [
    "# 6) Write a python program to scrape cricket rankings from icc-cricket.com. You have to scrape:"
   ]
  },
  {
   "cell_type": "markdown",
   "id": "e2685838",
   "metadata": {},
   "source": [
    "## a) Top 10 ODI teams in women’s cricket along with the records for matches, points and rating"
   ]
  },
  {
   "cell_type": "code",
   "execution_count": 44,
   "id": "1aa347ab",
   "metadata": {},
   "outputs": [],
   "source": [
    "url = \"https://www.icc-cricket.com/rankings/womens/team-rankings/odi\""
   ]
  },
  {
   "cell_type": "code",
   "execution_count": 45,
   "id": "7c89b494",
   "metadata": {},
   "outputs": [
    {
     "data": {
      "text/plain": [
       "<Response [200]>"
      ]
     },
     "execution_count": 45,
     "metadata": {},
     "output_type": "execute_result"
    }
   ],
   "source": [
    "re = requests.get(url)\n",
    "re"
   ]
  },
  {
   "cell_type": "code",
   "execution_count": 46,
   "id": "6fe5d0e9",
   "metadata": {},
   "outputs": [],
   "source": [
    "soup = BeautifulSoup(re.content,'html.parser')"
   ]
  },
  {
   "cell_type": "code",
   "execution_count": 47,
   "id": "e22681af",
   "metadata": {},
   "outputs": [],
   "source": [
    "top = soup.find('table').find('tbody').find_all('tr')"
   ]
  },
  {
   "cell_type": "code",
   "execution_count": 48,
   "id": "60a445d1",
   "metadata": {},
   "outputs": [],
   "source": [
    "odi_lis = []\n",
    "\n",
    "for i, val in enumerate(top):\n",
    "    if i ==10:\n",
    "        break\n",
    "        \n",
    "    team = val.find('span',{'class':'u-hide-phablet'}).text\n",
    "    td = val.find_all('td')\n",
    "    matches = td[2].text\n",
    "    points = td[3].text\n",
    "    rating = td[4].text.strip()\n",
    "    \n",
    "    odi_lis.append({'Team':team,'Matches':matches,'Points':points,'Rating':rating})\n",
    "    \n"
   ]
  },
  {
   "cell_type": "code",
   "execution_count": 49,
   "id": "ade189c9",
   "metadata": {},
   "outputs": [
    {
     "data": {
      "text/html": [
       "<div>\n",
       "<style scoped>\n",
       "    .dataframe tbody tr th:only-of-type {\n",
       "        vertical-align: middle;\n",
       "    }\n",
       "\n",
       "    .dataframe tbody tr th {\n",
       "        vertical-align: top;\n",
       "    }\n",
       "\n",
       "    .dataframe thead th {\n",
       "        text-align: right;\n",
       "    }\n",
       "</style>\n",
       "<table border=\"1\" class=\"dataframe\">\n",
       "  <thead>\n",
       "    <tr style=\"text-align: right;\">\n",
       "      <th></th>\n",
       "      <th>Team</th>\n",
       "      <th>Matches</th>\n",
       "      <th>Points</th>\n",
       "      <th>Rating</th>\n",
       "    </tr>\n",
       "  </thead>\n",
       "  <tbody>\n",
       "    <tr>\n",
       "      <th>0</th>\n",
       "      <td>Australia</td>\n",
       "      <td>29</td>\n",
       "      <td>4,837</td>\n",
       "      <td>167</td>\n",
       "    </tr>\n",
       "    <tr>\n",
       "      <th>1</th>\n",
       "      <td>England</td>\n",
       "      <td>33</td>\n",
       "      <td>4,046</td>\n",
       "      <td>123</td>\n",
       "    </tr>\n",
       "    <tr>\n",
       "      <th>2</th>\n",
       "      <td>South Africa</td>\n",
       "      <td>35</td>\n",
       "      <td>4,157</td>\n",
       "      <td>119</td>\n",
       "    </tr>\n",
       "    <tr>\n",
       "      <th>3</th>\n",
       "      <td>India</td>\n",
       "      <td>32</td>\n",
       "      <td>3,219</td>\n",
       "      <td>101</td>\n",
       "    </tr>\n",
       "    <tr>\n",
       "      <th>4</th>\n",
       "      <td>New Zealand</td>\n",
       "      <td>31</td>\n",
       "      <td>3,019</td>\n",
       "      <td>97</td>\n",
       "    </tr>\n",
       "    <tr>\n",
       "      <th>5</th>\n",
       "      <td>West Indies</td>\n",
       "      <td>30</td>\n",
       "      <td>2,768</td>\n",
       "      <td>92</td>\n",
       "    </tr>\n",
       "    <tr>\n",
       "      <th>6</th>\n",
       "      <td>Bangladesh</td>\n",
       "      <td>12</td>\n",
       "      <td>930</td>\n",
       "      <td>78</td>\n",
       "    </tr>\n",
       "    <tr>\n",
       "      <th>7</th>\n",
       "      <td>Pakistan</td>\n",
       "      <td>30</td>\n",
       "      <td>1,962</td>\n",
       "      <td>65</td>\n",
       "    </tr>\n",
       "    <tr>\n",
       "      <th>8</th>\n",
       "      <td>Ireland</td>\n",
       "      <td>9</td>\n",
       "      <td>405</td>\n",
       "      <td>45</td>\n",
       "    </tr>\n",
       "    <tr>\n",
       "      <th>9</th>\n",
       "      <td>Sri Lanka</td>\n",
       "      <td>11</td>\n",
       "      <td>495</td>\n",
       "      <td>45</td>\n",
       "    </tr>\n",
       "  </tbody>\n",
       "</table>\n",
       "</div>"
      ],
      "text/plain": [
       "           Team Matches Points Rating\n",
       "0     Australia      29  4,837    167\n",
       "1       England      33  4,046    123\n",
       "2  South Africa      35  4,157    119\n",
       "3         India      32  3,219    101\n",
       "4   New Zealand      31  3,019     97\n",
       "5   West Indies      30  2,768     92\n",
       "6    Bangladesh      12    930     78\n",
       "7      Pakistan      30  1,962     65\n",
       "8       Ireland       9    405     45\n",
       "9     Sri Lanka      11    495     45"
      ]
     },
     "execution_count": 49,
     "metadata": {},
     "output_type": "execute_result"
    }
   ],
   "source": [
    "df = pd.DataFrame(odi_lis)\n",
    "df"
   ]
  },
  {
   "cell_type": "markdown",
   "id": "6eb4345d",
   "metadata": {},
   "source": [
    "## b) Top 10 women’s ODI Batting players along with the records of their team and rating.\n"
   ]
  },
  {
   "cell_type": "code",
   "execution_count": 50,
   "id": "6805cdf9",
   "metadata": {},
   "outputs": [],
   "source": [
    "url = \"https://www.icc-cricket.com/rankings/womens/player-rankings/odi/batting\""
   ]
  },
  {
   "cell_type": "code",
   "execution_count": 51,
   "id": "26da425a",
   "metadata": {},
   "outputs": [
    {
     "data": {
      "text/plain": [
       "<Response [200]>"
      ]
     },
     "execution_count": 51,
     "metadata": {},
     "output_type": "execute_result"
    }
   ],
   "source": [
    "re = requests.get(url)\n",
    "re"
   ]
  },
  {
   "cell_type": "code",
   "execution_count": 52,
   "id": "cee18977",
   "metadata": {},
   "outputs": [],
   "source": [
    "soup = BeautifulSoup(re.content,'html.parser')"
   ]
  },
  {
   "cell_type": "code",
   "execution_count": 53,
   "id": "ba966582",
   "metadata": {},
   "outputs": [],
   "source": [
    "batting = soup.find('table').find_all('tr')"
   ]
  },
  {
   "cell_type": "code",
   "execution_count": 54,
   "id": "560f9348",
   "metadata": {},
   "outputs": [],
   "source": [
    "lis = []\n",
    "\n",
    "for i ,val in enumerate(batting):\n",
    "    if i ==0:\n",
    "        continue\n",
    "    if i == 11:\n",
    "        break\n",
    "        \n",
    "    \n",
    "    tds = val.find_all('td')\n",
    "    player = tds[1].text.replace('\\n','')\n",
    "    team = tds[2].text.replace('\\n','')\n",
    "    point = tds[3].text.replace('\\n','')\n",
    "    lis.append({'Player':player,'Team':team,'Rating':point})\n",
    "    \n",
    "    "
   ]
  },
  {
   "cell_type": "code",
   "execution_count": 55,
   "id": "2da45784",
   "metadata": {},
   "outputs": [
    {
     "data": {
      "text/html": [
       "<div>\n",
       "<style scoped>\n",
       "    .dataframe tbody tr th:only-of-type {\n",
       "        vertical-align: middle;\n",
       "    }\n",
       "\n",
       "    .dataframe tbody tr th {\n",
       "        vertical-align: top;\n",
       "    }\n",
       "\n",
       "    .dataframe thead th {\n",
       "        text-align: right;\n",
       "    }\n",
       "</style>\n",
       "<table border=\"1\" class=\"dataframe\">\n",
       "  <thead>\n",
       "    <tr style=\"text-align: right;\">\n",
       "      <th></th>\n",
       "      <th>Player</th>\n",
       "      <th>Team</th>\n",
       "      <th>Rating</th>\n",
       "    </tr>\n",
       "  </thead>\n",
       "  <tbody>\n",
       "    <tr>\n",
       "      <th>0</th>\n",
       "      <td>Alyssa Healy</td>\n",
       "      <td>AUS</td>\n",
       "      <td>785</td>\n",
       "    </tr>\n",
       "    <tr>\n",
       "      <th>1</th>\n",
       "      <td>Beth Mooney</td>\n",
       "      <td>AUS</td>\n",
       "      <td>749</td>\n",
       "    </tr>\n",
       "    <tr>\n",
       "      <th>2</th>\n",
       "      <td>Natalie Sciver</td>\n",
       "      <td>ENG</td>\n",
       "      <td>747</td>\n",
       "    </tr>\n",
       "    <tr>\n",
       "      <th>3</th>\n",
       "      <td>Laura Wolvaardt</td>\n",
       "      <td>SA</td>\n",
       "      <td>732</td>\n",
       "    </tr>\n",
       "    <tr>\n",
       "      <th>4</th>\n",
       "      <td>Meg Lanning</td>\n",
       "      <td>AUS</td>\n",
       "      <td>710</td>\n",
       "    </tr>\n",
       "    <tr>\n",
       "      <th>5</th>\n",
       "      <td>Rachael Haynes</td>\n",
       "      <td>AUS</td>\n",
       "      <td>701</td>\n",
       "    </tr>\n",
       "    <tr>\n",
       "      <th>6</th>\n",
       "      <td>Amy Satterthwaite</td>\n",
       "      <td>NZ</td>\n",
       "      <td>681</td>\n",
       "    </tr>\n",
       "    <tr>\n",
       "      <th>7</th>\n",
       "      <td>Tammy Beaumont</td>\n",
       "      <td>ENG</td>\n",
       "      <td>667</td>\n",
       "    </tr>\n",
       "    <tr>\n",
       "      <th>8</th>\n",
       "      <td>Chamari Athapaththu</td>\n",
       "      <td>SL</td>\n",
       "      <td>655</td>\n",
       "    </tr>\n",
       "    <tr>\n",
       "      <th>9</th>\n",
       "      <td>Smriti Mandhana</td>\n",
       "      <td>IND</td>\n",
       "      <td>649</td>\n",
       "    </tr>\n",
       "  </tbody>\n",
       "</table>\n",
       "</div>"
      ],
      "text/plain": [
       "                Player Team Rating\n",
       "0         Alyssa Healy  AUS    785\n",
       "1          Beth Mooney  AUS    749\n",
       "2       Natalie Sciver  ENG    747\n",
       "3      Laura Wolvaardt   SA    732\n",
       "4          Meg Lanning  AUS    710\n",
       "5       Rachael Haynes  AUS    701\n",
       "6    Amy Satterthwaite   NZ    681\n",
       "7       Tammy Beaumont  ENG    667\n",
       "8  Chamari Athapaththu   SL    655\n",
       "9      Smriti Mandhana  IND    649"
      ]
     },
     "execution_count": 55,
     "metadata": {},
     "output_type": "execute_result"
    }
   ],
   "source": [
    "df = pd.DataFrame(lis)\n",
    "df"
   ]
  },
  {
   "cell_type": "markdown",
   "id": "06440422",
   "metadata": {},
   "source": [
    "## c) Top 10 women’s ODI all-rounder along with the records of their team and rating."
   ]
  },
  {
   "cell_type": "code",
   "execution_count": 56,
   "id": "11ede59e",
   "metadata": {},
   "outputs": [],
   "source": [
    "url = 'https://www.icc-cricket.com/rankings/womens/player-rankings/odi/all-rounder'"
   ]
  },
  {
   "cell_type": "code",
   "execution_count": 57,
   "id": "f859943f",
   "metadata": {},
   "outputs": [
    {
     "data": {
      "text/plain": [
       "<Response [200]>"
      ]
     },
     "execution_count": 57,
     "metadata": {},
     "output_type": "execute_result"
    }
   ],
   "source": [
    "re = requests.get(url)\n",
    "re"
   ]
  },
  {
   "cell_type": "code",
   "execution_count": 58,
   "id": "6f3eeeae",
   "metadata": {},
   "outputs": [],
   "source": [
    "soup = BeautifulSoup(re.content, 'html.parser')"
   ]
  },
  {
   "cell_type": "code",
   "execution_count": 59,
   "id": "f8c089bf",
   "metadata": {},
   "outputs": [],
   "source": [
    "all_rounder = soup.find('table').find_all('tr')"
   ]
  },
  {
   "cell_type": "code",
   "execution_count": 60,
   "id": "422f1cdd",
   "metadata": {},
   "outputs": [],
   "source": [
    "lis = []\n",
    "\n",
    "for i ,val in enumerate(all_rounder):\n",
    "    if i ==0:\n",
    "        continue\n",
    "    if i == 11:\n",
    "        break\n",
    "        \n",
    "    \n",
    "    tds = val.find_all('td')\n",
    "    player = tds[1].text.replace('\\n','')\n",
    "    team = tds[2].text.replace('\\n','')\n",
    "    point = tds[3].text.replace('\\n','')\n",
    "    lis.append({'Player':player,'Team':team,'Rating':point})\n",
    "    "
   ]
  },
  {
   "cell_type": "code",
   "execution_count": 61,
   "id": "cd135698",
   "metadata": {},
   "outputs": [
    {
     "data": {
      "text/html": [
       "<div>\n",
       "<style scoped>\n",
       "    .dataframe tbody tr th:only-of-type {\n",
       "        vertical-align: middle;\n",
       "    }\n",
       "\n",
       "    .dataframe tbody tr th {\n",
       "        vertical-align: top;\n",
       "    }\n",
       "\n",
       "    .dataframe thead th {\n",
       "        text-align: right;\n",
       "    }\n",
       "</style>\n",
       "<table border=\"1\" class=\"dataframe\">\n",
       "  <thead>\n",
       "    <tr style=\"text-align: right;\">\n",
       "      <th></th>\n",
       "      <th>Player</th>\n",
       "      <th>Team</th>\n",
       "      <th>Rating</th>\n",
       "    </tr>\n",
       "  </thead>\n",
       "  <tbody>\n",
       "    <tr>\n",
       "      <th>0</th>\n",
       "      <td>Natalie Sciver</td>\n",
       "      <td>ENG</td>\n",
       "      <td>379</td>\n",
       "    </tr>\n",
       "    <tr>\n",
       "      <th>1</th>\n",
       "      <td>Ellyse Perry</td>\n",
       "      <td>AUS</td>\n",
       "      <td>374</td>\n",
       "    </tr>\n",
       "    <tr>\n",
       "      <th>2</th>\n",
       "      <td>Marizanne Kapp</td>\n",
       "      <td>SA</td>\n",
       "      <td>349</td>\n",
       "    </tr>\n",
       "    <tr>\n",
       "      <th>3</th>\n",
       "      <td>Hayley Matthews</td>\n",
       "      <td>WI</td>\n",
       "      <td>339</td>\n",
       "    </tr>\n",
       "    <tr>\n",
       "      <th>4</th>\n",
       "      <td>Amelia Kerr</td>\n",
       "      <td>NZ</td>\n",
       "      <td>336</td>\n",
       "    </tr>\n",
       "    <tr>\n",
       "      <th>5</th>\n",
       "      <td>Ashleigh Gardner</td>\n",
       "      <td>AUS</td>\n",
       "      <td>270</td>\n",
       "    </tr>\n",
       "    <tr>\n",
       "      <th>6</th>\n",
       "      <td>Deepti Sharma</td>\n",
       "      <td>IND</td>\n",
       "      <td>252</td>\n",
       "    </tr>\n",
       "    <tr>\n",
       "      <th>7</th>\n",
       "      <td>Jess Jonassen</td>\n",
       "      <td>AUS</td>\n",
       "      <td>246</td>\n",
       "    </tr>\n",
       "    <tr>\n",
       "      <th>8</th>\n",
       "      <td>Katherine Brunt</td>\n",
       "      <td>ENG</td>\n",
       "      <td>220</td>\n",
       "    </tr>\n",
       "    <tr>\n",
       "      <th>9</th>\n",
       "      <td>Stafanie Taylor</td>\n",
       "      <td>WI</td>\n",
       "      <td>207</td>\n",
       "    </tr>\n",
       "  </tbody>\n",
       "</table>\n",
       "</div>"
      ],
      "text/plain": [
       "             Player Team Rating\n",
       "0    Natalie Sciver  ENG    379\n",
       "1      Ellyse Perry  AUS    374\n",
       "2    Marizanne Kapp   SA    349\n",
       "3   Hayley Matthews   WI    339\n",
       "4       Amelia Kerr   NZ    336\n",
       "5  Ashleigh Gardner  AUS    270\n",
       "6     Deepti Sharma  IND    252\n",
       "7     Jess Jonassen  AUS    246\n",
       "8   Katherine Brunt  ENG    220\n",
       "9   Stafanie Taylor   WI    207"
      ]
     },
     "execution_count": 61,
     "metadata": {},
     "output_type": "execute_result"
    }
   ],
   "source": [
    "# Creating Dataframe\n",
    "df = pd.DataFrame(lis)\n",
    "df"
   ]
  },
  {
   "cell_type": "code",
   "execution_count": null,
   "id": "86dd9874",
   "metadata": {},
   "outputs": [],
   "source": []
  },
  {
   "cell_type": "markdown",
   "id": "0f43ae0e",
   "metadata": {},
   "source": [
    "# 7) Write a python program to scrape mentioned news details from https://www.cnbc.com/world/?region=world :\n",
    "#### i) Headline\n",
    "#### ii) Time\n",
    "#### iii) News Link\n"
   ]
  },
  {
   "cell_type": "code",
   "execution_count": 69,
   "id": "0a1284d8",
   "metadata": {},
   "outputs": [],
   "source": [
    "url = \"https://www.cnbc.com/world/?region=world%20:-{}-intl/index.html\""
   ]
  },
  {
   "cell_type": "code",
   "execution_count": 70,
   "id": "e42a5890",
   "metadata": {},
   "outputs": [
    {
     "data": {
      "text/plain": [
       "<Response [200]>"
      ]
     },
     "execution_count": 70,
     "metadata": {},
     "output_type": "execute_result"
    }
   ],
   "source": [
    "html = requests.get(url)\n",
    "html"
   ]
  },
  {
   "cell_type": "code",
   "execution_count": 71,
   "id": "251af81a",
   "metadata": {},
   "outputs": [],
   "source": [
    "soup = BeautifulSoup(html.content, 'html.parser')"
   ]
  },
  {
   "cell_type": "code",
   "execution_count": 72,
   "id": "103a17f2",
   "metadata": {},
   "outputs": [],
   "source": [
    "# Scraping Headline\n",
    "rank = []\n",
    "for i in soup.find_all('a',class_='LatestNews-headline'):\n",
    "    rank.append(i.text)"
   ]
  },
  {
   "cell_type": "code",
   "execution_count": 73,
   "id": "bb69885b",
   "metadata": {},
   "outputs": [],
   "source": [
    "# Scraping Time\n",
    "vi = []\n",
    "for i in soup.find_all('span',{'class':'LatestNews-wrapper'}):\n",
    "    vi.append(i.text)"
   ]
  },
  {
   "cell_type": "code",
   "execution_count": 76,
   "id": "a8100017",
   "metadata": {},
   "outputs": [],
   "source": [
    "# Scraping Url\n",
    "pa_url = []\n",
    "for link in soup.find_all('a', \n",
    "                          attrs={'href': re.compile(\"^https://\")}):\n",
    "      \n",
    "    pa_url.append(link.get('href'))\n"
   ]
  },
  {
   "cell_type": "code",
   "execution_count": 77,
   "id": "75a70e8e",
   "metadata": {},
   "outputs": [
    {
     "data": {
      "text/plain": [
       "['https://www.cnbc.com/2022/08/26/meta-horizon-vp-vivek-sharma-leaving.html',\n",
       " 'https://www.cnbc.com/2022/08/26/meta-horizon-vp-vivek-sharma-leaving.html',\n",
       " 'https://www.cnbc.com/2022/08/26/cnbc-in-5-minutes-all-the-buy-sell-and-hold-stock-calls-from-friday.html',\n",
       " 'https://www.cnbc.com/2022/08/26/monkeypox-cdc-optimistic-outbreak-might-be-slowing-as-cases-fall-in-major-cities.html',\n",
       " 'https://www.cnbc.com/2022/08/26/stocks-face-more-volatile-week-after-hawkish-fed-puts-focus-on-jobs.html',\n",
       " 'https://www.cnbc.com/2022/08/26/google-pixel-6a-fingerprint-issue-my-friend-unlocked-my-phone.html',\n",
       " 'https://www.cnbc.com/2022/08/26/investing-club-the-week-in-review-the-week-ahead-aug-26-2022.html',\n",
       " 'https://www.cnbc.com/2022/08/26/student-loan-forgiveness-borrowers-could-see-relief-before-december.html',\n",
       " 'https://www.cnbc.com/2022/08/26/arizona-senate-blake-masters-warned-to-raise-more-money-against-mark-kelly.html',\n",
       " 'https://www.cnbc.com/2022/08/26/google-employees-frustrated-after-office-covid-outbreaks.html',\n",
       " 'https://www.cnbc.com/2022/08/26/heres-how-bidens-student-loan-cancelation-affects-lenders-and-servicers.html',\n",
       " 'https://www.cnbc.com/2022/08/26/dr-oz-sides-with-energy-after-he-received-donations-from-heads-of-oil-gas-business.html',\n",
       " 'https://www.cnbc.com/2022/08/26/13-states-may-hit-borrowers-with-state-tax-liability-on-forgiven-student-loans.html',\n",
       " 'https://www.cnbc.com/2022/08/26/pelotons-partnership-with-amazon-wont-resolve-demand-profitability-issues-.html',\n",
       " 'https://www.cnbc.com/2022/08/26/secret-service-returns-fraudulent-pandemic-loans-to-small-business-administration.html',\n",
       " 'https://www.cnbc.com/2022/08/26/4-takeaways-from-the-investing-clubs-morning-meeting-on-friday.html',\n",
       " 'https://www.cnbc.com/2022/08/26/energy-is-the-big-winner-of-the-week-here-are-the-stocks-that-outperformed-and-what-analysts-think.html',\n",
       " 'https://www.cnbc.com/2022/08/26/cramer-blame-wishful-thinking-for-fridays-market-swoon-not-fed-chief-jerome-powell.html',\n",
       " 'https://www.cnbc.com/2022/08/26/stocks-making-the-biggest-moves-midday-affirm-electronic-arts-dell-seagen-and-more.html',\n",
       " 'https://www.cnbc.com/2022/08/26/why-the-us-military-faces-a-growing-recruiting-crisis.html',\n",
       " 'https://www.cnbc.com/2022/08/26/powells-speech-delivers-tough-lesson-to-markets-dont-fight-the-fed-.html',\n",
       " 'https://www.cnbc.com/2022/08/26/iphone-gestures-and-hidden-menus.html',\n",
       " 'https://www.cnbc.com/2022/08/26/investing-clubs-q2-2022-earnings-report-card.html',\n",
       " 'https://www.cnbc.com/2022/08/26/read-trump-raid-search-warrant-affidavit.html',\n",
       " 'https://www.cnbc.com/2022/08/26/brookings-long-covid-keeps-millions-of-americans-out-of-workforce.html',\n",
       " 'https://www.cnbc.com/2022/08/26/these-stocks-could-be-winners-even-after-the-inflation-reduction-acts-1percent-tax-on-buybacks.html',\n",
       " 'https://www.cnbc.com/2022/08/26/doj-reveals-redacted-affidavit-justifying-trump-mar-a-lago-raid.html',\n",
       " 'https://www.cnbc.com/2022/08/26/scammers-leverage-student-loan-forgiveness-ftc-says-heres-how-to-protect-yourself.html',\n",
       " 'https://www.cnbc.com/2022/08/26/more-details-emerge-about-biden-federal-student-debt-forgiveness-plan.html',\n",
       " 'https://www.cnbc.com/2022/08/26/game-of-thrones-hbo-renews-house-of-the-dragon-for-season-2.html']"
      ]
     },
     "execution_count": 77,
     "metadata": {},
     "output_type": "execute_result"
    }
   ],
   "source": [
    "b = pa_url[14:44]\n",
    "b"
   ]
  },
  {
   "cell_type": "code",
   "execution_count": null,
   "id": "8b656add",
   "metadata": {},
   "outputs": [],
   "source": []
  },
  {
   "cell_type": "code",
   "execution_count": 78,
   "id": "0c5ce07a",
   "metadata": {},
   "outputs": [
    {
     "data": {
      "text/html": [
       "<div>\n",
       "<style scoped>\n",
       "    .dataframe tbody tr th:only-of-type {\n",
       "        vertical-align: middle;\n",
       "    }\n",
       "\n",
       "    .dataframe tbody tr th {\n",
       "        vertical-align: top;\n",
       "    }\n",
       "\n",
       "    .dataframe thead th {\n",
       "        text-align: right;\n",
       "    }\n",
       "</style>\n",
       "<table border=\"1\" class=\"dataframe\">\n",
       "  <thead>\n",
       "    <tr style=\"text-align: right;\">\n",
       "      <th></th>\n",
       "      <th>Headline</th>\n",
       "      <th>Time</th>\n",
       "      <th>News Link</th>\n",
       "    </tr>\n",
       "  </thead>\n",
       "  <tbody>\n",
       "    <tr>\n",
       "      <th>0</th>\n",
       "      <td>A key leader for Meta's metaverse software is ...</td>\n",
       "      <td>11 Hours Ago</td>\n",
       "      <td>https://www.cnbc.com/2022/08/26/meta-horizon-v...</td>\n",
       "    </tr>\n",
       "    <tr>\n",
       "      <th>1</th>\n",
       "      <td>CNBC in 5 minutes: All the buy, sell and hold ...</td>\n",
       "      <td>12 Hours Ago</td>\n",
       "      <td>https://www.cnbc.com/2022/08/26/meta-horizon-v...</td>\n",
       "    </tr>\n",
       "    <tr>\n",
       "      <th>2</th>\n",
       "      <td>CDC cautiously optimistic monkeypox outbreak m...</td>\n",
       "      <td>12 Hours Ago</td>\n",
       "      <td>https://www.cnbc.com/2022/08/26/cnbc-in-5-minu...</td>\n",
       "    </tr>\n",
       "    <tr>\n",
       "      <th>3</th>\n",
       "      <td>What to watch in the markets in the week ahead</td>\n",
       "      <td>13 Hours Ago</td>\n",
       "      <td>https://www.cnbc.com/2022/08/26/monkeypox-cdc-...</td>\n",
       "    </tr>\n",
       "    <tr>\n",
       "      <th>4</th>\n",
       "      <td>My friend was able to unlock my new Google pho...</td>\n",
       "      <td>13 Hours Ago</td>\n",
       "      <td>https://www.cnbc.com/2022/08/26/stocks-face-mo...</td>\n",
       "    </tr>\n",
       "    <tr>\n",
       "      <th>5</th>\n",
       "      <td>Investing Club: The week in review, the week a...</td>\n",
       "      <td>13 Hours Ago</td>\n",
       "      <td>https://www.cnbc.com/2022/08/26/google-pixel-6...</td>\n",
       "    </tr>\n",
       "    <tr>\n",
       "      <th>6</th>\n",
       "      <td>Student loan forgiveness: It could take 'sever...</td>\n",
       "      <td>13 Hours Ago</td>\n",
       "      <td>https://www.cnbc.com/2022/08/26/investing-club...</td>\n",
       "    </tr>\n",
       "    <tr>\n",
       "      <th>7</th>\n",
       "      <td>GOP warns Arizona Senate hopeful Masters to ra...</td>\n",
       "      <td>14 Hours Ago</td>\n",
       "      <td>https://www.cnbc.com/2022/08/26/student-loan-f...</td>\n",
       "    </tr>\n",
       "    <tr>\n",
       "      <th>8</th>\n",
       "      <td>Google employees frustrated by Covid outbreaks...</td>\n",
       "      <td>14 Hours Ago</td>\n",
       "      <td>https://www.cnbc.com/2022/08/26/arizona-senate...</td>\n",
       "    </tr>\n",
       "    <tr>\n",
       "      <th>9</th>\n",
       "      <td>Here's how Biden's student loan cancellation a...</td>\n",
       "      <td>14 Hours Ago</td>\n",
       "      <td>https://www.cnbc.com/2022/08/26/google-employe...</td>\n",
       "    </tr>\n",
       "    <tr>\n",
       "      <th>10</th>\n",
       "      <td>Dr. Oz defends energy industry, which has boos...</td>\n",
       "      <td>15 Hours Ago</td>\n",
       "      <td>https://www.cnbc.com/2022/08/26/heres-how-bide...</td>\n",
       "    </tr>\n",
       "    <tr>\n",
       "      <th>11</th>\n",
       "      <td>These 13 states may tax student loan forgiveness</td>\n",
       "      <td>15 Hours Ago</td>\n",
       "      <td>https://www.cnbc.com/2022/08/26/dr-oz-sides-wi...</td>\n",
       "    </tr>\n",
       "    <tr>\n",
       "      <th>12</th>\n",
       "      <td>Why Peloton's partnership with Amazon won't re...</td>\n",
       "      <td>15 Hours Ago</td>\n",
       "      <td>https://www.cnbc.com/2022/08/26/13-states-may-...</td>\n",
       "    </tr>\n",
       "    <tr>\n",
       "      <th>13</th>\n",
       "      <td>Secret Service returns $286 million in fraudul...</td>\n",
       "      <td>15 Hours Ago</td>\n",
       "      <td>https://www.cnbc.com/2022/08/26/pelotons-partn...</td>\n",
       "    </tr>\n",
       "    <tr>\n",
       "      <th>14</th>\n",
       "      <td>4 Takeaways from the Investing Club’s ‘Morning...</td>\n",
       "      <td>15 Hours Ago</td>\n",
       "      <td>https://www.cnbc.com/2022/08/26/secret-service...</td>\n",
       "    </tr>\n",
       "    <tr>\n",
       "      <th>15</th>\n",
       "      <td>Energy is the big winner of the week. Here are...</td>\n",
       "      <td>15 Hours Ago</td>\n",
       "      <td>https://www.cnbc.com/2022/08/26/4-takeaways-fr...</td>\n",
       "    </tr>\n",
       "    <tr>\n",
       "      <th>16</th>\n",
       "      <td>Cramer: Blame wishful thinking for Friday's ma...</td>\n",
       "      <td>15 Hours Ago</td>\n",
       "      <td>https://www.cnbc.com/2022/08/26/energy-is-the-...</td>\n",
       "    </tr>\n",
       "    <tr>\n",
       "      <th>17</th>\n",
       "      <td>Stocks making the biggest moves midday: Affirm...</td>\n",
       "      <td>16 Hours Ago</td>\n",
       "      <td>https://www.cnbc.com/2022/08/26/cramer-blame-w...</td>\n",
       "    </tr>\n",
       "    <tr>\n",
       "      <th>18</th>\n",
       "      <td>Why the U.S. military faces a growing recruiti...</td>\n",
       "      <td>16 Hours Ago</td>\n",
       "      <td>https://www.cnbc.com/2022/08/26/stocks-making-...</td>\n",
       "    </tr>\n",
       "    <tr>\n",
       "      <th>19</th>\n",
       "      <td>Powell's speech delivers tough lesson to marke...</td>\n",
       "      <td>16 Hours Ago</td>\n",
       "      <td>https://www.cnbc.com/2022/08/26/why-the-us-mil...</td>\n",
       "    </tr>\n",
       "    <tr>\n",
       "      <th>20</th>\n",
       "      <td>There are a bunch of hidden menus on your iPho...</td>\n",
       "      <td>16 Hours Ago</td>\n",
       "      <td>https://www.cnbc.com/2022/08/26/powells-speech...</td>\n",
       "    </tr>\n",
       "    <tr>\n",
       "      <th>21</th>\n",
       "      <td>Here's our second-quarter earnings report card...</td>\n",
       "      <td>16 Hours Ago</td>\n",
       "      <td>https://www.cnbc.com/2022/08/26/iphone-gesture...</td>\n",
       "    </tr>\n",
       "    <tr>\n",
       "      <th>22</th>\n",
       "      <td>Read the redacted document justifying the Trum...</td>\n",
       "      <td>17 Hours Ago</td>\n",
       "      <td>https://www.cnbc.com/2022/08/26/investing-club...</td>\n",
       "    </tr>\n",
       "    <tr>\n",
       "      <th>23</th>\n",
       "      <td>Long Covid could be responsible for about a th...</td>\n",
       "      <td>17 Hours Ago</td>\n",
       "      <td>https://www.cnbc.com/2022/08/26/read-trump-rai...</td>\n",
       "    </tr>\n",
       "    <tr>\n",
       "      <th>24</th>\n",
       "      <td>Picking stock winners from the Inflation Reduc...</td>\n",
       "      <td>17 Hours Ago</td>\n",
       "      <td>https://www.cnbc.com/2022/08/26/brookings-long...</td>\n",
       "    </tr>\n",
       "    <tr>\n",
       "      <th>25</th>\n",
       "      <td>DOJ reveals redacted affidavit justifying Trum...</td>\n",
       "      <td>17 Hours Ago</td>\n",
       "      <td>https://www.cnbc.com/2022/08/26/these-stocks-c...</td>\n",
       "    </tr>\n",
       "    <tr>\n",
       "      <th>26</th>\n",
       "      <td>Scammers are using student loan forgiveness as...</td>\n",
       "      <td>17 Hours Ago</td>\n",
       "      <td>https://www.cnbc.com/2022/08/26/doj-reveals-re...</td>\n",
       "    </tr>\n",
       "    <tr>\n",
       "      <th>27</th>\n",
       "      <td>More details emerge about Biden federal studen...</td>\n",
       "      <td>18 Hours Ago</td>\n",
       "      <td>https://www.cnbc.com/2022/08/26/scammers-lever...</td>\n",
       "    </tr>\n",
       "    <tr>\n",
       "      <th>28</th>\n",
       "      <td>HBO's 'Game of Thrones' prequel gets season 2 ...</td>\n",
       "      <td>18 Hours Ago</td>\n",
       "      <td>https://www.cnbc.com/2022/08/26/more-details-e...</td>\n",
       "    </tr>\n",
       "    <tr>\n",
       "      <th>29</th>\n",
       "      <td>We're again reducing our energy exposure, trim...</td>\n",
       "      <td>18 Hours Ago</td>\n",
       "      <td>https://www.cnbc.com/2022/08/26/game-of-throne...</td>\n",
       "    </tr>\n",
       "  </tbody>\n",
       "</table>\n",
       "</div>"
      ],
      "text/plain": [
       "                                             Headline          Time  \\\n",
       "0   A key leader for Meta's metaverse software is ...  11 Hours Ago   \n",
       "1   CNBC in 5 minutes: All the buy, sell and hold ...  12 Hours Ago   \n",
       "2   CDC cautiously optimistic monkeypox outbreak m...  12 Hours Ago   \n",
       "3      What to watch in the markets in the week ahead  13 Hours Ago   \n",
       "4   My friend was able to unlock my new Google pho...  13 Hours Ago   \n",
       "5   Investing Club: The week in review, the week a...  13 Hours Ago   \n",
       "6   Student loan forgiveness: It could take 'sever...  13 Hours Ago   \n",
       "7   GOP warns Arizona Senate hopeful Masters to ra...  14 Hours Ago   \n",
       "8   Google employees frustrated by Covid outbreaks...  14 Hours Ago   \n",
       "9   Here's how Biden's student loan cancellation a...  14 Hours Ago   \n",
       "10  Dr. Oz defends energy industry, which has boos...  15 Hours Ago   \n",
       "11  These 13 states may tax student loan forgiveness   15 Hours Ago   \n",
       "12  Why Peloton's partnership with Amazon won't re...  15 Hours Ago   \n",
       "13  Secret Service returns $286 million in fraudul...  15 Hours Ago   \n",
       "14  4 Takeaways from the Investing Club’s ‘Morning...  15 Hours Ago   \n",
       "15  Energy is the big winner of the week. Here are...  15 Hours Ago   \n",
       "16  Cramer: Blame wishful thinking for Friday's ma...  15 Hours Ago   \n",
       "17  Stocks making the biggest moves midday: Affirm...  16 Hours Ago   \n",
       "18  Why the U.S. military faces a growing recruiti...  16 Hours Ago   \n",
       "19  Powell's speech delivers tough lesson to marke...  16 Hours Ago   \n",
       "20  There are a bunch of hidden menus on your iPho...  16 Hours Ago   \n",
       "21  Here's our second-quarter earnings report card...  16 Hours Ago   \n",
       "22  Read the redacted document justifying the Trum...  17 Hours Ago   \n",
       "23  Long Covid could be responsible for about a th...  17 Hours Ago   \n",
       "24  Picking stock winners from the Inflation Reduc...  17 Hours Ago   \n",
       "25  DOJ reveals redacted affidavit justifying Trum...  17 Hours Ago   \n",
       "26  Scammers are using student loan forgiveness as...  17 Hours Ago   \n",
       "27  More details emerge about Biden federal studen...  18 Hours Ago   \n",
       "28  HBO's 'Game of Thrones' prequel gets season 2 ...  18 Hours Ago   \n",
       "29  We're again reducing our energy exposure, trim...  18 Hours Ago   \n",
       "\n",
       "                                            News Link  \n",
       "0   https://www.cnbc.com/2022/08/26/meta-horizon-v...  \n",
       "1   https://www.cnbc.com/2022/08/26/meta-horizon-v...  \n",
       "2   https://www.cnbc.com/2022/08/26/cnbc-in-5-minu...  \n",
       "3   https://www.cnbc.com/2022/08/26/monkeypox-cdc-...  \n",
       "4   https://www.cnbc.com/2022/08/26/stocks-face-mo...  \n",
       "5   https://www.cnbc.com/2022/08/26/google-pixel-6...  \n",
       "6   https://www.cnbc.com/2022/08/26/investing-club...  \n",
       "7   https://www.cnbc.com/2022/08/26/student-loan-f...  \n",
       "8   https://www.cnbc.com/2022/08/26/arizona-senate...  \n",
       "9   https://www.cnbc.com/2022/08/26/google-employe...  \n",
       "10  https://www.cnbc.com/2022/08/26/heres-how-bide...  \n",
       "11  https://www.cnbc.com/2022/08/26/dr-oz-sides-wi...  \n",
       "12  https://www.cnbc.com/2022/08/26/13-states-may-...  \n",
       "13  https://www.cnbc.com/2022/08/26/pelotons-partn...  \n",
       "14  https://www.cnbc.com/2022/08/26/secret-service...  \n",
       "15  https://www.cnbc.com/2022/08/26/4-takeaways-fr...  \n",
       "16  https://www.cnbc.com/2022/08/26/energy-is-the-...  \n",
       "17  https://www.cnbc.com/2022/08/26/cramer-blame-w...  \n",
       "18  https://www.cnbc.com/2022/08/26/stocks-making-...  \n",
       "19  https://www.cnbc.com/2022/08/26/why-the-us-mil...  \n",
       "20  https://www.cnbc.com/2022/08/26/powells-speech...  \n",
       "21  https://www.cnbc.com/2022/08/26/iphone-gesture...  \n",
       "22  https://www.cnbc.com/2022/08/26/investing-club...  \n",
       "23  https://www.cnbc.com/2022/08/26/read-trump-rai...  \n",
       "24  https://www.cnbc.com/2022/08/26/brookings-long...  \n",
       "25  https://www.cnbc.com/2022/08/26/these-stocks-c...  \n",
       "26  https://www.cnbc.com/2022/08/26/doj-reveals-re...  \n",
       "27  https://www.cnbc.com/2022/08/26/scammers-lever...  \n",
       "28  https://www.cnbc.com/2022/08/26/more-details-e...  \n",
       "29  https://www.cnbc.com/2022/08/26/game-of-throne...  "
      ]
     },
     "execution_count": 78,
     "metadata": {},
     "output_type": "execute_result"
    }
   ],
   "source": [
    "# Creating DataFrame\n",
    "data = list(zip(rank,vi,b))\n",
    "df = pd.DataFrame(data, columns=['Headline','Time','News Link'])\n",
    "df"
   ]
  },
  {
   "cell_type": "code",
   "execution_count": null,
   "id": "1d1b31e8",
   "metadata": {},
   "outputs": [],
   "source": []
  },
  {
   "cell_type": "markdown",
   "id": "70978694",
   "metadata": {},
   "source": [
    "## 8) Write a python program to scrape the details of most downloaded articles from AI in last 90 days.\n",
    "https://www.journals.elsevier.com/artificial-intelligence/most-downloaded-articles\n",
    "### Scrape below mentioned details :\n",
    "#### i) Paper Title\n",
    "#### ii) Authors\n",
    "#### iii) Published Date\n",
    "#### iv) Paper URL "
   ]
  },
  {
   "cell_type": "code",
   "execution_count": 40,
   "id": "dee6e943",
   "metadata": {},
   "outputs": [],
   "source": [
    "# URL link\n",
    "url = \"https://www.journals.elsevier.com/artificial-intelligence/most-downloaded-articles\""
   ]
  },
  {
   "cell_type": "code",
   "execution_count": 41,
   "id": "1fbd64c3",
   "metadata": {},
   "outputs": [
    {
     "data": {
      "text/plain": [
       "<Response [200]>"
      ]
     },
     "execution_count": 41,
     "metadata": {},
     "output_type": "execute_result"
    }
   ],
   "source": [
    "# Seeking Request\n",
    "html = requests.get(url)\n",
    "html"
   ]
  },
  {
   "cell_type": "code",
   "execution_count": 42,
   "id": "03383e62",
   "metadata": {},
   "outputs": [],
   "source": [
    "# Assign Soup\n",
    "soup = BeautifulSoup(html.content, 'html.parser')"
   ]
  },
  {
   "cell_type": "code",
   "execution_count": 44,
   "id": "b6fcd719",
   "metadata": {},
   "outputs": [],
   "source": [
    "# Scraping Paper title\n",
    "title =[]\n",
    "for link in soup.find_all('h2'):\n",
    "    title.append(link.text)"
   ]
  },
  {
   "cell_type": "code",
   "execution_count": 45,
   "id": "67399fa7",
   "metadata": {},
   "outputs": [],
   "source": [
    "# Scraping Authors name\n",
    "aur = []\n",
    "for link in soup.find_all('span',{'class':'sc-1w3fpd7-0 pgLAT'}):\n",
    "    aur.append(link.text)"
   ]
  },
  {
   "cell_type": "code",
   "execution_count": 46,
   "id": "fbd3b270",
   "metadata": {},
   "outputs": [],
   "source": [
    "# Publication date\n",
    "pub_date = []\n",
    "for link in soup.find_all('span',{'class':'sc-1thf9ly-2 bKddwo'}):\n",
    "    pub_date.append(link.text)"
   ]
  },
  {
   "cell_type": "code",
   "execution_count": 50,
   "id": "c690ea2e",
   "metadata": {},
   "outputs": [],
   "source": [
    "# url\n",
    "import re\n",
    "  \n",
    "pa_url = []\n",
    "for link in soup.find_all('a', \n",
    "                          attrs={'href': re.compile(\"^https://\")}):\n",
    "      \n",
    "    pa_url.append(link.get('href'))\n"
   ]
  },
  {
   "cell_type": "code",
   "execution_count": 51,
   "id": "c9ebbad8",
   "metadata": {},
   "outputs": [],
   "source": [
    "a = (pa_url)[50:75]"
   ]
  },
  {
   "cell_type": "code",
   "execution_count": 53,
   "id": "42adb642",
   "metadata": {},
   "outputs": [
    {
     "data": {
      "text/html": [
       "<div>\n",
       "<style scoped>\n",
       "    .dataframe tbody tr th:only-of-type {\n",
       "        vertical-align: middle;\n",
       "    }\n",
       "\n",
       "    .dataframe tbody tr th {\n",
       "        vertical-align: top;\n",
       "    }\n",
       "\n",
       "    .dataframe thead th {\n",
       "        text-align: right;\n",
       "    }\n",
       "</style>\n",
       "<table border=\"1\" class=\"dataframe\">\n",
       "  <thead>\n",
       "    <tr style=\"text-align: right;\">\n",
       "      <th></th>\n",
       "      <th>Paper Title</th>\n",
       "      <th>Authors</th>\n",
       "      <th>Publication date</th>\n",
       "      <th>Paper URL</th>\n",
       "    </tr>\n",
       "  </thead>\n",
       "  <tbody>\n",
       "    <tr>\n",
       "      <th>0</th>\n",
       "      <td>Reward is enough</td>\n",
       "      <td>Silver, David, Singh, Satinder, Precup, Doina,...</td>\n",
       "      <td>October 2021</td>\n",
       "      <td>https://www.sciencedirect.com/science/article/...</td>\n",
       "    </tr>\n",
       "    <tr>\n",
       "      <th>1</th>\n",
       "      <td>Making sense of raw input</td>\n",
       "      <td>Evans, Richard, Bošnjak, Matko and 5 more</td>\n",
       "      <td>October 2021</td>\n",
       "      <td>https://www.sciencedirect.com/science/article/...</td>\n",
       "    </tr>\n",
       "    <tr>\n",
       "      <th>2</th>\n",
       "      <td>Law and logic: A review from an argumentation ...</td>\n",
       "      <td>Prakken, Henry, Sartor, Giovanni</td>\n",
       "      <td>October 2015</td>\n",
       "      <td>https://www.sciencedirect.com/science/article/...</td>\n",
       "    </tr>\n",
       "    <tr>\n",
       "      <th>3</th>\n",
       "      <td>Creativity and artificial intelligence</td>\n",
       "      <td>Boden, Margaret A.</td>\n",
       "      <td>August 1998</td>\n",
       "      <td>https://www.sciencedirect.com/science/article/...</td>\n",
       "    </tr>\n",
       "    <tr>\n",
       "      <th>4</th>\n",
       "      <td>Artificial cognition for social human–robot in...</td>\n",
       "      <td>Lemaignan, Séverin, Warnier, Mathieu and 3 more</td>\n",
       "      <td>June 2017</td>\n",
       "      <td>https://www.sciencedirect.com/science/article/...</td>\n",
       "    </tr>\n",
       "    <tr>\n",
       "      <th>5</th>\n",
       "      <td>Explanation in artificial intelligence: Insigh...</td>\n",
       "      <td>Miller, Tim</td>\n",
       "      <td>February 2019</td>\n",
       "      <td>https://www.sciencedirect.com/science/article/...</td>\n",
       "    </tr>\n",
       "    <tr>\n",
       "      <th>6</th>\n",
       "      <td>Making sense of sensory input</td>\n",
       "      <td>Evans, Richard, Hernández-Orallo, José and 3 more</td>\n",
       "      <td>April 2021</td>\n",
       "      <td>https://www.sciencedirect.com/science/article/...</td>\n",
       "    </tr>\n",
       "    <tr>\n",
       "      <th>7</th>\n",
       "      <td>Conflict-based search for optimal multi-agent ...</td>\n",
       "      <td>Sharon, Guni, Stern, Roni, Felner, Ariel, Stur...</td>\n",
       "      <td>February 2015</td>\n",
       "      <td>https://www.sciencedirect.com/science/article/...</td>\n",
       "    </tr>\n",
       "    <tr>\n",
       "      <th>8</th>\n",
       "      <td>Between MDPs and semi-MDPs: A framework for te...</td>\n",
       "      <td>Sutton, Richard S., Precup, Doina, Singh, Sati...</td>\n",
       "      <td>August 1999</td>\n",
       "      <td>https://www.sciencedirect.com/science/article/...</td>\n",
       "    </tr>\n",
       "    <tr>\n",
       "      <th>9</th>\n",
       "      <td>The Hanabi challenge: A new frontier for AI re...</td>\n",
       "      <td>Bard, Nolan, Foerster, Jakob N. and 13 more</td>\n",
       "      <td>March 2020</td>\n",
       "      <td>https://www.sciencedirect.com/science/article/...</td>\n",
       "    </tr>\n",
       "    <tr>\n",
       "      <th>10</th>\n",
       "      <td>Evaluating XAI: A comparison of rule-based and...</td>\n",
       "      <td>van der Waa, Jasper, Nieuwburg, Elisabeth, Cre...</td>\n",
       "      <td>February 2021</td>\n",
       "      <td>https://www.sciencedirect.com/science/article/...</td>\n",
       "    </tr>\n",
       "    <tr>\n",
       "      <th>11</th>\n",
       "      <td>Argumentation in artificial intelligence</td>\n",
       "      <td>Bench-Capon, T.J.M., Dunne, Paul E.</td>\n",
       "      <td>October 2007</td>\n",
       "      <td>https://www.sciencedirect.com/science/article/...</td>\n",
       "    </tr>\n",
       "    <tr>\n",
       "      <th>12</th>\n",
       "      <td>Algorithms for computing strategies in two-pla...</td>\n",
       "      <td>Bošanský, Branislav, Lisý, Viliam and 3 more</td>\n",
       "      <td>August 2016</td>\n",
       "      <td>https://www.sciencedirect.com/science/article/...</td>\n",
       "    </tr>\n",
       "    <tr>\n",
       "      <th>13</th>\n",
       "      <td>Multiple object tracking: A literature review</td>\n",
       "      <td>Luo, Wenhan, Xing, Junliang and 4 more</td>\n",
       "      <td>April 2021</td>\n",
       "      <td>https://www.sciencedirect.com/science/article/...</td>\n",
       "    </tr>\n",
       "    <tr>\n",
       "      <th>14</th>\n",
       "      <td>Selection of relevant features and examples in...</td>\n",
       "      <td>Blum, Avrim L., Langley, Pat</td>\n",
       "      <td>December 1997</td>\n",
       "      <td>https://www.sciencedirect.com/science/article/...</td>\n",
       "    </tr>\n",
       "    <tr>\n",
       "      <th>15</th>\n",
       "      <td>A survey of inverse reinforcement learning: Ch...</td>\n",
       "      <td>Arora, Saurabh, Doshi, Prashant</td>\n",
       "      <td>August 2021</td>\n",
       "      <td>https://www.sciencedirect.com/science/article/...</td>\n",
       "    </tr>\n",
       "    <tr>\n",
       "      <th>16</th>\n",
       "      <td>Explaining individual predictions when feature...</td>\n",
       "      <td>Aas, Kjersti, Jullum, Martin, Løland, Anders</td>\n",
       "      <td>September 2021</td>\n",
       "      <td>https://www.sciencedirect.com/science/article/...</td>\n",
       "    </tr>\n",
       "    <tr>\n",
       "      <th>17</th>\n",
       "      <td>A review of possible effects of cognitive bias...</td>\n",
       "      <td>Kliegr, Tomáš, Bahník, Štěpán, Fürnkranz, Joha...</td>\n",
       "      <td>June 2021</td>\n",
       "      <td>https://www.sciencedirect.com/science/article/...</td>\n",
       "    </tr>\n",
       "    <tr>\n",
       "      <th>18</th>\n",
       "      <td>Integrating social power into the decision-mak...</td>\n",
       "      <td>Pereira, Gonçalo, Prada, Rui, Santos, Pedro A.</td>\n",
       "      <td>December 2016</td>\n",
       "      <td>https://www.sciencedirect.com/science/article/...</td>\n",
       "    </tr>\n",
       "    <tr>\n",
       "      <th>19</th>\n",
       "      <td>“That's (not) the output I expected!” On the r...</td>\n",
       "      <td>Riveiro, Maria, Thill, Serge</td>\n",
       "      <td>September 2021</td>\n",
       "      <td>https://www.sciencedirect.com/science/article/...</td>\n",
       "    </tr>\n",
       "    <tr>\n",
       "      <th>20</th>\n",
       "      <td>Explaining black-box classifiers using post-ho...</td>\n",
       "      <td>Kenny, Eoin M., Ford, Courtney, Quinn, Molly, ...</td>\n",
       "      <td>May 2021</td>\n",
       "      <td>https://www.sciencedirect.com/science/article/...</td>\n",
       "    </tr>\n",
       "    <tr>\n",
       "      <th>21</th>\n",
       "      <td>Algorithm runtime prediction: Methods &amp; evalua...</td>\n",
       "      <td>Hutter, Frank, Xu, Lin, Hoos, Holger H., Leyto...</td>\n",
       "      <td>January 2014</td>\n",
       "      <td>https://www.sciencedirect.com/science/article/...</td>\n",
       "    </tr>\n",
       "    <tr>\n",
       "      <th>22</th>\n",
       "      <td>Wrappers for feature subset selection</td>\n",
       "      <td>Kohavi, Ron, John, George H.</td>\n",
       "      <td>December 1997</td>\n",
       "      <td>https://www.sciencedirect.com/science/article/...</td>\n",
       "    </tr>\n",
       "    <tr>\n",
       "      <th>23</th>\n",
       "      <td>Commonsense visual sensemaking for autonomous ...</td>\n",
       "      <td>Suchan, Jakob, Bhatt, Mehul, Varadarajan, Srik...</td>\n",
       "      <td>October 2021</td>\n",
       "      <td>https://www.sciencedirect.com/science/article/...</td>\n",
       "    </tr>\n",
       "    <tr>\n",
       "      <th>24</th>\n",
       "      <td>Quantum computation, quantum theory and AI</td>\n",
       "      <td>Ying, Mingsheng</td>\n",
       "      <td>February 2010</td>\n",
       "      <td>https://www.sciencedirect.com/science/article/...</td>\n",
       "    </tr>\n",
       "  </tbody>\n",
       "</table>\n",
       "</div>"
      ],
      "text/plain": [
       "                                          Paper Title  \\\n",
       "0                                    Reward is enough   \n",
       "1                           Making sense of raw input   \n",
       "2   Law and logic: A review from an argumentation ...   \n",
       "3              Creativity and artificial intelligence   \n",
       "4   Artificial cognition for social human–robot in...   \n",
       "5   Explanation in artificial intelligence: Insigh...   \n",
       "6                       Making sense of sensory input   \n",
       "7   Conflict-based search for optimal multi-agent ...   \n",
       "8   Between MDPs and semi-MDPs: A framework for te...   \n",
       "9   The Hanabi challenge: A new frontier for AI re...   \n",
       "10  Evaluating XAI: A comparison of rule-based and...   \n",
       "11           Argumentation in artificial intelligence   \n",
       "12  Algorithms for computing strategies in two-pla...   \n",
       "13      Multiple object tracking: A literature review   \n",
       "14  Selection of relevant features and examples in...   \n",
       "15  A survey of inverse reinforcement learning: Ch...   \n",
       "16  Explaining individual predictions when feature...   \n",
       "17  A review of possible effects of cognitive bias...   \n",
       "18  Integrating social power into the decision-mak...   \n",
       "19  “That's (not) the output I expected!” On the r...   \n",
       "20  Explaining black-box classifiers using post-ho...   \n",
       "21  Algorithm runtime prediction: Methods & evalua...   \n",
       "22              Wrappers for feature subset selection   \n",
       "23  Commonsense visual sensemaking for autonomous ...   \n",
       "24         Quantum computation, quantum theory and AI   \n",
       "\n",
       "                                              Authors Publication date  \\\n",
       "0   Silver, David, Singh, Satinder, Precup, Doina,...     October 2021   \n",
       "1           Evans, Richard, Bošnjak, Matko and 5 more     October 2021   \n",
       "2                   Prakken, Henry, Sartor, Giovanni      October 2015   \n",
       "3                                 Boden, Margaret A.       August 1998   \n",
       "4     Lemaignan, Séverin, Warnier, Mathieu and 3 more        June 2017   \n",
       "5                                        Miller, Tim     February 2019   \n",
       "6   Evans, Richard, Hernández-Orallo, José and 3 more       April 2021   \n",
       "7   Sharon, Guni, Stern, Roni, Felner, Ariel, Stur...    February 2015   \n",
       "8   Sutton, Richard S., Precup, Doina, Singh, Sati...      August 1999   \n",
       "9         Bard, Nolan, Foerster, Jakob N. and 13 more       March 2020   \n",
       "10  van der Waa, Jasper, Nieuwburg, Elisabeth, Cre...    February 2021   \n",
       "11               Bench-Capon, T.J.M., Dunne, Paul E.      October 2007   \n",
       "12       Bošanský, Branislav, Lisý, Viliam and 3 more      August 2016   \n",
       "13             Luo, Wenhan, Xing, Junliang and 4 more       April 2021   \n",
       "14                      Blum, Avrim L., Langley, Pat     December 1997   \n",
       "15                   Arora, Saurabh, Doshi, Prashant       August 2021   \n",
       "16      Aas, Kjersti, Jullum, Martin, Løland, Anders    September 2021   \n",
       "17  Kliegr, Tomáš, Bahník, Štěpán, Fürnkranz, Joha...        June 2021   \n",
       "18    Pereira, Gonçalo, Prada, Rui, Santos, Pedro A.     December 2016   \n",
       "19                      Riveiro, Maria, Thill, Serge    September 2021   \n",
       "20  Kenny, Eoin M., Ford, Courtney, Quinn, Molly, ...         May 2021   \n",
       "21  Hutter, Frank, Xu, Lin, Hoos, Holger H., Leyto...     January 2014   \n",
       "22                      Kohavi, Ron, John, George H.     December 1997   \n",
       "23  Suchan, Jakob, Bhatt, Mehul, Varadarajan, Srik...     October 2021   \n",
       "24                                   Ying, Mingsheng     February 2010   \n",
       "\n",
       "                                            Paper URL  \n",
       "0   https://www.sciencedirect.com/science/article/...  \n",
       "1   https://www.sciencedirect.com/science/article/...  \n",
       "2   https://www.sciencedirect.com/science/article/...  \n",
       "3   https://www.sciencedirect.com/science/article/...  \n",
       "4   https://www.sciencedirect.com/science/article/...  \n",
       "5   https://www.sciencedirect.com/science/article/...  \n",
       "6   https://www.sciencedirect.com/science/article/...  \n",
       "7   https://www.sciencedirect.com/science/article/...  \n",
       "8   https://www.sciencedirect.com/science/article/...  \n",
       "9   https://www.sciencedirect.com/science/article/...  \n",
       "10  https://www.sciencedirect.com/science/article/...  \n",
       "11  https://www.sciencedirect.com/science/article/...  \n",
       "12  https://www.sciencedirect.com/science/article/...  \n",
       "13  https://www.sciencedirect.com/science/article/...  \n",
       "14  https://www.sciencedirect.com/science/article/...  \n",
       "15  https://www.sciencedirect.com/science/article/...  \n",
       "16  https://www.sciencedirect.com/science/article/...  \n",
       "17  https://www.sciencedirect.com/science/article/...  \n",
       "18  https://www.sciencedirect.com/science/article/...  \n",
       "19  https://www.sciencedirect.com/science/article/...  \n",
       "20  https://www.sciencedirect.com/science/article/...  \n",
       "21  https://www.sciencedirect.com/science/article/...  \n",
       "22  https://www.sciencedirect.com/science/article/...  \n",
       "23  https://www.sciencedirect.com/science/article/...  \n",
       "24  https://www.sciencedirect.com/science/article/...  "
      ]
     },
     "execution_count": 53,
     "metadata": {},
     "output_type": "execute_result"
    }
   ],
   "source": [
    "# Creating dataframe\n",
    "data = list(zip(title,aur,pub_date,a))\n",
    "df = pd.DataFrame(data, columns=['Paper Title','Authors','Publication date','Paper URL'])\n",
    "df"
   ]
  },
  {
   "cell_type": "markdown",
   "id": "2789cdd9",
   "metadata": {},
   "source": [
    "## 9) Write a python program to scrape mentioned details from dineout.co.in :\n",
    "#### i) Restaurant name\n",
    "#### ii) Cuisine\n",
    "#### iii) Location\n",
    "#### iv) Ratings\n",
    "#### v) Image URL\n"
   ]
  },
  {
   "cell_type": "code",
   "execution_count": 89,
   "id": "4c8f53dc",
   "metadata": {},
   "outputs": [
    {
     "data": {
      "text/plain": [
       "<Response [200]>"
      ]
     },
     "execution_count": 89,
     "metadata": {},
     "output_type": "execute_result"
    }
   ],
   "source": [
    "URL = \"https://www.dineout.co.in/delhi-restaurants/buffet-special\"\n",
    "re = requests.get(URL)\n",
    "re"
   ]
  },
  {
   "cell_type": "code",
   "execution_count": 90,
   "id": "0b0f82ac",
   "metadata": {},
   "outputs": [],
   "source": [
    "restro_name = []\n",
    "for i in soup.find_all('div',{'class':'restnt-info cursor'}):\n",
    "    restro_name.append(i.text)\n",
    "    "
   ]
  },
  {
   "cell_type": "code",
   "execution_count": 91,
   "id": "802d1bb5",
   "metadata": {},
   "outputs": [
    {
     "data": {
      "text/plain": [
       "['Castle BarbequeConnaught Place, Central Delhi',\n",
       " 'Jungle Jamboree3CS Mall,Lajpat Nagar - 3, South Delhi',\n",
       " 'Castle BarbequePacific Mall,Tagore Garden, West Delhi',\n",
       " 'Cafe KnoshThe Leela Ambience Convention Hotel,Shahdara, East Delhi',\n",
       " 'The Barbeque CompanyGardens Galleria,Sector 38A, Noida',\n",
       " 'India GrillHilton Garden Inn,Saket, South Delhi',\n",
       " 'Delhi BarbequeTaurus Sarovar Portico,Mahipalpur, South Delhi',\n",
       " 'The Monarch - Bar Be Que VillageIndirapuram Habitat Centre,Indirapuram, Ghaziabad',\n",
       " 'Indian Grill RoomSuncity Business Tower,Golf Course Road, Gurgaon']"
      ]
     },
     "execution_count": 91,
     "metadata": {},
     "output_type": "execute_result"
    }
   ],
   "source": [
    "restro_name"
   ]
  },
  {
   "cell_type": "code",
   "execution_count": 92,
   "id": "36d9367a",
   "metadata": {},
   "outputs": [],
   "source": [
    "cuisines = []\n",
    "for i in soup.find_all('span',{'class':('double-line-ellipsis')}):\n",
    "    \n",
    "    cuisines.append(i.text.replace('for 2 (approx) |',''))\n",
    "    "
   ]
  },
  {
   "cell_type": "code",
   "execution_count": 93,
   "id": "142636d1",
   "metadata": {},
   "outputs": [],
   "source": [
    "rating = []\n",
    "for i in soup.find_all('div',{'class':'restnt-rating rating-4'}):\n",
    "    rating.append(i.text)"
   ]
  },
  {
   "cell_type": "code",
   "execution_count": 94,
   "id": "b8efd25f",
   "metadata": {},
   "outputs": [],
   "source": [
    "location = []\n",
    "for i in soup.find_all('div',{'class':'restnt-loc ellipsis'}):\n",
    "    location.append(i.text)"
   ]
  },
  {
   "cell_type": "code",
   "execution_count": 95,
   "id": "a5b3a456",
   "metadata": {},
   "outputs": [],
   "source": [
    "soup = BeautifulSoup(re.text, 'html.parser')\n",
    " \n",
    "images = soup.find_all('img')\n",
    "#print(images)"
   ]
  },
  {
   "cell_type": "code",
   "execution_count": 96,
   "id": "b0628d4b",
   "metadata": {},
   "outputs": [],
   "source": [
    "img = []\n",
    " \n",
    "for image in images:\n",
    "    img.append(image.get('src'))\n",
    "    "
   ]
  },
  {
   "cell_type": "code",
   "execution_count": 97,
   "id": "73fce0cc",
   "metadata": {},
   "outputs": [],
   "source": [
    "del img[2:26]"
   ]
  },
  {
   "cell_type": "code",
   "execution_count": 98,
   "id": "4549bf5c",
   "metadata": {},
   "outputs": [],
   "source": [
    "del img[1:3]"
   ]
  },
  {
   "cell_type": "code",
   "execution_count": 99,
   "id": "815f222c",
   "metadata": {},
   "outputs": [
    {
     "data": {
      "text/html": [
       "<div>\n",
       "<style scoped>\n",
       "    .dataframe tbody tr th:only-of-type {\n",
       "        vertical-align: middle;\n",
       "    }\n",
       "\n",
       "    .dataframe tbody tr th {\n",
       "        vertical-align: top;\n",
       "    }\n",
       "\n",
       "    .dataframe thead th {\n",
       "        text-align: right;\n",
       "    }\n",
       "</style>\n",
       "<table border=\"1\" class=\"dataframe\">\n",
       "  <thead>\n",
       "    <tr style=\"text-align: right;\">\n",
       "      <th></th>\n",
       "      <th>Name</th>\n",
       "      <th>Cuisines</th>\n",
       "      <th>Location</th>\n",
       "      <th>Rating</th>\n",
       "      <th>Images</th>\n",
       "    </tr>\n",
       "  </thead>\n",
       "  <tbody>\n",
       "    <tr>\n",
       "      <th>0</th>\n",
       "      <td>Castle BarbequeConnaught Place, Central Delhi</td>\n",
       "      <td>₹ 2,000  Chinese, North Indian</td>\n",
       "      <td>Connaught Place, Central Delhi</td>\n",
       "      <td>4.1</td>\n",
       "      <td>https://im1.dineout.co.in/images/uploads/misc/...</td>\n",
       "    </tr>\n",
       "    <tr>\n",
       "      <th>1</th>\n",
       "      <td>Jungle Jamboree3CS Mall,Lajpat Nagar - 3, Sout...</td>\n",
       "      <td>₹ 1,680  North Indian, Asian, Italian</td>\n",
       "      <td>3CS Mall,Lajpat Nagar - 3, South Delhi</td>\n",
       "      <td>3.9</td>\n",
       "      <td>https://im1.dineout.co.in/images/uploads/misc/...</td>\n",
       "    </tr>\n",
       "    <tr>\n",
       "      <th>2</th>\n",
       "      <td>Castle BarbequePacific Mall,Tagore Garden, Wes...</td>\n",
       "      <td>₹ 2,000  Chinese, North Indian</td>\n",
       "      <td>Pacific Mall,Tagore Garden, West Delhi</td>\n",
       "      <td>3.9</td>\n",
       "      <td>https://im1.dineout.co.in/images/uploads/misc/...</td>\n",
       "    </tr>\n",
       "    <tr>\n",
       "      <th>3</th>\n",
       "      <td>Cafe KnoshThe Leela Ambience Convention Hotel,...</td>\n",
       "      <td>₹ 3,000  Italian, Continental</td>\n",
       "      <td>The Leela Ambience Convention Hotel,Shahdara, ...</td>\n",
       "      <td>4.3</td>\n",
       "      <td>https://www.facebook.com/tr?id=596761190430600...</td>\n",
       "    </tr>\n",
       "    <tr>\n",
       "      <th>4</th>\n",
       "      <td>The Barbeque CompanyGardens Galleria,Sector 38...</td>\n",
       "      <td>₹ 1,700  North Indian, Chinese</td>\n",
       "      <td>Gardens Galleria,Sector 38A, Noida</td>\n",
       "      <td>4</td>\n",
       "      <td>http://b.scorecardresearch.com/p?c1=2&amp;c2=60364...</td>\n",
       "    </tr>\n",
       "    <tr>\n",
       "      <th>5</th>\n",
       "      <td>India GrillHilton Garden Inn,Saket, South Delhi</td>\n",
       "      <td>₹ 2,400  North Indian, Italian</td>\n",
       "      <td>Hilton Garden Inn,Saket, South Delhi</td>\n",
       "      <td>3.9</td>\n",
       "      <td>https://im1.dineout.co.in/images/uploads/misc/...</td>\n",
       "    </tr>\n",
       "    <tr>\n",
       "      <th>6</th>\n",
       "      <td>Delhi BarbequeTaurus Sarovar Portico,Mahipalpu...</td>\n",
       "      <td>₹ 1,800  North Indian</td>\n",
       "      <td>Taurus Sarovar Portico,Mahipalpur, South Delhi</td>\n",
       "      <td>3.7</td>\n",
       "      <td>https://sp.analytics.yahoo.com/spp.pl?a=10000&amp;...</td>\n",
       "    </tr>\n",
       "    <tr>\n",
       "      <th>7</th>\n",
       "      <td>The Monarch - Bar Be Que VillageIndirapuram Ha...</td>\n",
       "      <td>₹ 1,900  North Indian</td>\n",
       "      <td>Indirapuram Habitat Centre,Indirapuram, Ghaziabad</td>\n",
       "      <td>3.8</td>\n",
       "      <td>//googleads.g.doubleclick.net/pagead/viewthrou...</td>\n",
       "    </tr>\n",
       "  </tbody>\n",
       "</table>\n",
       "</div>"
      ],
      "text/plain": [
       "                                                Name  \\\n",
       "0      Castle BarbequeConnaught Place, Central Delhi   \n",
       "1  Jungle Jamboree3CS Mall,Lajpat Nagar - 3, Sout...   \n",
       "2  Castle BarbequePacific Mall,Tagore Garden, Wes...   \n",
       "3  Cafe KnoshThe Leela Ambience Convention Hotel,...   \n",
       "4  The Barbeque CompanyGardens Galleria,Sector 38...   \n",
       "5    India GrillHilton Garden Inn,Saket, South Delhi   \n",
       "6  Delhi BarbequeTaurus Sarovar Portico,Mahipalpu...   \n",
       "7  The Monarch - Bar Be Que VillageIndirapuram Ha...   \n",
       "\n",
       "                                Cuisines  \\\n",
       "0         ₹ 2,000  Chinese, North Indian   \n",
       "1  ₹ 1,680  North Indian, Asian, Italian   \n",
       "2         ₹ 2,000  Chinese, North Indian   \n",
       "3          ₹ 3,000  Italian, Continental   \n",
       "4         ₹ 1,700  North Indian, Chinese   \n",
       "5         ₹ 2,400  North Indian, Italian   \n",
       "6                  ₹ 1,800  North Indian   \n",
       "7                  ₹ 1,900  North Indian   \n",
       "\n",
       "                                            Location Rating  \\\n",
       "0                     Connaught Place, Central Delhi    4.1   \n",
       "1             3CS Mall,Lajpat Nagar - 3, South Delhi    3.9   \n",
       "2             Pacific Mall,Tagore Garden, West Delhi    3.9   \n",
       "3  The Leela Ambience Convention Hotel,Shahdara, ...    4.3   \n",
       "4                 Gardens Galleria,Sector 38A, Noida      4   \n",
       "5               Hilton Garden Inn,Saket, South Delhi    3.9   \n",
       "6     Taurus Sarovar Portico,Mahipalpur, South Delhi    3.7   \n",
       "7  Indirapuram Habitat Centre,Indirapuram, Ghaziabad    3.8   \n",
       "\n",
       "                                              Images  \n",
       "0  https://im1.dineout.co.in/images/uploads/misc/...  \n",
       "1  https://im1.dineout.co.in/images/uploads/misc/...  \n",
       "2  https://im1.dineout.co.in/images/uploads/misc/...  \n",
       "3  https://www.facebook.com/tr?id=596761190430600...  \n",
       "4  http://b.scorecardresearch.com/p?c1=2&c2=60364...  \n",
       "5  https://im1.dineout.co.in/images/uploads/misc/...  \n",
       "6  https://sp.analytics.yahoo.com/spp.pl?a=10000&...  \n",
       "7  //googleads.g.doubleclick.net/pagead/viewthrou...  "
      ]
     },
     "execution_count": 99,
     "metadata": {},
     "output_type": "execute_result"
    }
   ],
   "source": [
    "data = list(zip(restro_name,cuisines,location,rating,img))\n",
    "df = pd.DataFrame(data,columns=['Name','Cuisines','Location','Rating','Images'])\n",
    "df"
   ]
  },
  {
   "cell_type": "code",
   "execution_count": null,
   "id": "6ed862ef",
   "metadata": {},
   "outputs": [],
   "source": []
  },
  {
   "cell_type": "code",
   "execution_count": null,
   "id": "68a21d1b",
   "metadata": {},
   "outputs": [],
   "source": []
  },
  {
   "cell_type": "code",
   "execution_count": null,
   "id": "ab534a34",
   "metadata": {},
   "outputs": [],
   "source": []
  },
  {
   "cell_type": "code",
   "execution_count": null,
   "id": "51445b58",
   "metadata": {},
   "outputs": [],
   "source": []
  },
  {
   "cell_type": "markdown",
   "id": "1cbcc4e0",
   "metadata": {},
   "source": [
    "## 10) Write a python program to scrape the details of top publications from Google Scholar from\n",
    "https://scholar.google.com/citations?view_op=top_venues&hl=en\n",
    "#### i) Rank\n",
    "#### ii) Publication\n",
    "#### iii) h5-index\n",
    " #### iv) h5-median"
   ]
  },
  {
   "cell_type": "code",
   "execution_count": 6,
   "id": "540a66c6",
   "metadata": {},
   "outputs": [],
   "source": [
    "url = \"https://scholar.google.com/citations?view_op=top_venues&hl=en\""
   ]
  },
  {
   "cell_type": "code",
   "execution_count": 7,
   "id": "3c9cf730",
   "metadata": {},
   "outputs": [
    {
     "data": {
      "text/plain": [
       "<Response [200]>"
      ]
     },
     "execution_count": 7,
     "metadata": {},
     "output_type": "execute_result"
    }
   ],
   "source": [
    "re = requests.get(url)\n",
    "re"
   ]
  },
  {
   "cell_type": "code",
   "execution_count": 21,
   "id": "0fde8696",
   "metadata": {},
   "outputs": [],
   "source": [
    "soup = BeautifulSoup(re.content, 'html.parser')"
   ]
  },
  {
   "cell_type": "code",
   "execution_count": 22,
   "id": "4c1391ba",
   "metadata": {},
   "outputs": [],
   "source": [
    "# creating empty lists\n",
    "rank = []\n",
    "publication = []\n",
    "h5_index = []\n",
    "h5_median = []"
   ]
  },
  {
   "cell_type": "code",
   "execution_count": 23,
   "id": "443b8bd2",
   "metadata": {},
   "outputs": [],
   "source": [
    "# Scraping Rank\n",
    "for i in soup.find_all('td',class_=\"gsc_mvt_p\"):\n",
    "    rank.append(i.text)"
   ]
  },
  {
   "cell_type": "code",
   "execution_count": null,
   "id": "241d48f1",
   "metadata": {},
   "outputs": [],
   "source": []
  },
  {
   "cell_type": "code",
   "execution_count": 27,
   "id": "72af4bae",
   "metadata": {},
   "outputs": [],
   "source": [
    "# Scraping for publication\n",
    "for i in soup.find_all('td',class_=\"gsc_mvt_t\"):\n",
    "    publication.append(i.text)\n"
   ]
  },
  {
   "cell_type": "code",
   "execution_count": null,
   "id": "c6793751",
   "metadata": {},
   "outputs": [],
   "source": []
  },
  {
   "cell_type": "code",
   "execution_count": 29,
   "id": "85e9b45f",
   "metadata": {},
   "outputs": [],
   "source": [
    "# Scraping h5_index\n",
    "for i in soup.find_all('td',class_=\"gsc_mvt_n\"):\n",
    "    h5_index.append(i.text)"
   ]
  },
  {
   "cell_type": "code",
   "execution_count": 30,
   "id": "ed75a489",
   "metadata": {},
   "outputs": [],
   "source": [
    "# Scraping h5_median\n",
    "for i in soup.find_all('td',class_=\"gsc_mvt_n\"):\n",
    "    h5_median.append(i.text)"
   ]
  },
  {
   "cell_type": "code",
   "execution_count": 31,
   "id": "72798172",
   "metadata": {},
   "outputs": [
    {
     "data": {
      "text/html": [
       "<div>\n",
       "<style scoped>\n",
       "    .dataframe tbody tr th:only-of-type {\n",
       "        vertical-align: middle;\n",
       "    }\n",
       "\n",
       "    .dataframe tbody tr th {\n",
       "        vertical-align: top;\n",
       "    }\n",
       "\n",
       "    .dataframe thead th {\n",
       "        text-align: right;\n",
       "    }\n",
       "</style>\n",
       "<table border=\"1\" class=\"dataframe\">\n",
       "  <thead>\n",
       "    <tr style=\"text-align: right;\">\n",
       "      <th></th>\n",
       "      <th>Rank</th>\n",
       "      <th>Publication</th>\n",
       "      <th>h5-Index</th>\n",
       "      <th>h5-Median</th>\n",
       "    </tr>\n",
       "  </thead>\n",
       "  <tbody>\n",
       "    <tr>\n",
       "      <th>0</th>\n",
       "      <td>1.</td>\n",
       "      <td>Nature</td>\n",
       "      <td>444</td>\n",
       "      <td>444</td>\n",
       "    </tr>\n",
       "    <tr>\n",
       "      <th>1</th>\n",
       "      <td>2.</td>\n",
       "      <td>The New England Journal of Medicine</td>\n",
       "      <td>667</td>\n",
       "      <td>667</td>\n",
       "    </tr>\n",
       "    <tr>\n",
       "      <th>2</th>\n",
       "      <td>3.</td>\n",
       "      <td>Science</td>\n",
       "      <td>432</td>\n",
       "      <td>432</td>\n",
       "    </tr>\n",
       "    <tr>\n",
       "      <th>3</th>\n",
       "      <td>4.</td>\n",
       "      <td>IEEE/CVF Conference on Computer Vision and Pat...</td>\n",
       "      <td>780</td>\n",
       "      <td>780</td>\n",
       "    </tr>\n",
       "    <tr>\n",
       "      <th>4</th>\n",
       "      <td>5.</td>\n",
       "      <td>The Lancet</td>\n",
       "      <td>401</td>\n",
       "      <td>401</td>\n",
       "    </tr>\n",
       "    <tr>\n",
       "      <th>...</th>\n",
       "      <td>...</td>\n",
       "      <td>...</td>\n",
       "      <td>...</td>\n",
       "      <td>...</td>\n",
       "    </tr>\n",
       "    <tr>\n",
       "      <th>95</th>\n",
       "      <td>96.</td>\n",
       "      <td>Journal of Business Research</td>\n",
       "      <td>296</td>\n",
       "      <td>296</td>\n",
       "    </tr>\n",
       "    <tr>\n",
       "      <th>96</th>\n",
       "      <td>97.</td>\n",
       "      <td>Molecular Cancer</td>\n",
       "      <td>173</td>\n",
       "      <td>173</td>\n",
       "    </tr>\n",
       "    <tr>\n",
       "      <th>97</th>\n",
       "      <td>98.</td>\n",
       "      <td>Sensors</td>\n",
       "      <td>228</td>\n",
       "      <td>228</td>\n",
       "    </tr>\n",
       "    <tr>\n",
       "      <th>98</th>\n",
       "      <td>99.</td>\n",
       "      <td>Nature Climate Change</td>\n",
       "      <td>173</td>\n",
       "      <td>173</td>\n",
       "    </tr>\n",
       "    <tr>\n",
       "      <th>99</th>\n",
       "      <td>100.</td>\n",
       "      <td>IEEE Internet of Things Journal</td>\n",
       "      <td>217</td>\n",
       "      <td>217</td>\n",
       "    </tr>\n",
       "  </tbody>\n",
       "</table>\n",
       "<p>100 rows × 4 columns</p>\n",
       "</div>"
      ],
      "text/plain": [
       "    Rank                                        Publication h5-Index h5-Median\n",
       "0     1.                                             Nature      444       444\n",
       "1     2.                The New England Journal of Medicine      667       667\n",
       "2     3.                                            Science      432       432\n",
       "3     4.  IEEE/CVF Conference on Computer Vision and Pat...      780       780\n",
       "4     5.                                         The Lancet      401       401\n",
       "..   ...                                                ...      ...       ...\n",
       "95   96.                       Journal of Business Research      296       296\n",
       "96   97.                                   Molecular Cancer      173       173\n",
       "97   98.                                            Sensors      228       228\n",
       "98   99.                              Nature Climate Change      173       173\n",
       "99  100.                    IEEE Internet of Things Journal      217       217\n",
       "\n",
       "[100 rows x 4 columns]"
      ]
     },
     "execution_count": 31,
     "metadata": {},
     "output_type": "execute_result"
    }
   ],
   "source": [
    "# Creating dataframe\n",
    "data = list(zip(rank,publication,h5_index,h5_median))\n",
    "df = pd.DataFrame(data, columns=['Rank','Publication','h5-Index','h5-Median'])\n",
    "df"
   ]
  },
  {
   "cell_type": "code",
   "execution_count": null,
   "id": "1f78e125",
   "metadata": {},
   "outputs": [],
   "source": []
  }
 ],
 "metadata": {
  "kernelspec": {
   "display_name": "Python 3 (ipykernel)",
   "language": "python",
   "name": "python3"
  },
  "language_info": {
   "codemirror_mode": {
    "name": "ipython",
    "version": 3
   },
   "file_extension": ".py",
   "mimetype": "text/x-python",
   "name": "python",
   "nbconvert_exporter": "python",
   "pygments_lexer": "ipython3",
   "version": "3.11.0"
  }
 },
 "nbformat": 4,
 "nbformat_minor": 5
}
